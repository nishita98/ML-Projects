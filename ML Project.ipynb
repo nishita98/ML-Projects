{
 "cells": [
  {
   "cell_type": "code",
   "execution_count": 1,
   "id": "9c04963f",
   "metadata": {},
   "outputs": [],
   "source": [
    "%config IPCompleter.greedy=True"
   ]
  },
  {
   "cell_type": "markdown",
   "id": "566048e6",
   "metadata": {},
   "source": [
    "# Importing Libraries"
   ]
  },
  {
   "cell_type": "code",
   "execution_count": 2,
   "id": "0fbd6d22",
   "metadata": {},
   "outputs": [
    {
     "name": "stderr",
     "output_type": "stream",
     "text": [
      "[nltk_data] Downloading package stopwords to\n",
      "[nltk_data]     C:\\Users\\user\\AppData\\Roaming\\nltk_data...\n",
      "[nltk_data]   Package stopwords is already up-to-date!\n",
      "[nltk_data] Downloading package wordnet to\n",
      "[nltk_data]     C:\\Users\\user\\AppData\\Roaming\\nltk_data...\n",
      "[nltk_data]   Package wordnet is already up-to-date!\n",
      "[nltk_data] Downloading package punkt to\n",
      "[nltk_data]     C:\\Users\\user\\AppData\\Roaming\\nltk_data...\n",
      "[nltk_data]   Package punkt is already up-to-date!\n"
     ]
    }
   ],
   "source": [
    "import numpy as np\n",
    "import pandas as pd\n",
    "import seaborn as sns\n",
    "import matplotlib.pyplot as plt\n",
    "from wordcloud import WordCloud, STOPWORDS\n",
    "from sklearn.feature_extraction.text import CountVectorizer\n",
    "from sklearn.feature_extraction.text import TfidfVectorizer\n",
    "from sklearn.model_selection import train_test_split\n",
    "import re\n",
    "import nltk\n",
    "from nltk.corpus import stopwords\n",
    "nltk.download('stopwords')\n",
    "from nltk.stem import WordNetLemmatizer\n",
    "nltk.download('wordnet')\n",
    "from nltk.tokenize import word_tokenize\n",
    "from nltk.tokenize import sent_tokenize\n",
    "nltk.download('punkt')\n",
    "import pickle\n",
    "from sklearn import metrics\n",
    "from sklearn.metrics import confusion_matrix\n",
    "from sklearn.metrics import classification_report\n",
    "from sklearn.linear_model import LogisticRegression\n",
    "from sklearn.svm import SVC\n",
    "from sklearn.model_selection import cross_val_score\n",
    "from sklearn.model_selection import KFold\n",
    "import keras\n",
    "from keras.models import Sequential\n",
    "from keras.preprocessing.text import Tokenizer\n",
    "from keras import layers\n",
    "from keras.optimizers import SGD\n",
    "from keras_preprocessing.sequence import pad_sequences\n",
    "import tensorflow as tf\n",
    "from tensorflow.keras import regularizers"
   ]
  },
  {
   "cell_type": "code",
   "execution_count": 3,
   "id": "4d61c8b8",
   "metadata": {},
   "outputs": [
    {
     "name": "stdout",
     "output_type": "stream",
     "text": [
      "WARNING:tensorflow:From C:\\Users\\user\\AppData\\Local\\Temp/ipykernel_8760/3670704970.py:3: The name tf.keras.backend.set_session is deprecated. Please use tf.compat.v1.keras.backend.set_session instead.\n",
      "\n"
     ]
    }
   ],
   "source": [
    "session_conf = tf.compat.v1.ConfigProto( intra_op_parallelism_threads=1, inter_op_parallelism_threads=1 )\n",
    "sess = tf.compat.v1.Session( graph=tf.compat.v1.get_default_graph(), config=session_conf )\n",
    "tf.compat.v1.keras.backend.set_session(sess)"
   ]
  },
  {
   "cell_type": "markdown",
   "id": "06b68abc",
   "metadata": {},
   "source": [
    "# Understanding and exploring data"
   ]
  },
  {
   "cell_type": "markdown",
   "id": "5c0b80f5",
   "metadata": {},
   "source": [
    "## Data understanding and cleaning\n",
    "\n",
    "<span style=\"color:red\">Step 2</span>"
   ]
  },
  {
   "cell_type": "code",
   "execution_count": 4,
   "id": "87c41efe",
   "metadata": {},
   "outputs": [],
   "source": [
    "# Step 2\n",
    "\n",
    "data = pd.read_csv('21201394.csv')"
   ]
  },
  {
   "cell_type": "code",
   "execution_count": 5,
   "id": "e85b6a1b",
   "metadata": {},
   "outputs": [
    {
     "data": {
      "text/html": [
       "<div>\n",
       "<style scoped>\n",
       "    .dataframe tbody tr th:only-of-type {\n",
       "        vertical-align: middle;\n",
       "    }\n",
       "\n",
       "    .dataframe tbody tr th {\n",
       "        vertical-align: top;\n",
       "    }\n",
       "\n",
       "    .dataframe thead th {\n",
       "        text-align: right;\n",
       "    }\n",
       "</style>\n",
       "<table border=\"1\" class=\"dataframe\">\n",
       "  <thead>\n",
       "    <tr style=\"text-align: right;\">\n",
       "      <th></th>\n",
       "      <th>Unnamed: 0</th>\n",
       "      <th>category</th>\n",
       "      <th>headline</th>\n",
       "      <th>authors</th>\n",
       "      <th>link</th>\n",
       "      <th>short_description</th>\n",
       "      <th>date</th>\n",
       "    </tr>\n",
       "  </thead>\n",
       "  <tbody>\n",
       "    <tr>\n",
       "      <th>0</th>\n",
       "      <td>0</td>\n",
       "      <td>HOME &amp; LIVING</td>\n",
       "      <td>Six Expert Tricks For Decorating Small Spaces</td>\n",
       "      <td>NaN</td>\n",
       "      <td>https://www.huffingtonpost.comhttp://www.eliza...</td>\n",
       "      <td>Need a space fix? Don't we all. With most of u...</td>\n",
       "      <td>2013-09-27</td>\n",
       "    </tr>\n",
       "    <tr>\n",
       "      <th>1</th>\n",
       "      <td>1</td>\n",
       "      <td>HOME &amp; LIVING</td>\n",
       "      <td>This DIY Tent Is Perfect For Campers Who Don't...</td>\n",
       "      <td>Michelle Manetti</td>\n",
       "      <td>https://www.huffingtonpost.com/entry/diy-tent-...</td>\n",
       "      <td>See this project featured on 4 Men 1 Lady, and...</td>\n",
       "      <td>2013-07-22</td>\n",
       "    </tr>\n",
       "    <tr>\n",
       "      <th>2</th>\n",
       "      <td>2</td>\n",
       "      <td>WELLNESS</td>\n",
       "      <td>The Therapeutic Alliance: The Essential Ingred...</td>\n",
       "      <td>Deborah L. Cabaniss, MD, Contributor\\nProfesso...</td>\n",
       "      <td>https://www.huffingtonpost.com/entry/therapeut...</td>\n",
       "      <td>The anxiety of trying to change something as c...</td>\n",
       "      <td>2012-05-31</td>\n",
       "    </tr>\n",
       "    <tr>\n",
       "      <th>3</th>\n",
       "      <td>3</td>\n",
       "      <td>WELLNESS</td>\n",
       "      <td>Where Do You Follow Your Nose?</td>\n",
       "      <td>Maureen Anderson, Contributor\\nMaureen Anderso...</td>\n",
       "      <td>https://www.huffingtonpost.com/entry/life-less...</td>\n",
       "      <td>I hadn't realized how powerful scent was until...</td>\n",
       "      <td>2014-03-31</td>\n",
       "    </tr>\n",
       "    <tr>\n",
       "      <th>4</th>\n",
       "      <td>4</td>\n",
       "      <td>WELLNESS</td>\n",
       "      <td>10 Holiday Shopping Guidelines for the Soul</td>\n",
       "      <td>Dr. Judith Rich, Contributor\\nContributor</td>\n",
       "      <td>https://www.huffingtonpost.com/entry/holiday-s...</td>\n",
       "      <td>With a personal history of compulsive holiday ...</td>\n",
       "      <td>2012-11-28</td>\n",
       "    </tr>\n",
       "  </tbody>\n",
       "</table>\n",
       "</div>"
      ],
      "text/plain": [
       "   Unnamed: 0       category  \\\n",
       "0           0  HOME & LIVING   \n",
       "1           1  HOME & LIVING   \n",
       "2           2       WELLNESS   \n",
       "3           3       WELLNESS   \n",
       "4           4       WELLNESS   \n",
       "\n",
       "                                            headline  \\\n",
       "0      Six Expert Tricks For Decorating Small Spaces   \n",
       "1  This DIY Tent Is Perfect For Campers Who Don't...   \n",
       "2  The Therapeutic Alliance: The Essential Ingred...   \n",
       "3                     Where Do You Follow Your Nose?   \n",
       "4        10 Holiday Shopping Guidelines for the Soul   \n",
       "\n",
       "                                             authors  \\\n",
       "0                                                NaN   \n",
       "1                                   Michelle Manetti   \n",
       "2  Deborah L. Cabaniss, MD, Contributor\\nProfesso...   \n",
       "3  Maureen Anderson, Contributor\\nMaureen Anderso...   \n",
       "4          Dr. Judith Rich, Contributor\\nContributor   \n",
       "\n",
       "                                                link  \\\n",
       "0  https://www.huffingtonpost.comhttp://www.eliza...   \n",
       "1  https://www.huffingtonpost.com/entry/diy-tent-...   \n",
       "2  https://www.huffingtonpost.com/entry/therapeut...   \n",
       "3  https://www.huffingtonpost.com/entry/life-less...   \n",
       "4  https://www.huffingtonpost.com/entry/holiday-s...   \n",
       "\n",
       "                                   short_description        date  \n",
       "0  Need a space fix? Don't we all. With most of u...  2013-09-27  \n",
       "1  See this project featured on 4 Men 1 Lady, and...  2013-07-22  \n",
       "2  The anxiety of trying to change something as c...  2012-05-31  \n",
       "3  I hadn't realized how powerful scent was until...  2014-03-31  \n",
       "4  With a personal history of compulsive holiday ...  2012-11-28  "
      ]
     },
     "execution_count": 5,
     "metadata": {},
     "output_type": "execute_result"
    }
   ],
   "source": [
    "data.head()"
   ]
  },
  {
   "cell_type": "code",
   "execution_count": 6,
   "id": "96ddfe60",
   "metadata": {},
   "outputs": [
    {
     "name": "stdout",
     "output_type": "stream",
     "text": [
      "WELLNESS         5985\n",
      "HOME & LIVING    1995\n",
      "Name: category, dtype: int64\n"
     ]
    },
    {
     "data": {
      "text/plain": [
       "Text(0, 0.5, 'Count')"
      ]
     },
     "execution_count": 6,
     "metadata": {},
     "output_type": "execute_result"
    },
    {
     "data": {
      "image/png": "[encoded data removed]",
      "text/plain": [
       "<Figure size 576x360 with 1 Axes>"
      ]
     },
     "metadata": {
      "needs_background": "light"
     },
     "output_type": "display_data"
    }
   ],
   "source": [
    "# I can observe the data imbalance using the value_counts func\n",
    "\n",
    "print(data['category'].value_counts())\n",
    "plt.figure(figsize=(8,5))\n",
    "ax = sns.countplot(x=\"category\", data=data)\n",
    "ax.set_xlabel(\"Category\", fontsize=12)\n",
    "ax.set_ylabel(\"Count\", fontsize=12)"
   ]
  },
  {
   "cell_type": "code",
   "execution_count": 7,
   "id": "fe0c8521",
   "metadata": {},
   "outputs": [],
   "source": [
    "# dropping un-nessary columns\n",
    "# Dropped unnamed: 0 as already index is present\n",
    "# Dropped link column as had repeated headline information with unique url id's\n",
    "\n",
    "data.drop(['Unnamed: 0', 'link'], axis=1, inplace=True)"
   ]
  },
  {
   "cell_type": "code",
   "execution_count": 8,
   "id": "fa8171aa",
   "metadata": {},
   "outputs": [
    {
     "name": "stdout",
     "output_type": "stream",
     "text": [
      "<class 'pandas.core.frame.DataFrame'>\n",
      "RangeIndex: 8000 entries, 0 to 7999\n",
      "Data columns (total 5 columns):\n",
      " #   Column             Non-Null Count  Dtype \n",
      "---  ------             --------------  ----- \n",
      " 0   category           7980 non-null   object\n",
      " 1   headline           7991 non-null   object\n",
      " 2   authors            5924 non-null   object\n",
      " 3   short_description  7979 non-null   object\n",
      " 4   date               7985 non-null   object\n",
      "dtypes: object(5)\n",
      "memory usage: 312.6+ KB\n"
     ]
    }
   ],
   "source": [
    "# knowing structure of the data columns\n",
    "\n",
    "data.info()"
   ]
  },
  {
   "cell_type": "code",
   "execution_count": 9,
   "id": "247d1fc5",
   "metadata": {},
   "outputs": [
    {
     "data": {
      "text/plain": [
       "Index(['category', 'headline', 'authors', 'short_description', 'date'], dtype='object')"
      ]
     },
     "execution_count": 9,
     "metadata": {},
     "output_type": "execute_result"
    }
   ],
   "source": [
    "# knowing columns\n",
    "\n",
    "data.columns"
   ]
  },
  {
   "cell_type": "code",
   "execution_count": 10,
   "id": "c3c5d599",
   "metadata": {},
   "outputs": [
    {
     "data": {
      "text/plain": [
       "(8000, 5)"
      ]
     },
     "execution_count": 10,
     "metadata": {},
     "output_type": "execute_result"
    }
   ],
   "source": [
    "# knowing size of the dataset\n",
    "\n",
    "data.shape"
   ]
  },
  {
   "cell_type": "code",
   "execution_count": 11,
   "id": "6872f255",
   "metadata": {},
   "outputs": [
    {
     "data": {
      "text/plain": [
       "category               20\n",
       "headline                9\n",
       "authors              2076\n",
       "short_description      21\n",
       "date                   15\n",
       "dtype: int64"
      ]
     },
     "execution_count": 11,
     "metadata": {},
     "output_type": "execute_result"
    }
   ],
   "source": [
    "data.isnull().sum()"
   ]
  },
  {
   "cell_type": "markdown",
   "id": "58656ab7",
   "metadata": {},
   "source": [
    "<span style=\"color:red\">Step 3 (iii)</span>"
   ]
  },
  {
   "cell_type": "code",
   "execution_count": 12,
   "id": "03bc0e86",
   "metadata": {},
   "outputs": [
    {
     "data": {
      "text/plain": [
       "category                0\n",
       "headline                0\n",
       "authors              2060\n",
       "short_description       0\n",
       "date                   15\n",
       "dtype: int64"
      ]
     },
     "execution_count": 12,
     "metadata": {},
     "output_type": "execute_result"
    }
   ],
   "source": [
    "# Step 3 i, ii are below.\n",
    "# There are many null records in the data and if I will drop them all then the size of the dataset would be affected badly\n",
    "# Therefore, according to my observation, I will remove null records based on the potential independent columns only i.e. \"headline\", \"short_description\" and based on dependent column i.e. \"category\"\n",
    "# dropping null records in the category, headline and short description columns \n",
    "\n",
    "data = data.dropna(subset=['category','headline','short_description'])\n",
    "data.isnull().sum()"
   ]
  },
  {
   "cell_type": "code",
   "execution_count": 13,
   "id": "1a5c2ff2",
   "metadata": {},
   "outputs": [],
   "source": [
    "# replacing null author names with a blank value\n",
    "\n",
    "data[\"authors\"].fillna(\"\", inplace = True)\n"
   ]
  },
  {
   "cell_type": "code",
   "execution_count": 14,
   "id": "b15ea0c1",
   "metadata": {},
   "outputs": [],
   "source": [
    "# dropping duplicates record\n",
    "\n",
    "data = data.drop_duplicates()"
   ]
  },
  {
   "cell_type": "code",
   "execution_count": 15,
   "id": "3cb62a3d",
   "metadata": {},
   "outputs": [],
   "source": [
    "# adding CategoryId column for Categories to get it's numerical representation for ML modelling\n",
    "# Home & Living denoted as 0\n",
    "# Wellness denoted as 1\n",
    "# Source: https://www.statology.org/pandas-factorize/\n",
    "\n",
    "data['CategoryId'] = data['category'].factorize()[0]"
   ]
  },
  {
   "cell_type": "code",
   "execution_count": 16,
   "id": "be882636",
   "metadata": {},
   "outputs": [
    {
     "data": {
      "text/plain": [
       "(7949, 6)"
      ]
     },
     "execution_count": 16,
     "metadata": {},
     "output_type": "execute_result"
    }
   ],
   "source": [
    "#knowing shape after data preparation\n",
    "\n",
    "data.shape"
   ]
  },
  {
   "cell_type": "code",
   "execution_count": 17,
   "id": "455d06a1",
   "metadata": {},
   "outputs": [
    {
     "data": {
      "text/html": [
       "<div>\n",
       "<style scoped>\n",
       "    .dataframe tbody tr th:only-of-type {\n",
       "        vertical-align: middle;\n",
       "    }\n",
       "\n",
       "    .dataframe tbody tr th {\n",
       "        vertical-align: top;\n",
       "    }\n",
       "\n",
       "    .dataframe thead th {\n",
       "        text-align: right;\n",
       "    }\n",
       "</style>\n",
       "<table border=\"1\" class=\"dataframe\">\n",
       "  <thead>\n",
       "    <tr style=\"text-align: right;\">\n",
       "      <th></th>\n",
       "      <th>category</th>\n",
       "      <th>headline</th>\n",
       "      <th>authors</th>\n",
       "      <th>short_description</th>\n",
       "      <th>date</th>\n",
       "      <th>CategoryId</th>\n",
       "    </tr>\n",
       "  </thead>\n",
       "  <tbody>\n",
       "    <tr>\n",
       "      <th>0</th>\n",
       "      <td>HOME &amp; LIVING</td>\n",
       "      <td>Six Expert Tricks For Decorating Small Spaces</td>\n",
       "      <td></td>\n",
       "      <td>Need a space fix? Don't we all. With most of u...</td>\n",
       "      <td>2013-09-27</td>\n",
       "      <td>0</td>\n",
       "    </tr>\n",
       "    <tr>\n",
       "      <th>1</th>\n",
       "      <td>HOME &amp; LIVING</td>\n",
       "      <td>This DIY Tent Is Perfect For Campers Who Don't...</td>\n",
       "      <td>Michelle Manetti</td>\n",
       "      <td>See this project featured on 4 Men 1 Lady, and...</td>\n",
       "      <td>2013-07-22</td>\n",
       "      <td>0</td>\n",
       "    </tr>\n",
       "    <tr>\n",
       "      <th>2</th>\n",
       "      <td>WELLNESS</td>\n",
       "      <td>The Therapeutic Alliance: The Essential Ingred...</td>\n",
       "      <td>Deborah L. Cabaniss, MD, Contributor\\nProfesso...</td>\n",
       "      <td>The anxiety of trying to change something as c...</td>\n",
       "      <td>2012-05-31</td>\n",
       "      <td>1</td>\n",
       "    </tr>\n",
       "    <tr>\n",
       "      <th>3</th>\n",
       "      <td>WELLNESS</td>\n",
       "      <td>Where Do You Follow Your Nose?</td>\n",
       "      <td>Maureen Anderson, Contributor\\nMaureen Anderso...</td>\n",
       "      <td>I hadn't realized how powerful scent was until...</td>\n",
       "      <td>2014-03-31</td>\n",
       "      <td>1</td>\n",
       "    </tr>\n",
       "    <tr>\n",
       "      <th>4</th>\n",
       "      <td>WELLNESS</td>\n",
       "      <td>10 Holiday Shopping Guidelines for the Soul</td>\n",
       "      <td>Dr. Judith Rich, Contributor\\nContributor</td>\n",
       "      <td>With a personal history of compulsive holiday ...</td>\n",
       "      <td>2012-11-28</td>\n",
       "      <td>1</td>\n",
       "    </tr>\n",
       "    <tr>\n",
       "      <th>5</th>\n",
       "      <td>WELLNESS</td>\n",
       "      <td>Enough Is Enough</td>\n",
       "      <td>Dr. Michele Nealon, Contributor\\nPresident, Th...</td>\n",
       "      <td>We simply cannot continue to cut access to men...</td>\n",
       "      <td>2012-12-20</td>\n",
       "      <td>1</td>\n",
       "    </tr>\n",
       "    <tr>\n",
       "      <th>6</th>\n",
       "      <td>WELLNESS</td>\n",
       "      <td>Lights Go On -- Part XII -- The Golden Core</td>\n",
       "      <td>Thomas Bähler, Contributor\\nBest Selling Autho...</td>\n",
       "      <td>Now, standing alone in the middle of this empt...</td>\n",
       "      <td>2013-10-01</td>\n",
       "      <td>1</td>\n",
       "    </tr>\n",
       "    <tr>\n",
       "      <th>7</th>\n",
       "      <td>HOME &amp; LIVING</td>\n",
       "      <td>'Up In The Air Somewhere's' Gold Point Vessel ...</td>\n",
       "      <td>Ecofabulous, Ecofabulous</td>\n",
       "      <td>It's especially handy for those stray paper cl...</td>\n",
       "      <td>2013-04-18</td>\n",
       "      <td>0</td>\n",
       "    </tr>\n",
       "    <tr>\n",
       "      <th>8</th>\n",
       "      <td>HOME &amp; LIVING</td>\n",
       "      <td>5 Great Housewarming Gift Ideas</td>\n",
       "      <td></td>\n",
       "      <td>There were 4.65 million homes bought last year...</td>\n",
       "      <td>2013-08-07</td>\n",
       "      <td>0</td>\n",
       "    </tr>\n",
       "    <tr>\n",
       "      <th>9</th>\n",
       "      <td>HOME &amp; LIVING</td>\n",
       "      <td>How to Organize Your Bedside Table for Better ...</td>\n",
       "      <td>Brooks Palmer, Contributor\\nDe-cluttering expert</td>\n",
       "      <td>Our well-being is dependent on how well we res...</td>\n",
       "      <td>2013-01-23</td>\n",
       "      <td>0</td>\n",
       "    </tr>\n",
       "    <tr>\n",
       "      <th>10</th>\n",
       "      <td>HOME &amp; LIVING</td>\n",
       "      <td>Chris Maynard's Feather Art On Reddit Is Havin...</td>\n",
       "      <td>Michelle Manetti</td>\n",
       "      <td>Seriously.</td>\n",
       "      <td>2012-12-21</td>\n",
       "      <td>0</td>\n",
       "    </tr>\n",
       "    <tr>\n",
       "      <th>11</th>\n",
       "      <td>HOME &amp; LIVING</td>\n",
       "      <td>Hanukkah Craft Ideas: Embellished Numbered Nap...</td>\n",
       "      <td>Amy Marturana</td>\n",
       "      <td>These napkins are a breeze to make</td>\n",
       "      <td>2012-11-27</td>\n",
       "      <td>0</td>\n",
       "    </tr>\n",
       "    <tr>\n",
       "      <th>12</th>\n",
       "      <td>WELLNESS</td>\n",
       "      <td>Prevnar 13, Pneumonia Vaccine, Approved For Ki...</td>\n",
       "      <td>Reuters, Reuters</td>\n",
       "      <td>Jan 25 (Reuters) - Pfizer Inc on Friday said U...</td>\n",
       "      <td>2013-01-25</td>\n",
       "      <td>1</td>\n",
       "    </tr>\n",
       "    <tr>\n",
       "      <th>13</th>\n",
       "      <td>WELLNESS</td>\n",
       "      <td>How To Exercise Outside With Spring Allergies</td>\n",
       "      <td></td>\n",
       "      <td>Cover your hair. Lynn says it's key to wear a ...</td>\n",
       "      <td>2014-03-24</td>\n",
       "      <td>1</td>\n",
       "    </tr>\n",
       "    <tr>\n",
       "      <th>14</th>\n",
       "      <td>HOME &amp; LIVING</td>\n",
       "      <td>Craft Of The Day: Make This Decoupaged Light S...</td>\n",
       "      <td>Nicole Guzzardi</td>\n",
       "      <td>Photo by Jones Design Company. Make your ordin...</td>\n",
       "      <td>2012-05-29</td>\n",
       "      <td>0</td>\n",
       "    </tr>\n",
       "    <tr>\n",
       "      <th>15</th>\n",
       "      <td>WELLNESS</td>\n",
       "      <td>Including Children at Funerals</td>\n",
       "      <td>Hollye Harrington Jacobs, Contributor\\nSpeaker...</td>\n",
       "      <td>It is important to prepare children for what t...</td>\n",
       "      <td>2012-03-20</td>\n",
       "      <td>1</td>\n",
       "    </tr>\n",
       "    <tr>\n",
       "      <th>16</th>\n",
       "      <td>WELLNESS</td>\n",
       "      <td>Weight Loss Could Decrease Estrogen, A Known R...</td>\n",
       "      <td></td>\n",
       "      <td>Researchers noted that there's a generally kno...</td>\n",
       "      <td>2012-05-22</td>\n",
       "      <td>1</td>\n",
       "    </tr>\n",
       "    <tr>\n",
       "      <th>17</th>\n",
       "      <td>HOME &amp; LIVING</td>\n",
       "      <td>We Talk Endlessly About the Next President, Bu...</td>\n",
       "      <td>Judi Roaman, Contributor\\nContributing Editor,...</td>\n",
       "      <td>Artist Brian Tolle takes our most significant ...</td>\n",
       "      <td>2012-10-11</td>\n",
       "      <td>0</td>\n",
       "    </tr>\n",
       "    <tr>\n",
       "      <th>18</th>\n",
       "      <td>WELLNESS</td>\n",
       "      <td>Raw Milk Sickened 148 In Campylobacter Outbrea...</td>\n",
       "      <td></td>\n",
       "      <td>The report, which details what happened during...</td>\n",
       "      <td>2013-05-06</td>\n",
       "      <td>1</td>\n",
       "    </tr>\n",
       "    <tr>\n",
       "      <th>19</th>\n",
       "      <td>HOME &amp; LIVING</td>\n",
       "      <td>Tiny Home For Under $12,000 Would Be The Perfe...</td>\n",
       "      <td>Michelle Manetti</td>\n",
       "      <td>Take a peek inside a small retreat that has al...</td>\n",
       "      <td>2013-03-21</td>\n",
       "      <td>0</td>\n",
       "    </tr>\n",
       "  </tbody>\n",
       "</table>\n",
       "</div>"
      ],
      "text/plain": [
       "         category                                           headline  \\\n",
       "0   HOME & LIVING      Six Expert Tricks For Decorating Small Spaces   \n",
       "1   HOME & LIVING  This DIY Tent Is Perfect For Campers Who Don't...   \n",
       "2        WELLNESS  The Therapeutic Alliance: The Essential Ingred...   \n",
       "3        WELLNESS                     Where Do You Follow Your Nose?   \n",
       "4        WELLNESS        10 Holiday Shopping Guidelines for the Soul   \n",
       "5        WELLNESS                                   Enough Is Enough   \n",
       "6        WELLNESS        Lights Go On -- Part XII -- The Golden Core   \n",
       "7   HOME & LIVING  'Up In The Air Somewhere's' Gold Point Vessel ...   \n",
       "8   HOME & LIVING                    5 Great Housewarming Gift Ideas   \n",
       "9   HOME & LIVING  How to Organize Your Bedside Table for Better ...   \n",
       "10  HOME & LIVING  Chris Maynard's Feather Art On Reddit Is Havin...   \n",
       "11  HOME & LIVING  Hanukkah Craft Ideas: Embellished Numbered Nap...   \n",
       "12       WELLNESS  Prevnar 13, Pneumonia Vaccine, Approved For Ki...   \n",
       "13       WELLNESS      How To Exercise Outside With Spring Allergies   \n",
       "14  HOME & LIVING  Craft Of The Day: Make This Decoupaged Light S...   \n",
       "15       WELLNESS                     Including Children at Funerals   \n",
       "16       WELLNESS  Weight Loss Could Decrease Estrogen, A Known R...   \n",
       "17  HOME & LIVING  We Talk Endlessly About the Next President, Bu...   \n",
       "18       WELLNESS  Raw Milk Sickened 148 In Campylobacter Outbrea...   \n",
       "19  HOME & LIVING  Tiny Home For Under $12,000 Would Be The Perfe...   \n",
       "\n",
       "                                              authors  \\\n",
       "0                                                       \n",
       "1                                    Michelle Manetti   \n",
       "2   Deborah L. Cabaniss, MD, Contributor\\nProfesso...   \n",
       "3   Maureen Anderson, Contributor\\nMaureen Anderso...   \n",
       "4           Dr. Judith Rich, Contributor\\nContributor   \n",
       "5   Dr. Michele Nealon, Contributor\\nPresident, Th...   \n",
       "6   Thomas Bähler, Contributor\\nBest Selling Autho...   \n",
       "7                            Ecofabulous, Ecofabulous   \n",
       "8                                                       \n",
       "9    Brooks Palmer, Contributor\\nDe-cluttering expert   \n",
       "10                                   Michelle Manetti   \n",
       "11                                      Amy Marturana   \n",
       "12                                   Reuters, Reuters   \n",
       "13                                                      \n",
       "14                                    Nicole Guzzardi   \n",
       "15  Hollye Harrington Jacobs, Contributor\\nSpeaker...   \n",
       "16                                                      \n",
       "17  Judi Roaman, Contributor\\nContributing Editor,...   \n",
       "18                                                      \n",
       "19                                   Michelle Manetti   \n",
       "\n",
       "                                    short_description        date  CategoryId  \n",
       "0   Need a space fix? Don't we all. With most of u...  2013-09-27           0  \n",
       "1   See this project featured on 4 Men 1 Lady, and...  2013-07-22           0  \n",
       "2   The anxiety of trying to change something as c...  2012-05-31           1  \n",
       "3   I hadn't realized how powerful scent was until...  2014-03-31           1  \n",
       "4   With a personal history of compulsive holiday ...  2012-11-28           1  \n",
       "5   We simply cannot continue to cut access to men...  2012-12-20           1  \n",
       "6   Now, standing alone in the middle of this empt...  2013-10-01           1  \n",
       "7   It's especially handy for those stray paper cl...  2013-04-18           0  \n",
       "8   There were 4.65 million homes bought last year...  2013-08-07           0  \n",
       "9   Our well-being is dependent on how well we res...  2013-01-23           0  \n",
       "10                                         Seriously.  2012-12-21           0  \n",
       "11                 These napkins are a breeze to make  2012-11-27           0  \n",
       "12  Jan 25 (Reuters) - Pfizer Inc on Friday said U...  2013-01-25           1  \n",
       "13  Cover your hair. Lynn says it's key to wear a ...  2014-03-24           1  \n",
       "14  Photo by Jones Design Company. Make your ordin...  2012-05-29           0  \n",
       "15  It is important to prepare children for what t...  2012-03-20           1  \n",
       "16  Researchers noted that there's a generally kno...  2012-05-22           1  \n",
       "17  Artist Brian Tolle takes our most significant ...  2012-10-11           0  \n",
       "18  The report, which details what happened during...  2013-05-06           1  \n",
       "19  Take a peek inside a small retreat that has al...  2013-03-21           0  "
      ]
     },
     "execution_count": 17,
     "metadata": {},
     "output_type": "execute_result"
    }
   ],
   "source": [
    "data.head(20)"
   ]
  },
  {
   "cell_type": "markdown",
   "id": "34fd1094",
   "metadata": {},
   "source": [
    "## Data exploration"
   ]
  },
  {
   "cell_type": "markdown",
   "id": "bdaae3dc",
   "metadata": {},
   "source": [
    "### Create and Fit Bag of Words Model to find most common words\n",
    "\n",
    "<span style=\"color:red\">Step 3 (i)</span>"
   ]
  },
  {
   "cell_type": "code",
   "execution_count": 18,
   "id": "e146fa9d",
   "metadata": {},
   "outputs": [],
   "source": [
    "\n",
    "# Finding words more common for each category using countvectorizer\n",
    "vectorizer = CountVectorizer(stop_words='english')\n",
    "\n",
    "# Week D10W1 (combination of all steps in a function)\n",
    "def countVectorize(desc):\n",
    "    description = vectorizer.fit_transform(desc)\n",
    "    tokens_and_counts = zip(vectorizer.get_feature_names_out(), np.asarray(description.sum(axis=0)).ravel())\n",
    "    df_tokens = pd.DataFrame(tokens_and_counts, columns=['Token', 'Count'])\n",
    "    df_tokens.sort_values(\"Count\", ascending=False, inplace=True)\n",
    "    df_tokens.reset_index(inplace=True, drop=True)\n",
    "    #Most Popular Tokens\n",
    "    most_popular_tokens = df_tokens.nlargest(columns=\"Count\", n=20)\n",
    "    return most_popular_tokens\n"
   ]
  },
  {
   "cell_type": "markdown",
   "id": "ae666065",
   "metadata": {},
   "source": [
    "<span style=\"color:red\">Step3 (ii) Column Selection</span>"
   ]
  },
  {
   "cell_type": "code",
   "execution_count": 19,
   "id": "1dd53310",
   "metadata": {},
   "outputs": [
    {
     "name": "stdout",
     "output_type": "stream",
     "text": [
      "Mean sentence length: Wellness ->  225.66476701307408\n",
      "Mean sentence length: Home & Living ->  171.89813414019162\n",
      "WELLNESS > HOME & LIVING\n"
     ]
    }
   ],
   "source": [
    "# Reason:\n",
    "# I think both the \"headline\" and \"short description\" columns contain important information to predict the correct topical category of the text.\n",
    "# Therefore, combining them and storing them as a new column \"description\" to perform necessary NLP pre-processing on one column only.\n",
    "# Also,\n",
    "# I didn't include \"authors\" column as the same author can publish articles for both the categories and if I will perform tokenization on author name then many authors have same first names which will lead to incorrect analysis of categories.\n",
    "# And didn't include \"date\" column as I cannot see a useful pattern in dates of publishing.\n",
    "\n",
    "data[\"description\"]=data[\"headline\"]+\" \"+data[\"short_description\"]\n",
    "wellness=data[data[\"category\"]==\"WELLNESS\"][\"description\"]\n",
    "living=data[data[\"category\"]==\"HOME & LIVING\"][\"description\"]\n",
    "\n",
    "#Mean sentence length for both the categories\n",
    "mean_len_wellness = wellness.str.len().mean()\n",
    "mean_len_living = living.str.len().mean()\n",
    "\n",
    "print(\"Mean sentence length: Wellness -> \",mean_len_wellness)\n",
    "print(\"Mean sentence length: Home & Living -> \", mean_len_living)\n",
    "print(\"WELLNESS > HOME & LIVING\")"
   ]
  },
  {
   "cell_type": "markdown",
   "id": "af4f1974",
   "metadata": {},
   "source": [
    "### Creating wordcloud representation"
   ]
  },
  {
   "cell_type": "code",
   "execution_count": 20,
   "id": "cfa257ec",
   "metadata": {},
   "outputs": [],
   "source": [
    "# Source: https://re-thought.com/creating-wordclouds-in-python/\n",
    "\n",
    "def make_wordcloud(text):\n",
    "    wordcloud = WordCloud(width=600, height=600).generate(text)\n",
    "    plt.figure(figsize = (10,10))\n",
    "    plt.imshow(wordcloud)\n",
    "    plt.axis(\"off\")\n",
    "    plt.show()"
   ]
  },
  {
   "cell_type": "markdown",
   "id": "114e7012",
   "metadata": {},
   "source": [
    "###  Most popular keywords in wellness category"
   ]
  },
  {
   "cell_type": "code",
   "execution_count": 21,
   "id": "45391904",
   "metadata": {},
   "outputs": [
    {
     "name": "stdout",
     "output_type": "stream",
     "text": [
      "Most popular keywords in wellness category:\n",
      "       Token  Count\n",
      "0      life    870\n",
      "1    health    795\n",
      "2    people    684\n",
      "3      time    654\n",
      "4       new    594\n",
      "5     study    573\n",
      "6      make    465\n",
      "7      like    444\n",
      "8       day    439\n",
      "9    cancer    437\n",
      "10    sleep    433\n",
      "11     love    426\n",
      "12     just    421\n",
      "13   weight    380\n",
      "14  healthy    377\n",
      "15      don    365\n",
      "16     need    359\n",
      "17      way    356\n",
      "18     help    350\n",
      "19     know    343\n",
      "---------------------------------------------\n",
      "Wellness Top Wordcloud:\n"
     ]
    },
    {
     "data": {
      "image/png": "[encoded data removed]",
      "text/plain": [
       "<Figure size 720x720 with 1 Axes>"
      ]
     },
     "metadata": {
      "needs_background": "light"
     },
     "output_type": "display_data"
    }
   ],
   "source": [
    "print(\"Most popular keywords in wellness category:\\n\",countVectorize(wellness))\n",
    "df_new=countVectorize(wellness).to_csv('wellness_df',header=None)\n",
    "df_wellness=pd.read_csv('wellness_df')\n",
    "print(\"---------------------------------------------\\nWellness Top Wordcloud:\")\n",
    "make_wordcloud(str(df_wellness))"
   ]
  },
  {
   "cell_type": "markdown",
   "id": "5642be30",
   "metadata": {},
   "source": [
    "###  Most popular keywords in home and living category"
   ]
  },
  {
   "cell_type": "code",
   "execution_count": 22,
   "id": "b96a9605",
   "metadata": {},
   "outputs": [
    {
     "name": "stdout",
     "output_type": "stream",
     "text": [
      "Most popular keywords in home and living category:\n",
      "      Token  Count\n",
      "0     home    806\n",
      "1   photos    691\n",
      "2      day    219\n",
      "3     make    208\n",
      "4    ideas    200\n",
      "5    house    196\n",
      "6    video    195\n",
      "7      new    193\n",
      "8     time    143\n",
      "9     just    137\n",
      "10    like    134\n",
      "11     diy    133\n",
      "12   craft    129\n",
      "13   photo    125\n",
      "14  design    115\n",
      "15   check    114\n",
      "16    room    113\n",
      "17      ll    109\n",
      "18      10    108\n",
      "19    tips    106\n",
      "------------------------------------------------\n",
      "Home & Living Top Wordcloud:\n"
     ]
    },
    {
     "data": {
      "image/png": "[encoded data removed]",
      "text/plain": [
       "<Figure size 720x720 with 1 Axes>"
      ]
     },
     "metadata": {
      "needs_background": "light"
     },
     "output_type": "display_data"
    }
   ],
   "source": [
    "print(\"Most popular keywords in home and living category:\\n\",countVectorize(living))\n",
    "hliving_top_words=countVectorize(living).to_csv('df_hliving',header=None)\n",
    "df_hliving=pd.read_csv('df_hliving')\n",
    "print(\"------------------------------------------------\\nHome & Living Top Wordcloud:\")\n",
    "make_wordcloud(str(df_hliving))"
   ]
  },
  {
   "cell_type": "markdown",
   "id": "26da7367",
   "metadata": {},
   "source": [
    "# Data Preparation "
   ]
  },
  {
   "cell_type": "markdown",
   "id": "938ae5fd",
   "metadata": {},
   "source": [
    "### Declared Dependent and Independent Value\n",
    "\n",
    "<span style=\"color:red\">Step 4</span>"
   ]
  },
  {
   "cell_type": "code",
   "execution_count": 23,
   "id": "dbf19ac8",
   "metadata": {},
   "outputs": [],
   "source": [
    "\n",
    "# X is the independent variable\n",
    "# y is the dependent variable\n",
    "X = data.loc[:,\"description\"]\n",
    "y = data.loc[:,\"CategoryId\"]\n"
   ]
  },
  {
   "cell_type": "markdown",
   "id": "3b89b6c1",
   "metadata": {},
   "source": [
    "### Split the dataset into train, valid, test "
   ]
  },
  {
   "cell_type": "code",
   "execution_count": 24,
   "id": "ce483a61",
   "metadata": {},
   "outputs": [],
   "source": [
    "# I am dividing the dataset on the best approach suggested generally i.e. training = 70%, vaild = 15%, test = 15% of dataset as it's not a very large dataset.\n",
    "# Source: https://www.v7labs.com/blog/train-validation-test-set\n",
    "# In this step, I will first split the dataset into train_plus_valid and test dataset.\n",
    "# Then split train_plus_valid into train dataset and valid dataset.\n",
    "\n",
    "X_train_plus_valid, X_test, y_train_plus_valid, y_test = train_test_split(X, y, random_state=0, test_size = 0.15, train_size = 0.85)\n",
    "X_train, X_valid, y_train, y_valid = train_test_split(X_train_plus_valid, y_train_plus_valid, random_state=0, test_size = 0.15/0.85, train_size = 0.7/0.85)"
   ]
  },
  {
   "cell_type": "code",
   "execution_count": 25,
   "id": "dd3a5144",
   "metadata": {},
   "outputs": [
    {
     "name": "stdout",
     "output_type": "stream",
     "text": [
      "(5563,)\n",
      "(1193,)\n",
      "(1193,)\n"
     ]
    }
   ],
   "source": [
    "print(X_train.shape)\n",
    "print(X_valid.shape)\n",
    "print(X_test.shape)"
   ]
  },
  {
   "cell_type": "markdown",
   "id": "e11e96a3",
   "metadata": {},
   "source": [
    "### Concatenating and saving csv files for train, validation, test dataset"
   ]
  },
  {
   "cell_type": "code",
   "execution_count": 26,
   "id": "97ee31bf",
   "metadata": {},
   "outputs": [
    {
     "data": {
      "text/html": [
       "<div>\n",
       "<style scoped>\n",
       "    .dataframe tbody tr th:only-of-type {\n",
       "        vertical-align: middle;\n",
       "    }\n",
       "\n",
       "    .dataframe tbody tr th {\n",
       "        vertical-align: top;\n",
       "    }\n",
       "\n",
       "    .dataframe thead th {\n",
       "        text-align: right;\n",
       "    }\n",
       "</style>\n",
       "<table border=\"1\" class=\"dataframe\">\n",
       "  <thead>\n",
       "    <tr style=\"text-align: right;\">\n",
       "      <th></th>\n",
       "      <th>description</th>\n",
       "      <th>CategoryId</th>\n",
       "    </tr>\n",
       "  </thead>\n",
       "  <tbody>\n",
       "    <tr>\n",
       "      <th>3961</th>\n",
       "      <td>Despite New Study, Experts Still Warn Of Link ...</td>\n",
       "      <td>1</td>\n",
       "    </tr>\n",
       "    <tr>\n",
       "      <th>411</th>\n",
       "      <td>Weekly Roundup Of EBay Vintage Home Finds (PHO...</td>\n",
       "      <td>0</td>\n",
       "    </tr>\n",
       "    <tr>\n",
       "      <th>2759</th>\n",
       "      <td>Boston Named the Healthiest City in America Fo...</td>\n",
       "      <td>1</td>\n",
       "    </tr>\n",
       "    <tr>\n",
       "      <th>1198</th>\n",
       "      <td>After An Eye-Opening Shopping Experience, Alys...</td>\n",
       "      <td>1</td>\n",
       "    </tr>\n",
       "    <tr>\n",
       "      <th>842</th>\n",
       "      <td>A Look Inside 10 Fantastic First Homes House T...</td>\n",
       "      <td>0</td>\n",
       "    </tr>\n",
       "    <tr>\n",
       "      <th>...</th>\n",
       "      <td>...</td>\n",
       "      <td>...</td>\n",
       "    </tr>\n",
       "    <tr>\n",
       "      <th>2153</th>\n",
       "      <td>The Protagonist When you are a supporting char...</td>\n",
       "      <td>1</td>\n",
       "    </tr>\n",
       "    <tr>\n",
       "      <th>3070</th>\n",
       "      <td>Ziggy Marley Says 'Love Can Never Have A Negat...</td>\n",
       "      <td>1</td>\n",
       "    </tr>\n",
       "    <tr>\n",
       "      <th>3106</th>\n",
       "      <td>12 Surprising Facts About Pet Rats Contrary to...</td>\n",
       "      <td>1</td>\n",
       "    </tr>\n",
       "    <tr>\n",
       "      <th>1293</th>\n",
       "      <td>Make a Lamp Using Old Toys If your kid tends t...</td>\n",
       "      <td>0</td>\n",
       "    </tr>\n",
       "    <tr>\n",
       "      <th>2331</th>\n",
       "      <td>Quick Tip: How To Fit More In A Small Refriger...</td>\n",
       "      <td>0</td>\n",
       "    </tr>\n",
       "  </tbody>\n",
       "</table>\n",
       "<p>5563 rows × 2 columns</p>\n",
       "</div>"
      ],
      "text/plain": [
       "                                            description  CategoryId\n",
       "3961  Despite New Study, Experts Still Warn Of Link ...           1\n",
       "411   Weekly Roundup Of EBay Vintage Home Finds (PHO...           0\n",
       "2759  Boston Named the Healthiest City in America Fo...           1\n",
       "1198  After An Eye-Opening Shopping Experience, Alys...           1\n",
       "842   A Look Inside 10 Fantastic First Homes House T...           0\n",
       "...                                                 ...         ...\n",
       "2153  The Protagonist When you are a supporting char...           1\n",
       "3070  Ziggy Marley Says 'Love Can Never Have A Negat...           1\n",
       "3106  12 Surprising Facts About Pet Rats Contrary to...           1\n",
       "1293  Make a Lamp Using Old Toys If your kid tends t...           0\n",
       "2331  Quick Tip: How To Fit More In A Small Refriger...           0\n",
       "\n",
       "[5563 rows x 2 columns]"
      ]
     },
     "execution_count": 26,
     "metadata": {},
     "output_type": "execute_result"
    }
   ],
   "source": [
    "train_data = pd.concat([X_train,y_train], axis=1)\n",
    "train_data"
   ]
  },
  {
   "cell_type": "code",
   "execution_count": 27,
   "id": "bf9f461e",
   "metadata": {},
   "outputs": [],
   "source": [
    "train_data=train_data.to_csv('train.csv')"
   ]
  },
  {
   "cell_type": "code",
   "execution_count": 28,
   "id": "0922cc6a",
   "metadata": {},
   "outputs": [],
   "source": [
    "valid_data = pd.concat([X_valid,y_valid], axis=1)\n",
    "valid_data=valid_data.to_csv('valid.csv')"
   ]
  },
  {
   "cell_type": "code",
   "execution_count": 29,
   "id": "6b844b39",
   "metadata": {},
   "outputs": [],
   "source": [
    "test_data=pd.concat([X_test,y_test], axis=1)\n",
    "test_data=test_data.to_csv('test.csv')"
   ]
  },
  {
   "cell_type": "markdown",
   "id": "089fdaa7",
   "metadata": {},
   "source": [
    "### Pre-processing steps\n",
    "Our data is text input so to extract meaningful results we need to perform some necessary pre-processing. As better quality of data will generate better results from models. \n",
    " - Removing digits: When I searched the top words in each category, I found some numbers in it which is not                meaningful in predicting or differentiating the categories.\n",
    " - Removing tags: not useful\n",
    " - Removing special characters: not useful\n",
    " - Lowercasing text: helps with the consistency of expected output\n",
    " - Removing stopwords: do not provide meaningful information\n",
    " - Lemmatization: helps in grouping together the different inflected forms of a word. For e.g. \"health\" and \"healthy\"          to \"health\""
   ]
  },
  {
   "cell_type": "code",
   "execution_count": 30,
   "id": "595795f8",
   "metadata": {},
   "outputs": [],
   "source": [
    "# Source: https://www.studytonight.com/python-howtos/remove-numbers-from-string-in-python\n",
    "\n",
    "def remove_digits(text):\n",
    "    text = re.sub(r'[0-9]','',text)\n",
    "    return text\n"
   ]
  },
  {
   "cell_type": "code",
   "execution_count": 31,
   "id": "4adc4e0b",
   "metadata": {},
   "outputs": [],
   "source": [
    "# Source: https://www.analyticsvidhya.com/blog/2021/12/text-classification-of-news-articles/\n",
    "\n",
    "def remove_tags(text):    \n",
    "    remove = re.compile(r'')\n",
    "    text= re.sub(remove, '', text)\n",
    "    text = re.sub(r'[^\\w\\s]','',text)\n",
    "    return text\n",
    "\n",
    "def special_char(text):\n",
    "    reviews = ''\n",
    "    for x in text:\n",
    "        if x.isalnum():\n",
    "            reviews = reviews + x\n",
    "        else:\n",
    "            reviews = reviews + ' '\n",
    "    return reviews\n",
    "\n",
    "def convert_lower(text):\n",
    "    return text.lower()\n",
    "\n",
    "def remove_stopwords(text):\n",
    "    stop_words = set(stopwords.words('english'))\n",
    "    words = word_tokenize(text)\n",
    "    return [x for x in words if x not in stop_words]\n",
    "\n",
    "def lemmatize_word(text):\n",
    "    wordnet = WordNetLemmatizer()\n",
    "    return \" \".join([wordnet.lemmatize(word) for word in text])"
   ]
  },
  {
   "cell_type": "markdown",
   "id": "42eb1d46",
   "metadata": {},
   "source": [
    "### Loading train dataset to perform pre-processing steps on text \n",
    "\n",
    "<span style=\"color:red\">Step 5</span>"
   ]
  },
  {
   "cell_type": "code",
   "execution_count": 32,
   "id": "20b75634",
   "metadata": {},
   "outputs": [],
   "source": [
    "# The reason and choices for performing the pre-processing on data is mentioned above.\n",
    "\n",
    "train_data=pd.read_csv('train.csv')"
   ]
  },
  {
   "cell_type": "code",
   "execution_count": 33,
   "id": "cfe08303",
   "metadata": {},
   "outputs": [
    {
     "data": {
      "text/html": [
       "<div>\n",
       "<style scoped>\n",
       "    .dataframe tbody tr th:only-of-type {\n",
       "        vertical-align: middle;\n",
       "    }\n",
       "\n",
       "    .dataframe tbody tr th {\n",
       "        vertical-align: top;\n",
       "    }\n",
       "\n",
       "    .dataframe thead th {\n",
       "        text-align: right;\n",
       "    }\n",
       "</style>\n",
       "<table border=\"1\" class=\"dataframe\">\n",
       "  <thead>\n",
       "    <tr style=\"text-align: right;\">\n",
       "      <th></th>\n",
       "      <th>Unnamed: 0</th>\n",
       "      <th>description</th>\n",
       "      <th>CategoryId</th>\n",
       "    </tr>\n",
       "  </thead>\n",
       "  <tbody>\n",
       "    <tr>\n",
       "      <th>0</th>\n",
       "      <td>3961</td>\n",
       "      <td>Despite New Study, Experts Still Warn Of Link ...</td>\n",
       "      <td>1</td>\n",
       "    </tr>\n",
       "    <tr>\n",
       "      <th>1</th>\n",
       "      <td>411</td>\n",
       "      <td>Weekly Roundup Of EBay Vintage Home Finds (PHO...</td>\n",
       "      <td>0</td>\n",
       "    </tr>\n",
       "    <tr>\n",
       "      <th>2</th>\n",
       "      <td>2759</td>\n",
       "      <td>Boston Named the Healthiest City in America Fo...</td>\n",
       "      <td>1</td>\n",
       "    </tr>\n",
       "    <tr>\n",
       "      <th>3</th>\n",
       "      <td>1198</td>\n",
       "      <td>After An Eye-Opening Shopping Experience, Alys...</td>\n",
       "      <td>1</td>\n",
       "    </tr>\n",
       "    <tr>\n",
       "      <th>4</th>\n",
       "      <td>842</td>\n",
       "      <td>A Look Inside 10 Fantastic First Homes House T...</td>\n",
       "      <td>0</td>\n",
       "    </tr>\n",
       "    <tr>\n",
       "      <th>...</th>\n",
       "      <td>...</td>\n",
       "      <td>...</td>\n",
       "      <td>...</td>\n",
       "    </tr>\n",
       "    <tr>\n",
       "      <th>5558</th>\n",
       "      <td>2153</td>\n",
       "      <td>The Protagonist When you are a supporting char...</td>\n",
       "      <td>1</td>\n",
       "    </tr>\n",
       "    <tr>\n",
       "      <th>5559</th>\n",
       "      <td>3070</td>\n",
       "      <td>Ziggy Marley Says 'Love Can Never Have A Negat...</td>\n",
       "      <td>1</td>\n",
       "    </tr>\n",
       "    <tr>\n",
       "      <th>5560</th>\n",
       "      <td>3106</td>\n",
       "      <td>12 Surprising Facts About Pet Rats Contrary to...</td>\n",
       "      <td>1</td>\n",
       "    </tr>\n",
       "    <tr>\n",
       "      <th>5561</th>\n",
       "      <td>1293</td>\n",
       "      <td>Make a Lamp Using Old Toys If your kid tends t...</td>\n",
       "      <td>0</td>\n",
       "    </tr>\n",
       "    <tr>\n",
       "      <th>5562</th>\n",
       "      <td>2331</td>\n",
       "      <td>Quick Tip: How To Fit More In A Small Refriger...</td>\n",
       "      <td>0</td>\n",
       "    </tr>\n",
       "  </tbody>\n",
       "</table>\n",
       "<p>5563 rows × 3 columns</p>\n",
       "</div>"
      ],
      "text/plain": [
       "      Unnamed: 0                                        description  \\\n",
       "0           3961  Despite New Study, Experts Still Warn Of Link ...   \n",
       "1            411  Weekly Roundup Of EBay Vintage Home Finds (PHO...   \n",
       "2           2759  Boston Named the Healthiest City in America Fo...   \n",
       "3           1198  After An Eye-Opening Shopping Experience, Alys...   \n",
       "4            842  A Look Inside 10 Fantastic First Homes House T...   \n",
       "...          ...                                                ...   \n",
       "5558        2153  The Protagonist When you are a supporting char...   \n",
       "5559        3070  Ziggy Marley Says 'Love Can Never Have A Negat...   \n",
       "5560        3106  12 Surprising Facts About Pet Rats Contrary to...   \n",
       "5561        1293  Make a Lamp Using Old Toys If your kid tends t...   \n",
       "5562        2331  Quick Tip: How To Fit More In A Small Refriger...   \n",
       "\n",
       "      CategoryId  \n",
       "0              1  \n",
       "1              0  \n",
       "2              1  \n",
       "3              1  \n",
       "4              0  \n",
       "...          ...  \n",
       "5558           1  \n",
       "5559           1  \n",
       "5560           1  \n",
       "5561           0  \n",
       "5562           0  \n",
       "\n",
       "[5563 rows x 3 columns]"
      ]
     },
     "execution_count": 33,
     "metadata": {},
     "output_type": "execute_result"
    }
   ],
   "source": [
    "train_data"
   ]
  },
  {
   "cell_type": "code",
   "execution_count": 34,
   "id": "9c2405d9",
   "metadata": {},
   "outputs": [],
   "source": [
    "train_data.drop(['Unnamed: 0'], axis=1, inplace=True)"
   ]
  },
  {
   "cell_type": "code",
   "execution_count": 35,
   "id": "b60f875a",
   "metadata": {},
   "outputs": [
    {
     "data": {
      "text/html": [
       "<div>\n",
       "<style scoped>\n",
       "    .dataframe tbody tr th:only-of-type {\n",
       "        vertical-align: middle;\n",
       "    }\n",
       "\n",
       "    .dataframe tbody tr th {\n",
       "        vertical-align: top;\n",
       "    }\n",
       "\n",
       "    .dataframe thead th {\n",
       "        text-align: right;\n",
       "    }\n",
       "</style>\n",
       "<table border=\"1\" class=\"dataframe\">\n",
       "  <thead>\n",
       "    <tr style=\"text-align: right;\">\n",
       "      <th></th>\n",
       "      <th>description</th>\n",
       "      <th>CategoryId</th>\n",
       "    </tr>\n",
       "  </thead>\n",
       "  <tbody>\n",
       "    <tr>\n",
       "      <th>0</th>\n",
       "      <td>despite new study expert still warn link footb...</td>\n",
       "      <td>1</td>\n",
       "    </tr>\n",
       "    <tr>\n",
       "      <th>1</th>\n",
       "      <td>weekly roundup ebay vintage home find photo al...</td>\n",
       "      <td>0</td>\n",
       "    </tr>\n",
       "    <tr>\n",
       "      <th>2</th>\n",
       "      <td>boston named healthiest city america follow ne...</td>\n",
       "      <td>1</td>\n",
       "    </tr>\n",
       "    <tr>\n",
       "      <th>3</th>\n",
       "      <td>eyeopening shopping experience alyssa croteau ...</td>\n",
       "      <td>1</td>\n",
       "    </tr>\n",
       "    <tr>\n",
       "      <th>4</th>\n",
       "      <td>look inside fantastic first home house tour ro...</td>\n",
       "      <td>0</td>\n",
       "    </tr>\n",
       "    <tr>\n",
       "      <th>...</th>\n",
       "      <td>...</td>\n",
       "      <td>...</td>\n",
       "    </tr>\n",
       "    <tr>\n",
       "      <th>5558</th>\n",
       "      <td>protagonist supporting character life let othe...</td>\n",
       "      <td>1</td>\n",
       "    </tr>\n",
       "    <tr>\n",
       "      <th>5559</th>\n",
       "      <td>ziggy marley say love never negative effect po...</td>\n",
       "      <td>1</td>\n",
       "    </tr>\n",
       "    <tr>\n",
       "      <th>5560</th>\n",
       "      <td>surprising fact pet rat contrary many people b...</td>\n",
       "      <td>1</td>\n",
       "    </tr>\n",
       "    <tr>\n",
       "      <th>5561</th>\n",
       "      <td>make lamp using old toy kid tends get attached...</td>\n",
       "      <td>0</td>\n",
       "    </tr>\n",
       "    <tr>\n",
       "      <th>5562</th>\n",
       "      <td>quick tip fit small refrigerator rent rise maj...</td>\n",
       "      <td>0</td>\n",
       "    </tr>\n",
       "  </tbody>\n",
       "</table>\n",
       "<p>5563 rows × 2 columns</p>\n",
       "</div>"
      ],
      "text/plain": [
       "                                            description  CategoryId\n",
       "0     despite new study expert still warn link footb...           1\n",
       "1     weekly roundup ebay vintage home find photo al...           0\n",
       "2     boston named healthiest city america follow ne...           1\n",
       "3     eyeopening shopping experience alyssa croteau ...           1\n",
       "4     look inside fantastic first home house tour ro...           0\n",
       "...                                                 ...         ...\n",
       "5558  protagonist supporting character life let othe...           1\n",
       "5559  ziggy marley say love never negative effect po...           1\n",
       "5560  surprising fact pet rat contrary many people b...           1\n",
       "5561  make lamp using old toy kid tends get attached...           0\n",
       "5562  quick tip fit small refrigerator rent rise maj...           0\n",
       "\n",
       "[5563 rows x 2 columns]"
      ]
     },
     "execution_count": 35,
     "metadata": {},
     "output_type": "execute_result"
    }
   ],
   "source": [
    "train_data['description'] = train_data['description'].apply(remove_digits)\n",
    "train_data['description'] = train_data['description'].apply(remove_tags)\n",
    "train_data['description'] = train_data['description'].apply(special_char)\n",
    "train_data['description'] = train_data['description'].apply(convert_lower)\n",
    "train_data['description'] = train_data['description'].apply(remove_stopwords)\n",
    "train_data['description'] = train_data['description'].apply(lemmatize_word)\n",
    "train_data"
   ]
  },
  {
   "cell_type": "markdown",
   "id": "5c9e27e7",
   "metadata": {},
   "source": [
    "### Loading evaluation dataset to perform pre-processing steps on text \n",
    "\n",
    "<span style=\"color:red\">Step 5</span>"
   ]
  },
  {
   "cell_type": "code",
   "execution_count": 36,
   "id": "589e325a",
   "metadata": {},
   "outputs": [],
   "source": [
    "# The reason and choices for performing the pre-processing on data is mentioned above.\n",
    "\n",
    "valid_data=pd.read_csv('valid.csv')"
   ]
  },
  {
   "cell_type": "code",
   "execution_count": 37,
   "id": "2bab21aa",
   "metadata": {},
   "outputs": [
    {
     "data": {
      "text/html": [
       "<div>\n",
       "<style scoped>\n",
       "    .dataframe tbody tr th:only-of-type {\n",
       "        vertical-align: middle;\n",
       "    }\n",
       "\n",
       "    .dataframe tbody tr th {\n",
       "        vertical-align: top;\n",
       "    }\n",
       "\n",
       "    .dataframe thead th {\n",
       "        text-align: right;\n",
       "    }\n",
       "</style>\n",
       "<table border=\"1\" class=\"dataframe\">\n",
       "  <thead>\n",
       "    <tr style=\"text-align: right;\">\n",
       "      <th></th>\n",
       "      <th>Unnamed: 0</th>\n",
       "      <th>description</th>\n",
       "      <th>CategoryId</th>\n",
       "    </tr>\n",
       "  </thead>\n",
       "  <tbody>\n",
       "    <tr>\n",
       "      <th>0</th>\n",
       "      <td>6480</td>\n",
       "      <td>Desire/Acquire: Nautical Needlepoint We're suc...</td>\n",
       "      <td>0</td>\n",
       "    </tr>\n",
       "    <tr>\n",
       "      <th>1</th>\n",
       "      <td>930</td>\n",
       "      <td>Astrology Now: Thursday's New Moon Signals New...</td>\n",
       "      <td>1</td>\n",
       "    </tr>\n",
       "    <tr>\n",
       "      <th>2</th>\n",
       "      <td>3282</td>\n",
       "      <td>7 Signs of Emotional Wellness When I meet new ...</td>\n",
       "      <td>1</td>\n",
       "    </tr>\n",
       "    <tr>\n",
       "      <th>3</th>\n",
       "      <td>1128</td>\n",
       "      <td>Yoga and Qigong: Two Streams From a Single Sou...</td>\n",
       "      <td>1</td>\n",
       "    </tr>\n",
       "    <tr>\n",
       "      <th>4</th>\n",
       "      <td>1664</td>\n",
       "      <td>Controlling Blood Pressure, Cholesterol Could ...</td>\n",
       "      <td>1</td>\n",
       "    </tr>\n",
       "    <tr>\n",
       "      <th>...</th>\n",
       "      <td>...</td>\n",
       "      <td>...</td>\n",
       "      <td>...</td>\n",
       "    </tr>\n",
       "    <tr>\n",
       "      <th>1188</th>\n",
       "      <td>3723</td>\n",
       "      <td>Low-Calorie French Fries Recipe What if I told...</td>\n",
       "      <td>1</td>\n",
       "    </tr>\n",
       "    <tr>\n",
       "      <th>1189</th>\n",
       "      <td>4219</td>\n",
       "      <td>How to Make the Most of Your Life Transitions ...</td>\n",
       "      <td>1</td>\n",
       "    </tr>\n",
       "    <tr>\n",
       "      <th>1190</th>\n",
       "      <td>2979</td>\n",
       "      <td>Author Nicholas Sparks On The Key To Happiness...</td>\n",
       "      <td>1</td>\n",
       "    </tr>\n",
       "    <tr>\n",
       "      <th>1191</th>\n",
       "      <td>885</td>\n",
       "      <td>All Of These Homes Are $100,000 Or Less (PHOTO...</td>\n",
       "      <td>0</td>\n",
       "    </tr>\n",
       "    <tr>\n",
       "      <th>1192</th>\n",
       "      <td>1016</td>\n",
       "      <td>Happy Valentine's Day -- Are You Listening? He...</td>\n",
       "      <td>1</td>\n",
       "    </tr>\n",
       "  </tbody>\n",
       "</table>\n",
       "<p>1193 rows × 3 columns</p>\n",
       "</div>"
      ],
      "text/plain": [
       "      Unnamed: 0                                        description  \\\n",
       "0           6480  Desire/Acquire: Nautical Needlepoint We're suc...   \n",
       "1            930  Astrology Now: Thursday's New Moon Signals New...   \n",
       "2           3282  7 Signs of Emotional Wellness When I meet new ...   \n",
       "3           1128  Yoga and Qigong: Two Streams From a Single Sou...   \n",
       "4           1664  Controlling Blood Pressure, Cholesterol Could ...   \n",
       "...          ...                                                ...   \n",
       "1188        3723  Low-Calorie French Fries Recipe What if I told...   \n",
       "1189        4219  How to Make the Most of Your Life Transitions ...   \n",
       "1190        2979  Author Nicholas Sparks On The Key To Happiness...   \n",
       "1191         885  All Of These Homes Are $100,000 Or Less (PHOTO...   \n",
       "1192        1016  Happy Valentine's Day -- Are You Listening? He...   \n",
       "\n",
       "      CategoryId  \n",
       "0              0  \n",
       "1              1  \n",
       "2              1  \n",
       "3              1  \n",
       "4              1  \n",
       "...          ...  \n",
       "1188           1  \n",
       "1189           1  \n",
       "1190           1  \n",
       "1191           0  \n",
       "1192           1  \n",
       "\n",
       "[1193 rows x 3 columns]"
      ]
     },
     "execution_count": 37,
     "metadata": {},
     "output_type": "execute_result"
    }
   ],
   "source": [
    "valid_data"
   ]
  },
  {
   "cell_type": "code",
   "execution_count": 38,
   "id": "55e83adc",
   "metadata": {},
   "outputs": [],
   "source": [
    "valid_data.drop(['Unnamed: 0'], axis=1, inplace=True)"
   ]
  },
  {
   "cell_type": "code",
   "execution_count": 39,
   "id": "8c9942d7",
   "metadata": {},
   "outputs": [
    {
     "data": {
      "text/html": [
       "<div>\n",
       "<style scoped>\n",
       "    .dataframe tbody tr th:only-of-type {\n",
       "        vertical-align: middle;\n",
       "    }\n",
       "\n",
       "    .dataframe tbody tr th {\n",
       "        vertical-align: top;\n",
       "    }\n",
       "\n",
       "    .dataframe thead th {\n",
       "        text-align: right;\n",
       "    }\n",
       "</style>\n",
       "<table border=\"1\" class=\"dataframe\">\n",
       "  <thead>\n",
       "    <tr style=\"text-align: right;\">\n",
       "      <th></th>\n",
       "      <th>description</th>\n",
       "      <th>CategoryId</th>\n",
       "    </tr>\n",
       "  </thead>\n",
       "  <tbody>\n",
       "    <tr>\n",
       "      <th>0</th>\n",
       "      <td>desireacquire nautical needlepoint sucker jona...</td>\n",
       "      <td>0</td>\n",
       "    </tr>\n",
       "    <tr>\n",
       "      <th>1</th>\n",
       "      <td>astrology thursday new moon signal new beginni...</td>\n",
       "      <td>1</td>\n",
       "    </tr>\n",
       "    <tr>\n",
       "      <th>2</th>\n",
       "      <td>sign emotional wellness meet new people social...</td>\n",
       "      <td>1</td>\n",
       "    </tr>\n",
       "    <tr>\n",
       "      <th>3</th>\n",
       "      <td>yoga qigong two stream single source origin yo...</td>\n",
       "      <td>1</td>\n",
       "    </tr>\n",
       "    <tr>\n",
       "      <th>4</th>\n",
       "      <td>controlling blood pressure cholesterol could h...</td>\n",
       "      <td>1</td>\n",
       "    </tr>\n",
       "    <tr>\n",
       "      <th>...</th>\n",
       "      <td>...</td>\n",
       "      <td>...</td>\n",
       "    </tr>\n",
       "    <tr>\n",
       "      <th>1188</th>\n",
       "      <td>lowcalorie french fry recipe told could make h...</td>\n",
       "      <td>1</td>\n",
       "    </tr>\n",
       "    <tr>\n",
       "      <th>1189</th>\n",
       "      <td>make life transition transition wonderful oppo...</td>\n",
       "      <td>1</td>\n",
       "    </tr>\n",
       "    <tr>\n",
       "      <th>1190</th>\n",
       "      <td>author nicholas spark key happiness video matt...</td>\n",
       "      <td>1</td>\n",
       "    </tr>\n",
       "    <tr>\n",
       "      <th>1191</th>\n",
       "      <td>home le photo bring good news bargainhunting f...</td>\n",
       "      <td>0</td>\n",
       "    </tr>\n",
       "    <tr>\n",
       "      <th>1192</th>\n",
       "      <td>happy valentine day listening amazing focusing...</td>\n",
       "      <td>1</td>\n",
       "    </tr>\n",
       "  </tbody>\n",
       "</table>\n",
       "<p>1193 rows × 2 columns</p>\n",
       "</div>"
      ],
      "text/plain": [
       "                                            description  CategoryId\n",
       "0     desireacquire nautical needlepoint sucker jona...           0\n",
       "1     astrology thursday new moon signal new beginni...           1\n",
       "2     sign emotional wellness meet new people social...           1\n",
       "3     yoga qigong two stream single source origin yo...           1\n",
       "4     controlling blood pressure cholesterol could h...           1\n",
       "...                                                 ...         ...\n",
       "1188  lowcalorie french fry recipe told could make h...           1\n",
       "1189  make life transition transition wonderful oppo...           1\n",
       "1190  author nicholas spark key happiness video matt...           1\n",
       "1191  home le photo bring good news bargainhunting f...           0\n",
       "1192  happy valentine day listening amazing focusing...           1\n",
       "\n",
       "[1193 rows x 2 columns]"
      ]
     },
     "execution_count": 39,
     "metadata": {},
     "output_type": "execute_result"
    }
   ],
   "source": [
    "valid_data['description'] = valid_data['description'].apply(remove_digits)\n",
    "valid_data['description'] = valid_data['description'].apply(remove_tags)\n",
    "valid_data['description'] = valid_data['description'].apply(special_char)\n",
    "valid_data['description'] = valid_data['description'].apply(convert_lower)\n",
    "valid_data['description'] = valid_data['description'].apply(remove_stopwords)\n",
    "valid_data['description'] = valid_data['description'].apply(lemmatize_word)\n",
    "valid_data"
   ]
  },
  {
   "cell_type": "markdown",
   "id": "feb6e304",
   "metadata": {},
   "source": [
    "### Finding more common words for each target variable in training set"
   ]
  },
  {
   "cell_type": "code",
   "execution_count": 40,
   "id": "086efc6f",
   "metadata": {},
   "outputs": [
    {
     "name": "stdout",
     "output_type": "stream",
     "text": [
      "Trainset - Home & Living popular keywords:\n"
     ]
    },
    {
     "data": {
      "text/html": [
       "<div>\n",
       "<style scoped>\n",
       "    .dataframe tbody tr th:only-of-type {\n",
       "        vertical-align: middle;\n",
       "    }\n",
       "\n",
       "    .dataframe tbody tr th {\n",
       "        vertical-align: top;\n",
       "    }\n",
       "\n",
       "    .dataframe thead th {\n",
       "        text-align: right;\n",
       "    }\n",
       "</style>\n",
       "<table border=\"1\" class=\"dataframe\">\n",
       "  <thead>\n",
       "    <tr style=\"text-align: right;\">\n",
       "      <th></th>\n",
       "      <th>Token</th>\n",
       "      <th>Count</th>\n",
       "    </tr>\n",
       "  </thead>\n",
       "  <tbody>\n",
       "    <tr>\n",
       "      <th>0</th>\n",
       "      <td>home</td>\n",
       "      <td>598</td>\n",
       "    </tr>\n",
       "    <tr>\n",
       "      <th>1</th>\n",
       "      <td>photo</td>\n",
       "      <td>563</td>\n",
       "    </tr>\n",
       "    <tr>\n",
       "      <th>2</th>\n",
       "      <td>idea</td>\n",
       "      <td>191</td>\n",
       "    </tr>\n",
       "    <tr>\n",
       "      <th>3</th>\n",
       "      <td>day</td>\n",
       "      <td>182</td>\n",
       "    </tr>\n",
       "    <tr>\n",
       "      <th>4</th>\n",
       "      <td>make</td>\n",
       "      <td>157</td>\n",
       "    </tr>\n",
       "    <tr>\n",
       "      <th>5</th>\n",
       "      <td>house</td>\n",
       "      <td>146</td>\n",
       "    </tr>\n",
       "    <tr>\n",
       "      <th>6</th>\n",
       "      <td>video</td>\n",
       "      <td>142</td>\n",
       "    </tr>\n",
       "    <tr>\n",
       "      <th>7</th>\n",
       "      <td>way</td>\n",
       "      <td>131</td>\n",
       "    </tr>\n",
       "    <tr>\n",
       "      <th>8</th>\n",
       "      <td>new</td>\n",
       "      <td>121</td>\n",
       "    </tr>\n",
       "    <tr>\n",
       "      <th>9</th>\n",
       "      <td>tip</td>\n",
       "      <td>120</td>\n",
       "    </tr>\n",
       "    <tr>\n",
       "      <th>10</th>\n",
       "      <td>time</td>\n",
       "      <td>107</td>\n",
       "    </tr>\n",
       "    <tr>\n",
       "      <th>11</th>\n",
       "      <td>craft</td>\n",
       "      <td>97</td>\n",
       "    </tr>\n",
       "    <tr>\n",
       "      <th>12</th>\n",
       "      <td>look</td>\n",
       "      <td>94</td>\n",
       "    </tr>\n",
       "    <tr>\n",
       "      <th>13</th>\n",
       "      <td>diy</td>\n",
       "      <td>93</td>\n",
       "    </tr>\n",
       "    <tr>\n",
       "      <th>14</th>\n",
       "      <td>like</td>\n",
       "      <td>91</td>\n",
       "    </tr>\n",
       "    <tr>\n",
       "      <th>15</th>\n",
       "      <td>thing</td>\n",
       "      <td>79</td>\n",
       "    </tr>\n",
       "    <tr>\n",
       "      <th>16</th>\n",
       "      <td>room</td>\n",
       "      <td>78</td>\n",
       "    </tr>\n",
       "    <tr>\n",
       "      <th>17</th>\n",
       "      <td>check</td>\n",
       "      <td>78</td>\n",
       "    </tr>\n",
       "    <tr>\n",
       "      <th>18</th>\n",
       "      <td>space</td>\n",
       "      <td>77</td>\n",
       "    </tr>\n",
       "    <tr>\n",
       "      <th>19</th>\n",
       "      <td>say</td>\n",
       "      <td>76</td>\n",
       "    </tr>\n",
       "  </tbody>\n",
       "</table>\n",
       "</div>"
      ],
      "text/plain": [
       "    Token  Count\n",
       "0    home    598\n",
       "1   photo    563\n",
       "2    idea    191\n",
       "3     day    182\n",
       "4    make    157\n",
       "5   house    146\n",
       "6   video    142\n",
       "7     way    131\n",
       "8     new    121\n",
       "9     tip    120\n",
       "10   time    107\n",
       "11  craft     97\n",
       "12   look     94\n",
       "13    diy     93\n",
       "14   like     91\n",
       "15  thing     79\n",
       "16   room     78\n",
       "17  check     78\n",
       "18  space     77\n",
       "19    say     76"
      ]
     },
     "execution_count": 40,
     "metadata": {},
     "output_type": "execute_result"
    }
   ],
   "source": [
    "# to take a look at most common words after pre-processing\n",
    "\n",
    "print(\"Trainset - Home & Living popular keywords:\")\n",
    "countVectorize(train_data[train_data['CategoryId']==0]['description'])"
   ]
  },
  {
   "cell_type": "code",
   "execution_count": 41,
   "id": "9477cc28",
   "metadata": {},
   "outputs": [
    {
     "name": "stdout",
     "output_type": "stream",
     "text": [
      "Trainset - Wellness popular keywords:\n"
     ]
    },
    {
     "data": {
      "text/html": [
       "<div>\n",
       "<style scoped>\n",
       "    .dataframe tbody tr th:only-of-type {\n",
       "        vertical-align: middle;\n",
       "    }\n",
       "\n",
       "    .dataframe tbody tr th {\n",
       "        vertical-align: top;\n",
       "    }\n",
       "\n",
       "    .dataframe thead th {\n",
       "        text-align: right;\n",
       "    }\n",
       "</style>\n",
       "<table border=\"1\" class=\"dataframe\">\n",
       "  <thead>\n",
       "    <tr style=\"text-align: right;\">\n",
       "      <th></th>\n",
       "      <th>Token</th>\n",
       "      <th>Count</th>\n",
       "    </tr>\n",
       "  </thead>\n",
       "  <tbody>\n",
       "    <tr>\n",
       "      <th>0</th>\n",
       "      <td>life</td>\n",
       "      <td>700</td>\n",
       "    </tr>\n",
       "    <tr>\n",
       "      <th>1</th>\n",
       "      <td>health</td>\n",
       "      <td>542</td>\n",
       "    </tr>\n",
       "    <tr>\n",
       "      <th>2</th>\n",
       "      <td>time</td>\n",
       "      <td>498</td>\n",
       "    </tr>\n",
       "    <tr>\n",
       "      <th>3</th>\n",
       "      <td>study</td>\n",
       "      <td>469</td>\n",
       "    </tr>\n",
       "    <tr>\n",
       "      <th>4</th>\n",
       "      <td>people</td>\n",
       "      <td>465</td>\n",
       "    </tr>\n",
       "    <tr>\n",
       "      <th>5</th>\n",
       "      <td>way</td>\n",
       "      <td>451</td>\n",
       "    </tr>\n",
       "    <tr>\n",
       "      <th>6</th>\n",
       "      <td>make</td>\n",
       "      <td>406</td>\n",
       "    </tr>\n",
       "    <tr>\n",
       "      <th>7</th>\n",
       "      <td>new</td>\n",
       "      <td>402</td>\n",
       "    </tr>\n",
       "    <tr>\n",
       "      <th>8</th>\n",
       "      <td>day</td>\n",
       "      <td>398</td>\n",
       "    </tr>\n",
       "    <tr>\n",
       "      <th>9</th>\n",
       "      <td>year</td>\n",
       "      <td>344</td>\n",
       "    </tr>\n",
       "    <tr>\n",
       "      <th>10</th>\n",
       "      <td>thing</td>\n",
       "      <td>327</td>\n",
       "    </tr>\n",
       "    <tr>\n",
       "      <th>11</th>\n",
       "      <td>like</td>\n",
       "      <td>325</td>\n",
       "    </tr>\n",
       "    <tr>\n",
       "      <th>12</th>\n",
       "      <td>food</td>\n",
       "      <td>317</td>\n",
       "    </tr>\n",
       "    <tr>\n",
       "      <th>13</th>\n",
       "      <td>love</td>\n",
       "      <td>314</td>\n",
       "    </tr>\n",
       "    <tr>\n",
       "      <th>14</th>\n",
       "      <td>sleep</td>\n",
       "      <td>304</td>\n",
       "    </tr>\n",
       "    <tr>\n",
       "      <th>15</th>\n",
       "      <td>cancer</td>\n",
       "      <td>304</td>\n",
       "    </tr>\n",
       "    <tr>\n",
       "      <th>16</th>\n",
       "      <td>need</td>\n",
       "      <td>294</td>\n",
       "    </tr>\n",
       "    <tr>\n",
       "      <th>17</th>\n",
       "      <td>help</td>\n",
       "      <td>282</td>\n",
       "    </tr>\n",
       "    <tr>\n",
       "      <th>18</th>\n",
       "      <td>weight</td>\n",
       "      <td>262</td>\n",
       "    </tr>\n",
       "    <tr>\n",
       "      <th>19</th>\n",
       "      <td>healthy</td>\n",
       "      <td>250</td>\n",
       "    </tr>\n",
       "  </tbody>\n",
       "</table>\n",
       "</div>"
      ],
      "text/plain": [
       "      Token  Count\n",
       "0      life    700\n",
       "1    health    542\n",
       "2      time    498\n",
       "3     study    469\n",
       "4    people    465\n",
       "5       way    451\n",
       "6      make    406\n",
       "7       new    402\n",
       "8       day    398\n",
       "9      year    344\n",
       "10    thing    327\n",
       "11     like    325\n",
       "12     food    317\n",
       "13     love    314\n",
       "14    sleep    304\n",
       "15   cancer    304\n",
       "16     need    294\n",
       "17     help    282\n",
       "18   weight    262\n",
       "19  healthy    250"
      ]
     },
     "execution_count": 41,
     "metadata": {},
     "output_type": "execute_result"
    }
   ],
   "source": [
    "print(\"Trainset - Wellness popular keywords:\")\n",
    "countVectorize(train_data[train_data['CategoryId']==1]['description'])"
   ]
  },
  {
   "cell_type": "markdown",
   "id": "13105b5e",
   "metadata": {},
   "source": [
    "### Create and Fit Bag of Words Model using Tf-idf Vectorizer\n",
    "As the machine learning models work on numerically represented data therefore we need the vectorizer.\n",
    "- I chose TF-IDF vectorizer because it not only focuses on the frequency of words present in the corpus but also provides the importance of the words. Also, this technique is good for text classification or for helping a machine read words in numbers.\n",
    "- I didn't add max_features parameter to it because if I will reduce the value of max_features, there is a high chance that the majority of words chosen will be from the majority class (Wellness). This makes sense since TF-IDF is selecting features based on term frequency alone and (Wellness) records are in majority.  \n",
    "    \n",
    "    Source: https://www.analyticsvidhya.com/blog/2021/09/creating-a-movie-reviews-classifier-using-tf-idf-in-python/"
   ]
  },
  {
   "cell_type": "code",
   "execution_count": 42,
   "id": "27e3d72c",
   "metadata": {},
   "outputs": [],
   "source": [
    "# Feature Engineering\n",
    "vectorizer = TfidfVectorizer()\n",
    "\n",
    "# Vectorizing training and validation dataset\n",
    "# Fit the vectorizer on training dataset\n",
    "vectorizer.fit(train_data['description'])\n",
    "\n",
    "# Transforming training and validation dataset\n",
    "X_train_matrix = vectorizer.transform(train_data['description'])\n",
    "X_valid_matrix = vectorizer.transform(valid_data['description'])\n"
   ]
  },
  {
   "cell_type": "code",
   "execution_count": 43,
   "id": "56d4bfc9",
   "metadata": {},
   "outputs": [
    {
     "data": {
      "text/plain": [
       "(5563, 14814)"
      ]
     },
     "execution_count": 43,
     "metadata": {},
     "output_type": "execute_result"
    }
   ],
   "source": [
    "# checking size of train data matrix generated\n",
    "\n",
    "X_train_matrix.shape"
   ]
  },
  {
   "cell_type": "code",
   "execution_count": 44,
   "id": "28747aa4",
   "metadata": {},
   "outputs": [
    {
     "data": {
      "text/plain": [
       "(1193, 14814)"
      ]
     },
     "execution_count": 44,
     "metadata": {},
     "output_type": "execute_result"
    }
   ],
   "source": [
    "# checking size of valid data matrix generated\n",
    "\n",
    "X_valid_matrix.shape"
   ]
  },
  {
   "cell_type": "markdown",
   "id": "9062f4c5",
   "metadata": {},
   "source": [
    "# Data Modelling"
   ]
  },
  {
   "cell_type": "markdown",
   "id": "d4aa5e2d",
   "metadata": {},
   "source": [
    "## Here are my chosen binary classifiers:\n",
    "1. Support Vector Classifier (SVC): As regarded as one of the best text classification algorithm according to the below sources and is best when the number of features are high as compared to a number of data points in the dataset. Also, it's faster, takes less memory and works good on small datasets.\n",
    "\n",
    "\n",
    "2. Logistic Regression: Again regarded as one of the best binary classifier. In chapter 5: Logistic Regression of \"Speech and Language Processing\" by Daniel Jurafsky & James H. Martin. It is mentioned that in the NLP world, it’s generally accepted that Logistic Regression is a great starter algorithm for text related classification.\n",
    "\n",
    "Therefore, I chose to study both these classfiers on my dataset.\n",
    "\n",
    "Approach: Logistic Regression (LR) is a probabilistic classification model using the sigmoid function, whereas Support Vector Classifiers (SVC) are a more geometric approach that maximise the margins to each class. They are similar in that they both can divide the feature space with a decision boundary.\n",
    "\n",
    "Source: https://towardsdatascience.com/multi-class-text-classification-model-comparison-and-selection-5eb066197568#:~:text=Linear%20Support%20Vector%20Machine%20is,the%20best%20text%20classification%20algorithms.\n",
    "\n",
    "Source 2: https://medium.com/axum-labs/logistic-regression-vs-support-vector-machines-svm-c335610a3d16#:~:text=SVM%20tries%20to%20finds%20the,are%20near%20the%20optimal%20point."
   ]
  },
  {
   "cell_type": "markdown",
   "id": "93d3eadc",
   "metadata": {},
   "source": [
    "<span style=\"color:red\">Step 6</span>\n",
    "\n",
    "## Fitting the model\n",
    "\n",
    "### SVC\n",
    "#### Parameters:\n",
    "1. **Linear** kernel is the most basic type of kernel, one dimensional in nature. It proves to be the best function when there are lots of features. The linear kernel is mostly preferred for text-classification problems as most of these kinds of classification problems can be linearly separated.\n",
    "2. Regularization parameter, **C** must be strictly positive, default = 1.0\n",
    "3. **Random_State** is set to **0** to get the reproducible results."
   ]
  },
  {
   "cell_type": "code",
   "execution_count": 45,
   "id": "058ac1fa",
   "metadata": {
    "scrolled": true
   },
   "outputs": [
    {
     "data": {
      "text/html": [
       "<style>#sk-container-id-1 {color: black;background-color: white;}#sk-container-id-1 pre{padding: 0;}#sk-container-id-1 div.sk-toggleable {background-color: white;}#sk-container-id-1 label.sk-toggleable__label {cursor: pointer;display: block;width: 100%;margin-bottom: 0;padding: 0.3em;box-sizing: border-box;text-align: center;}#sk-container-id-1 label.sk-toggleable__label-arrow:before {content: \"▸\";float: left;margin-right: 0.25em;color: #696969;}#sk-container-id-1 label.sk-toggleable__label-arrow:hover:before {color: black;}#sk-container-id-1 div.sk-estimator:hover label.sk-toggleable__label-arrow:before {color: black;}#sk-container-id-1 div.sk-toggleable__content {max-height: 0;max-width: 0;overflow: hidden;text-align: left;background-color: #f0f8ff;}#sk-container-id-1 div.sk-toggleable__content pre {margin: 0.2em;color: black;border-radius: 0.25em;background-color: #f0f8ff;}#sk-container-id-1 input.sk-toggleable__control:checked~div.sk-toggleable__content {max-height: 200px;max-width: 100%;overflow: auto;}#sk-container-id-1 input.sk-toggleable__control:checked~label.sk-toggleable__label-arrow:before {content: \"▾\";}#sk-container-id-1 div.sk-estimator input.sk-toggleable__control:checked~label.sk-toggleable__label {background-color: #d4ebff;}#sk-container-id-1 div.sk-label input.sk-toggleable__control:checked~label.sk-toggleable__label {background-color: #d4ebff;}#sk-container-id-1 input.sk-hidden--visually {border: 0;clip: rect(1px 1px 1px 1px);clip: rect(1px, 1px, 1px, 1px);height: 1px;margin: -1px;overflow: hidden;padding: 0;position: absolute;width: 1px;}#sk-container-id-1 div.sk-estimator {font-family: monospace;background-color: #f0f8ff;border: 1px dotted black;border-radius: 0.25em;box-sizing: border-box;margin-bottom: 0.5em;}#sk-container-id-1 div.sk-estimator:hover {background-color: #d4ebff;}#sk-container-id-1 div.sk-parallel-item::after {content: \"\";width: 100%;border-bottom: 1px solid gray;flex-grow: 1;}#sk-container-id-1 div.sk-label:hover label.sk-toggleable__label {background-color: #d4ebff;}#sk-container-id-1 div.sk-serial::before {content: \"\";position: absolute;border-left: 1px solid gray;box-sizing: border-box;top: 0;bottom: 0;left: 50%;z-index: 0;}#sk-container-id-1 div.sk-serial {display: flex;flex-direction: column;align-items: center;background-color: white;padding-right: 0.2em;padding-left: 0.2em;position: relative;}#sk-container-id-1 div.sk-item {position: relative;z-index: 1;}#sk-container-id-1 div.sk-parallel {display: flex;align-items: stretch;justify-content: center;background-color: white;position: relative;}#sk-container-id-1 div.sk-item::before, #sk-container-id-1 div.sk-parallel-item::before {content: \"\";position: absolute;border-left: 1px solid gray;box-sizing: border-box;top: 0;bottom: 0;left: 50%;z-index: -1;}#sk-container-id-1 div.sk-parallel-item {display: flex;flex-direction: column;z-index: 1;position: relative;background-color: white;}#sk-container-id-1 div.sk-parallel-item:first-child::after {align-self: flex-end;width: 50%;}#sk-container-id-1 div.sk-parallel-item:last-child::after {align-self: flex-start;width: 50%;}#sk-container-id-1 div.sk-parallel-item:only-child::after {width: 0;}#sk-container-id-1 div.sk-dashed-wrapped {border: 1px dashed gray;margin: 0 0.4em 0.5em 0.4em;box-sizing: border-box;padding-bottom: 0.4em;background-color: white;}#sk-container-id-1 div.sk-label label {font-family: monospace;font-weight: bold;display: inline-block;line-height: 1.2em;}#sk-container-id-1 div.sk-label-container {text-align: center;}#sk-container-id-1 div.sk-container {/* jupyter's `normalize.less` sets `[hidden] { display: none; }` but bootstrap.min.css set `[hidden] { display: none !important; }` so we also need the `!important` here to be able to override the default hidden behavior on the sphinx rendered scikit-learn.org. See: https://github.com/scikit-learn/scikit-learn/issues/21755 */display: inline-block !important;position: relative;}#sk-container-id-1 div.sk-text-repr-fallback {display: none;}</style><div id=\"sk-container-id-1\" class=\"sk-top-container\"><div class=\"sk-text-repr-fallback\"><pre>SVC(kernel=&#x27;linear&#x27;, random_state=0)</pre><b>In a Jupyter environment, please rerun this cell to show the HTML representation or trust the notebook. <br />On GitHub, the HTML representation is unable to render, please try loading this page with nbviewer.org.</b></div><div class=\"sk-container\" hidden><div class=\"sk-item\"><div class=\"sk-estimator sk-toggleable\"><input class=\"sk-toggleable__control sk-hidden--visually\" id=\"sk-estimator-id-1\" type=\"checkbox\" checked><label for=\"sk-estimator-id-1\" class=\"sk-toggleable__label sk-toggleable__label-arrow\">SVC</label><div class=\"sk-toggleable__content\"><pre>SVC(kernel=&#x27;linear&#x27;, random_state=0)</pre></div></div></div></div></div>"
      ],
      "text/plain": [
       "SVC(kernel='linear', random_state=0)"
      ]
     },
     "execution_count": 45,
     "metadata": {},
     "output_type": "execute_result"
    }
   ],
   "source": [
    "svc_model = SVC(kernel=\"linear\", C=1.0, random_state=0)\n",
    "svc_model.fit(X_train_matrix, y_train)"
   ]
  },
  {
   "cell_type": "markdown",
   "id": "f223ec30",
   "metadata": {},
   "source": [
    "### Logistic Regression\n",
    "\n",
    "#### Parameters:\n",
    "1. I used **Liblinear** solver because it performs faster and better for data with high dimensionality. Also, it was the default historical approach to work with small datasets. Also, according to the following source, liblinear solver gave better accuracy.\n",
    "       Source: https://towardsdatascience.com/dont-sweat-the-solver-stuff-aea7cddc3451\n",
    "\n",
    "2. **Random_State** is set to **0** to get the reproducible results."
   ]
  },
  {
   "cell_type": "code",
   "execution_count": 46,
   "id": "da4ab65e",
   "metadata": {},
   "outputs": [
    {
     "data": {
      "text/html": [
       "<style>#sk-container-id-2 {color: black;background-color: white;}#sk-container-id-2 pre{padding: 0;}#sk-container-id-2 div.sk-toggleable {background-color: white;}#sk-container-id-2 label.sk-toggleable__label {cursor: pointer;display: block;width: 100%;margin-bottom: 0;padding: 0.3em;box-sizing: border-box;text-align: center;}#sk-container-id-2 label.sk-toggleable__label-arrow:before {content: \"▸\";float: left;margin-right: 0.25em;color: #696969;}#sk-container-id-2 label.sk-toggleable__label-arrow:hover:before {color: black;}#sk-container-id-2 div.sk-estimator:hover label.sk-toggleable__label-arrow:before {color: black;}#sk-container-id-2 div.sk-toggleable__content {max-height: 0;max-width: 0;overflow: hidden;text-align: left;background-color: #f0f8ff;}#sk-container-id-2 div.sk-toggleable__content pre {margin: 0.2em;color: black;border-radius: 0.25em;background-color: #f0f8ff;}#sk-container-id-2 input.sk-toggleable__control:checked~div.sk-toggleable__content {max-height: 200px;max-width: 100%;overflow: auto;}#sk-container-id-2 input.sk-toggleable__control:checked~label.sk-toggleable__label-arrow:before {content: \"▾\";}#sk-container-id-2 div.sk-estimator input.sk-toggleable__control:checked~label.sk-toggleable__label {background-color: #d4ebff;}#sk-container-id-2 div.sk-label input.sk-toggleable__control:checked~label.sk-toggleable__label {background-color: #d4ebff;}#sk-container-id-2 input.sk-hidden--visually {border: 0;clip: rect(1px 1px 1px 1px);clip: rect(1px, 1px, 1px, 1px);height: 1px;margin: -1px;overflow: hidden;padding: 0;position: absolute;width: 1px;}#sk-container-id-2 div.sk-estimator {font-family: monospace;background-color: #f0f8ff;border: 1px dotted black;border-radius: 0.25em;box-sizing: border-box;margin-bottom: 0.5em;}#sk-container-id-2 div.sk-estimator:hover {background-color: #d4ebff;}#sk-container-id-2 div.sk-parallel-item::after {content: \"\";width: 100%;border-bottom: 1px solid gray;flex-grow: 1;}#sk-container-id-2 div.sk-label:hover label.sk-toggleable__label {background-color: #d4ebff;}#sk-container-id-2 div.sk-serial::before {content: \"\";position: absolute;border-left: 1px solid gray;box-sizing: border-box;top: 0;bottom: 0;left: 50%;z-index: 0;}#sk-container-id-2 div.sk-serial {display: flex;flex-direction: column;align-items: center;background-color: white;padding-right: 0.2em;padding-left: 0.2em;position: relative;}#sk-container-id-2 div.sk-item {position: relative;z-index: 1;}#sk-container-id-2 div.sk-parallel {display: flex;align-items: stretch;justify-content: center;background-color: white;position: relative;}#sk-container-id-2 div.sk-item::before, #sk-container-id-2 div.sk-parallel-item::before {content: \"\";position: absolute;border-left: 1px solid gray;box-sizing: border-box;top: 0;bottom: 0;left: 50%;z-index: -1;}#sk-container-id-2 div.sk-parallel-item {display: flex;flex-direction: column;z-index: 1;position: relative;background-color: white;}#sk-container-id-2 div.sk-parallel-item:first-child::after {align-self: flex-end;width: 50%;}#sk-container-id-2 div.sk-parallel-item:last-child::after {align-self: flex-start;width: 50%;}#sk-container-id-2 div.sk-parallel-item:only-child::after {width: 0;}#sk-container-id-2 div.sk-dashed-wrapped {border: 1px dashed gray;margin: 0 0.4em 0.5em 0.4em;box-sizing: border-box;padding-bottom: 0.4em;background-color: white;}#sk-container-id-2 div.sk-label label {font-family: monospace;font-weight: bold;display: inline-block;line-height: 1.2em;}#sk-container-id-2 div.sk-label-container {text-align: center;}#sk-container-id-2 div.sk-container {/* jupyter's `normalize.less` sets `[hidden] { display: none; }` but bootstrap.min.css set `[hidden] { display: none !important; }` so we also need the `!important` here to be able to override the default hidden behavior on the sphinx rendered scikit-learn.org. See: https://github.com/scikit-learn/scikit-learn/issues/21755 */display: inline-block !important;position: relative;}#sk-container-id-2 div.sk-text-repr-fallback {display: none;}</style><div id=\"sk-container-id-2\" class=\"sk-top-container\"><div class=\"sk-text-repr-fallback\"><pre>LogisticRegression(random_state=0, solver=&#x27;liblinear&#x27;)</pre><b>In a Jupyter environment, please rerun this cell to show the HTML representation or trust the notebook. <br />On GitHub, the HTML representation is unable to render, please try loading this page with nbviewer.org.</b></div><div class=\"sk-container\" hidden><div class=\"sk-item\"><div class=\"sk-estimator sk-toggleable\"><input class=\"sk-toggleable__control sk-hidden--visually\" id=\"sk-estimator-id-2\" type=\"checkbox\" checked><label for=\"sk-estimator-id-2\" class=\"sk-toggleable__label sk-toggleable__label-arrow\">LogisticRegression</label><div class=\"sk-toggleable__content\"><pre>LogisticRegression(random_state=0, solver=&#x27;liblinear&#x27;)</pre></div></div></div></div></div>"
      ],
      "text/plain": [
       "LogisticRegression(random_state=0, solver='liblinear')"
      ]
     },
     "execution_count": 46,
     "metadata": {},
     "output_type": "execute_result"
    }
   ],
   "source": [
    "l_reg = LogisticRegression(solver='liblinear', random_state=0)\n",
    "l_reg.fit(X_train_matrix,y_train)"
   ]
  },
  {
   "cell_type": "markdown",
   "id": "753f2da6",
   "metadata": {},
   "source": [
    "<span style=\"color:red\">Step 7</span>\n",
    "\n",
    "## Deep Learning model: CNN\n"
   ]
  },
  {
   "cell_type": "markdown",
   "id": "98ecea97",
   "metadata": {},
   "source": [
    "### Splitting the data into train, validation and test sets"
   ]
  },
  {
   "cell_type": "code",
   "execution_count": 47,
   "id": "95743d07",
   "metadata": {},
   "outputs": [],
   "source": [
    "# The split is according to standards mentioned above: Train: 70%, Validation: 15%, Test: 15%\n",
    "\n",
    "X_train_plus_valid_1, X_test_1, y_train_plus_valid_1, y_test_1 = train_test_split(X, y, random_state=0, test_size = 0.15, train_size = 0.85)\n",
    "X_train_1, X_valid_1, y_train_1, y_valid_1 = train_test_split(X_train_plus_valid_1, y_train_plus_valid_1, random_state=0, test_size = 0.15/0.85, train_size = 0.7/0.85)"
   ]
  },
  {
   "cell_type": "code",
   "execution_count": 48,
   "id": "6eb41849",
   "metadata": {},
   "outputs": [
    {
     "name": "stdout",
     "output_type": "stream",
     "text": [
      "(5563,)\n",
      "(1193,)\n",
      "(1193,)\n"
     ]
    }
   ],
   "source": [
    "# Printing their shapes\n",
    "\n",
    "print(X_train_1.shape)\n",
    "print(X_valid_1.shape)\n",
    "print(X_test_1.shape)"
   ]
  },
  {
   "cell_type": "code",
   "execution_count": 49,
   "id": "0d7318a1",
   "metadata": {},
   "outputs": [],
   "source": [
    "# Concatenating x and y into respective datasets.\n",
    "\n",
    "train_data_1 = pd.concat([X_train_1,y_train_1], axis=1)\n",
    "valid_data_1 = pd.concat([X_valid_1,y_valid_1], axis=1)\n",
    "test_data_1 = pd.concat([X_test_1,y_test_1], axis=1)"
   ]
  },
  {
   "cell_type": "markdown",
   "id": "edadd611",
   "metadata": {},
   "source": [
    "### Pre-processing on X train, validation and test dataset"
   ]
  },
  {
   "cell_type": "code",
   "execution_count": 50,
   "id": "151c6567",
   "metadata": {},
   "outputs": [
    {
     "data": {
      "text/html": [
       "<div>\n",
       "<style scoped>\n",
       "    .dataframe tbody tr th:only-of-type {\n",
       "        vertical-align: middle;\n",
       "    }\n",
       "\n",
       "    .dataframe tbody tr th {\n",
       "        vertical-align: top;\n",
       "    }\n",
       "\n",
       "    .dataframe thead th {\n",
       "        text-align: right;\n",
       "    }\n",
       "</style>\n",
       "<table border=\"1\" class=\"dataframe\">\n",
       "  <thead>\n",
       "    <tr style=\"text-align: right;\">\n",
       "      <th></th>\n",
       "      <th>description</th>\n",
       "      <th>CategoryId</th>\n",
       "    </tr>\n",
       "  </thead>\n",
       "  <tbody>\n",
       "    <tr>\n",
       "      <th>3961</th>\n",
       "      <td>despite new study expert still warn link footb...</td>\n",
       "      <td>1</td>\n",
       "    </tr>\n",
       "    <tr>\n",
       "      <th>411</th>\n",
       "      <td>weekly roundup ebay vintage home find photo al...</td>\n",
       "      <td>0</td>\n",
       "    </tr>\n",
       "    <tr>\n",
       "      <th>2759</th>\n",
       "      <td>boston named healthiest city america follow ne...</td>\n",
       "      <td>1</td>\n",
       "    </tr>\n",
       "    <tr>\n",
       "      <th>1198</th>\n",
       "      <td>eyeopening shopping experience alyssa croteau ...</td>\n",
       "      <td>1</td>\n",
       "    </tr>\n",
       "    <tr>\n",
       "      <th>842</th>\n",
       "      <td>look inside fantastic first home house tour ro...</td>\n",
       "      <td>0</td>\n",
       "    </tr>\n",
       "    <tr>\n",
       "      <th>...</th>\n",
       "      <td>...</td>\n",
       "      <td>...</td>\n",
       "    </tr>\n",
       "    <tr>\n",
       "      <th>2153</th>\n",
       "      <td>protagonist supporting character life let othe...</td>\n",
       "      <td>1</td>\n",
       "    </tr>\n",
       "    <tr>\n",
       "      <th>3070</th>\n",
       "      <td>ziggy marley say love never negative effect po...</td>\n",
       "      <td>1</td>\n",
       "    </tr>\n",
       "    <tr>\n",
       "      <th>3106</th>\n",
       "      <td>surprising fact pet rat contrary many people b...</td>\n",
       "      <td>1</td>\n",
       "    </tr>\n",
       "    <tr>\n",
       "      <th>1293</th>\n",
       "      <td>make lamp using old toy kid tends get attached...</td>\n",
       "      <td>0</td>\n",
       "    </tr>\n",
       "    <tr>\n",
       "      <th>2331</th>\n",
       "      <td>quick tip fit small refrigerator rent rise maj...</td>\n",
       "      <td>0</td>\n",
       "    </tr>\n",
       "  </tbody>\n",
       "</table>\n",
       "<p>5563 rows × 2 columns</p>\n",
       "</div>"
      ],
      "text/plain": [
       "                                            description  CategoryId\n",
       "3961  despite new study expert still warn link footb...           1\n",
       "411   weekly roundup ebay vintage home find photo al...           0\n",
       "2759  boston named healthiest city america follow ne...           1\n",
       "1198  eyeopening shopping experience alyssa croteau ...           1\n",
       "842   look inside fantastic first home house tour ro...           0\n",
       "...                                                 ...         ...\n",
       "2153  protagonist supporting character life let othe...           1\n",
       "3070  ziggy marley say love never negative effect po...           1\n",
       "3106  surprising fact pet rat contrary many people b...           1\n",
       "1293  make lamp using old toy kid tends get attached...           0\n",
       "2331  quick tip fit small refrigerator rent rise maj...           0\n",
       "\n",
       "[5563 rows x 2 columns]"
      ]
     },
     "execution_count": 50,
     "metadata": {},
     "output_type": "execute_result"
    }
   ],
   "source": [
    "# Performing above mentioned pre-processing tasks on train data\n",
    "\n",
    "train_data_1['description'] = train_data_1['description'].apply(remove_digits)\n",
    "train_data_1['description'] = train_data_1['description'].apply(remove_tags)\n",
    "train_data_1['description'] = train_data_1['description'].apply(special_char)\n",
    "train_data_1['description'] = train_data_1['description'].apply(convert_lower)\n",
    "train_data_1['description'] = train_data_1['description'].apply(remove_stopwords)\n",
    "train_data_1['description'] = train_data_1['description'].apply(lemmatize_word)\n",
    "train_data_1"
   ]
  },
  {
   "cell_type": "code",
   "execution_count": 51,
   "id": "a652bd14",
   "metadata": {},
   "outputs": [
    {
     "data": {
      "text/html": [
       "<div>\n",
       "<style scoped>\n",
       "    .dataframe tbody tr th:only-of-type {\n",
       "        vertical-align: middle;\n",
       "    }\n",
       "\n",
       "    .dataframe tbody tr th {\n",
       "        vertical-align: top;\n",
       "    }\n",
       "\n",
       "    .dataframe thead th {\n",
       "        text-align: right;\n",
       "    }\n",
       "</style>\n",
       "<table border=\"1\" class=\"dataframe\">\n",
       "  <thead>\n",
       "    <tr style=\"text-align: right;\">\n",
       "      <th></th>\n",
       "      <th>description</th>\n",
       "      <th>CategoryId</th>\n",
       "    </tr>\n",
       "  </thead>\n",
       "  <tbody>\n",
       "    <tr>\n",
       "      <th>6480</th>\n",
       "      <td>desireacquire nautical needlepoint sucker jona...</td>\n",
       "      <td>0</td>\n",
       "    </tr>\n",
       "    <tr>\n",
       "      <th>930</th>\n",
       "      <td>astrology thursday new moon signal new beginni...</td>\n",
       "      <td>1</td>\n",
       "    </tr>\n",
       "    <tr>\n",
       "      <th>3282</th>\n",
       "      <td>sign emotional wellness meet new people social...</td>\n",
       "      <td>1</td>\n",
       "    </tr>\n",
       "    <tr>\n",
       "      <th>1128</th>\n",
       "      <td>yoga qigong two stream single source origin yo...</td>\n",
       "      <td>1</td>\n",
       "    </tr>\n",
       "    <tr>\n",
       "      <th>1664</th>\n",
       "      <td>controlling blood pressure cholesterol could h...</td>\n",
       "      <td>1</td>\n",
       "    </tr>\n",
       "    <tr>\n",
       "      <th>...</th>\n",
       "      <td>...</td>\n",
       "      <td>...</td>\n",
       "    </tr>\n",
       "    <tr>\n",
       "      <th>3723</th>\n",
       "      <td>lowcalorie french fry recipe told could make h...</td>\n",
       "      <td>1</td>\n",
       "    </tr>\n",
       "    <tr>\n",
       "      <th>4219</th>\n",
       "      <td>make life transition transition wonderful oppo...</td>\n",
       "      <td>1</td>\n",
       "    </tr>\n",
       "    <tr>\n",
       "      <th>2979</th>\n",
       "      <td>author nicholas spark key happiness video matt...</td>\n",
       "      <td>1</td>\n",
       "    </tr>\n",
       "    <tr>\n",
       "      <th>885</th>\n",
       "      <td>home le photo bring good news bargainhunting f...</td>\n",
       "      <td>0</td>\n",
       "    </tr>\n",
       "    <tr>\n",
       "      <th>1016</th>\n",
       "      <td>happy valentine day listening amazing focusing...</td>\n",
       "      <td>1</td>\n",
       "    </tr>\n",
       "  </tbody>\n",
       "</table>\n",
       "<p>1193 rows × 2 columns</p>\n",
       "</div>"
      ],
      "text/plain": [
       "                                            description  CategoryId\n",
       "6480  desireacquire nautical needlepoint sucker jona...           0\n",
       "930   astrology thursday new moon signal new beginni...           1\n",
       "3282  sign emotional wellness meet new people social...           1\n",
       "1128  yoga qigong two stream single source origin yo...           1\n",
       "1664  controlling blood pressure cholesterol could h...           1\n",
       "...                                                 ...         ...\n",
       "3723  lowcalorie french fry recipe told could make h...           1\n",
       "4219  make life transition transition wonderful oppo...           1\n",
       "2979  author nicholas spark key happiness video matt...           1\n",
       "885   home le photo bring good news bargainhunting f...           0\n",
       "1016  happy valentine day listening amazing focusing...           1\n",
       "\n",
       "[1193 rows x 2 columns]"
      ]
     },
     "execution_count": 51,
     "metadata": {},
     "output_type": "execute_result"
    }
   ],
   "source": [
    "# Performing above mentioned pre-processing tasks on validation data\n",
    "\n",
    "valid_data_1['description'] = valid_data_1['description'].apply(remove_digits)\n",
    "valid_data_1['description'] = valid_data_1['description'].apply(remove_tags)\n",
    "valid_data_1['description'] = valid_data_1['description'].apply(special_char)\n",
    "valid_data_1['description'] = valid_data_1['description'].apply(convert_lower)\n",
    "valid_data_1['description'] = valid_data_1['description'].apply(remove_stopwords)\n",
    "valid_data_1['description'] = valid_data_1['description'].apply(lemmatize_word)\n",
    "valid_data_1"
   ]
  },
  {
   "cell_type": "code",
   "execution_count": 52,
   "id": "785fdaf3",
   "metadata": {},
   "outputs": [
    {
     "data": {
      "text/html": [
       "<div>\n",
       "<style scoped>\n",
       "    .dataframe tbody tr th:only-of-type {\n",
       "        vertical-align: middle;\n",
       "    }\n",
       "\n",
       "    .dataframe tbody tr th {\n",
       "        vertical-align: top;\n",
       "    }\n",
       "\n",
       "    .dataframe thead th {\n",
       "        text-align: right;\n",
       "    }\n",
       "</style>\n",
       "<table border=\"1\" class=\"dataframe\">\n",
       "  <thead>\n",
       "    <tr style=\"text-align: right;\">\n",
       "      <th></th>\n",
       "      <th>description</th>\n",
       "      <th>CategoryId</th>\n",
       "    </tr>\n",
       "  </thead>\n",
       "  <tbody>\n",
       "    <tr>\n",
       "      <th>3429</th>\n",
       "      <td>merriest city america youll want party holiday...</td>\n",
       "      <td>0</td>\n",
       "    </tr>\n",
       "    <tr>\n",
       "      <th>1468</th>\n",
       "      <td>invisible garden house allows enjoy outdoors m...</td>\n",
       "      <td>0</td>\n",
       "    </tr>\n",
       "    <tr>\n",
       "      <th>168</th>\n",
       "      <td>rethinking intelligence could learn think ahea...</td>\n",
       "      <td>1</td>\n",
       "    </tr>\n",
       "    <tr>\n",
       "      <th>1757</th>\n",
       "      <td>bored weight gain boredom often give u pause b...</td>\n",
       "      <td>1</td>\n",
       "    </tr>\n",
       "    <tr>\n",
       "      <th>5713</th>\n",
       "      <td>greater gift recognition breast cancer click s...</td>\n",
       "      <td>1</td>\n",
       "    </tr>\n",
       "    <tr>\n",
       "      <th>...</th>\n",
       "      <td>...</td>\n",
       "      <td>...</td>\n",
       "    </tr>\n",
       "    <tr>\n",
       "      <th>1451</th>\n",
       "      <td>life loud conquering fear high sea first heard...</td>\n",
       "      <td>1</td>\n",
       "    </tr>\n",
       "    <tr>\n",
       "      <th>125</th>\n",
       "      <td>alchemist conversation phil stutz part ii phil...</td>\n",
       "      <td>1</td>\n",
       "    </tr>\n",
       "    <tr>\n",
       "      <th>4094</th>\n",
       "      <td>pope political philosopher time everpresent fi...</td>\n",
       "      <td>0</td>\n",
       "    </tr>\n",
       "    <tr>\n",
       "      <th>6764</th>\n",
       "      <td>houzzs real cost finder help figure much renov...</td>\n",
       "      <td>0</td>\n",
       "    </tr>\n",
       "    <tr>\n",
       "      <th>2755</th>\n",
       "      <td>hormone therapy recommended government panel u...</td>\n",
       "      <td>1</td>\n",
       "    </tr>\n",
       "  </tbody>\n",
       "</table>\n",
       "<p>1193 rows × 2 columns</p>\n",
       "</div>"
      ],
      "text/plain": [
       "                                            description  CategoryId\n",
       "3429  merriest city america youll want party holiday...           0\n",
       "1468  invisible garden house allows enjoy outdoors m...           0\n",
       "168   rethinking intelligence could learn think ahea...           1\n",
       "1757  bored weight gain boredom often give u pause b...           1\n",
       "5713  greater gift recognition breast cancer click s...           1\n",
       "...                                                 ...         ...\n",
       "1451  life loud conquering fear high sea first heard...           1\n",
       "125   alchemist conversation phil stutz part ii phil...           1\n",
       "4094  pope political philosopher time everpresent fi...           0\n",
       "6764  houzzs real cost finder help figure much renov...           0\n",
       "2755  hormone therapy recommended government panel u...           1\n",
       "\n",
       "[1193 rows x 2 columns]"
      ]
     },
     "execution_count": 52,
     "metadata": {},
     "output_type": "execute_result"
    }
   ],
   "source": [
    "# Performing above mentioned pre-processing tasks on test data\n",
    "\n",
    "test_data_1['description'] = test_data_1['description'].apply(remove_digits)\n",
    "test_data_1['description'] = test_data_1['description'].apply(remove_tags)\n",
    "test_data_1['description'] = test_data_1['description'].apply(special_char)\n",
    "test_data_1['description'] = test_data_1['description'].apply(convert_lower)\n",
    "test_data_1['description'] = test_data_1['description'].apply(remove_stopwords)\n",
    "test_data_1['description'] = test_data_1['description'].apply(lemmatize_word)\n",
    "test_data_1"
   ]
  },
  {
   "cell_type": "markdown",
   "id": "253de89a",
   "metadata": {},
   "source": [
    "### Preparing word embedding for the deep learning model"
   ]
  },
  {
   "cell_type": "code",
   "execution_count": 53,
   "id": "bdbfc797",
   "metadata": {},
   "outputs": [
    {
     "name": "stdout",
     "output_type": "stream",
     "text": [
      "[[40, 8, 467]]\n"
     ]
    }
   ],
   "source": [
    "# Tokenizer allows to vectorize a text corpus, by turning each text into either a sequence of integers(like index of token in a dict.) or into a vector where the coeficient of each token could be binary, based on word count, based on tf-idf\n",
    "# Using keras tokenizer to build word embeddings and sequence preprocessing\n",
    "# I am considering top 10,000 frequent words for tokenization and discard rare words\n",
    "\n",
    "tokenizer = Tokenizer(num_words=10000)\n",
    "\n",
    "# Fitting tokenizer on X_train data\n",
    "tokenizer.fit_on_texts(X_train_1.tolist())\n",
    "\n",
    "print(str(tokenizer.texts_to_sequences([\"home is beautiful\"])))\n",
    "\n",
    "# The output depicts that most common words do not have a large index in our embedding space.\n",
    "# Those whose occurrence is moderate will be given a moderate index value. Also, 0 value is reserved and won’t be provided to any text.\n"
   ]
  },
  {
   "cell_type": "code",
   "execution_count": 54,
   "id": "16a4a892",
   "metadata": {},
   "outputs": [],
   "source": [
    "# Converting all the X, y data columns to list type for processing\n",
    "\n",
    "X_train_1=X_train_1.tolist()\n",
    "y_train_1=y_train_1.tolist()\n",
    "X_valid_1=X_valid_1.tolist()\n",
    "y_valid_1=y_valid_1.tolist()\n",
    "X_test_1=X_test_1.tolist()\n",
    "y_test_1=y_test_1.tolist()"
   ]
  },
  {
   "cell_type": "code",
   "execution_count": 55,
   "id": "bc7ea876",
   "metadata": {},
   "outputs": [
    {
     "name": "stderr",
     "output_type": "stream",
     "text": [
      "C:\\Users\\user\\AppData\\Local\\Temp/ipykernel_8760/2230030543.py:3: VisibleDeprecationWarning: Creating an ndarray from ragged nested sequences (which is a list-or-tuple of lists-or-tuples-or ndarrays with different lengths or shapes) is deprecated. If you meant to do this, you must specify 'dtype=object' when creating the ndarray.\n",
      "  x_train=np.array(tokenizer.texts_to_sequences(X_train_1))\n",
      "C:\\Users\\user\\AppData\\Local\\Temp/ipykernel_8760/2230030543.py:4: VisibleDeprecationWarning: Creating an ndarray from ragged nested sequences (which is a list-or-tuple of lists-or-tuples-or ndarrays with different lengths or shapes) is deprecated. If you meant to do this, you must specify 'dtype=object' when creating the ndarray.\n",
      "  x_valid=np.array(tokenizer.texts_to_sequences(X_valid_1))\n",
      "C:\\Users\\user\\AppData\\Local\\Temp/ipykernel_8760/2230030543.py:5: VisibleDeprecationWarning: Creating an ndarray from ragged nested sequences (which is a list-or-tuple of lists-or-tuples-or ndarrays with different lengths or shapes) is deprecated. If you meant to do this, you must specify 'dtype=object' when creating the ndarray.\n",
      "  x_test=np.array(tokenizer.texts_to_sequences(X_test_1))\n"
     ]
    }
   ],
   "source": [
    "# Converting words in the description to numercial sequences and storing them as arrays\n",
    "\n",
    "x_train=np.array(tokenizer.texts_to_sequences(X_train_1))\n",
    "x_valid=np.array(tokenizer.texts_to_sequences(X_valid_1))\n",
    "x_test=np.array(tokenizer.texts_to_sequences(X_test_1))"
   ]
  },
  {
   "cell_type": "code",
   "execution_count": 56,
   "id": "a1bf4210",
   "metadata": {},
   "outputs": [],
   "source": [
    "# One problem is that in each sequence is the different length of words, and to specify the length of word sequence,\n",
    "# we need to provide a maxlen parameter and to solve this, we need to use pad_sequence(),\n",
    "# which simply pads the sequence of words with zeros. I am using maxlen=100 as after pre-processing as meaningful length of text is not more than 100.\n",
    "\n",
    "maxlen = 100\n",
    "Xcnn_train = pad_sequences(x_train, padding='post', maxlen=maxlen)\n",
    "Xcnn_valid = pad_sequences(x_valid, padding='post', maxlen=maxlen)\n",
    "Xcnn_test = pad_sequences(x_test, padding='post',maxlen=maxlen)"
   ]
  },
  {
   "cell_type": "code",
   "execution_count": 57,
   "id": "030d3969",
   "metadata": {},
   "outputs": [
    {
     "name": "stdout",
     "output_type": "stream",
     "text": [
      "[ 966   47   63  572  209 8951    5 1255  236 3117    3 1371  168    4\n",
      "   47   63  420    9 3117   71   29   17   25 1208   10  204   43   25\n",
      "  278  250  420   28  572   16   29    0    0    0    0    0    0    0\n",
      "    0    0    0    0    0    0    0    0    0    0    0    0    0    0\n",
      "    0    0    0    0    0    0    0    0    0    0    0    0    0    0\n",
      "    0    0    0    0    0    0    0    0    0    0    0    0    0    0\n",
      "    0    0    0    0    0    0    0    0    0    0    0    0    0    0\n",
      "    0    0]\n"
     ]
    }
   ],
   "source": [
    "print(Xcnn_train[0])"
   ]
  },
  {
   "cell_type": "code",
   "execution_count": 58,
   "id": "dbb46012",
   "metadata": {},
   "outputs": [
    {
     "data": {
      "text/plain": [
       "array([0., 1.], dtype=float32)"
      ]
     },
     "execution_count": 58,
     "metadata": {},
     "output_type": "execute_result"
    }
   ],
   "source": [
    "# Treating the label columns for train, validation and test data\n",
    "# Converting then into categorical format as I am using loss metric as categorical_crossentropy later. Then storing them as arrays.\n",
    "\n",
    "train_labels=np.asarray(keras.utils.to_categorical(y_train_1))\n",
    "valid_labels=np.asarray(keras.utils.to_categorical(y_valid_1))\n",
    "test_labels=np.asarray(keras.utils.to_categorical(y_test_1))\n",
    "train_labels[0]"
   ]
  },
  {
   "cell_type": "code",
   "execution_count": 59,
   "id": "5b3227dd",
   "metadata": {},
   "outputs": [],
   "source": [
    "# Storing processed train and validation data as tensor slices so that it can be used while fitting the model. It will help in word masking when training the model.\n",
    "\n",
    "train_ds=tf.data.Dataset.from_tensor_slices((Xcnn_train,train_labels))\n",
    "valid_ds=tf.data.Dataset.from_tensor_slices((Xcnn_valid,valid_labels))"
   ]
  },
  {
   "cell_type": "markdown",
   "id": "44949233",
   "metadata": {},
   "source": [
    "## Deep learning: Building the CNN model\n",
    "\n",
    "Parameters\n",
    "- vocab_size: The vocab_size is the same as number of maximum features (10,000) I am considering. Also, the extremely uncommon words will get a higher index value which will be word count (10,000) + 1 because they hold some information.\n",
    "- embedding_dim: for each input word index present, the model will create a 64-bit embedding\n",
    "- input_length: max_length of sequence of sentence as mentioned above\n",
    "- embedding_regularizers.l2, bias_regularizers, kernel_regularizers: to reduce bias as unbalanced data\n",
    "- Conv1D layer: 128 filters, kernel size=3 (i.e. for each iteration it will look at 3 words at a time), activation function Relu chosen for hidden layers as standard as it works faster as well as output good results.\n",
    "- GlobalMaxPooling1D layer: Considers the maximum value out of all the word vectors so discards less weighted vectors.\n",
    "- Last dense layer: Output 2 values as binary classification and to match the labels format, activation function Sigmoid used for binary classification"
   ]
  },
  {
   "cell_type": "code",
   "execution_count": 60,
   "id": "4f006726",
   "metadata": {},
   "outputs": [
    {
     "name": "stdout",
     "output_type": "stream",
     "text": [
      "Model: \"sequential\"\n",
      "_________________________________________________________________\n",
      " Layer (type)                Output Shape              Param #   \n",
      "=================================================================\n",
      " embedding (Embedding)       (None, 100, 64)           640064    \n",
      "                                                                 \n",
      " conv1d (Conv1D)             (None, 98, 128)           24704     \n",
      "                                                                 \n",
      " global_max_pooling1d (Globa  (None, 128)              0         \n",
      " lMaxPooling1D)                                                  \n",
      "                                                                 \n",
      " dense (Dense)               (None, 10)                1290      \n",
      "                                                                 \n",
      " dropout (Dropout)           (None, 10)                0         \n",
      "                                                                 \n",
      " dense_1 (Dense)             (None, 2)                 22        \n",
      "                                                                 \n",
      "=================================================================\n",
      "Total params: 666,080\n",
      "Trainable params: 666,080\n",
      "Non-trainable params: 0\n",
      "_________________________________________________________________\n"
     ]
    },
    {
     "name": "stderr",
     "output_type": "stream",
     "text": [
      "C:\\Users\\user\\anaconda3\\lib\\site-packages\\keras\\optimizers\\optimizer_v2\\gradient_descent.py:108: UserWarning: The `lr` argument is deprecated, use `learning_rate` instead.\n",
      "  super(SGD, self).__init__(name, **kwargs)\n"
     ]
    }
   ],
   "source": [
    "# Source Code: https://github.com/rsreetech/TextClassificationTensorFlowCNN/blob/master/TensorFlowTweetTextClassificationV1.ipynb\n",
    "\n",
    "\n",
    "vocab_size=10000  \n",
    "embedding_dim = 64\n",
    "\n",
    "# I am using the Sequential model A Sequential model is appropriate for a plain stack of layers where each layer has exactly one input tensor and one output tensor. Source :https://www.tensorflow.org/guide/keras/sequential_model\n",
    "textcnnmodel = Sequential()\n",
    "textcnnmodel.add(layers.Embedding(vocab_size+1, embedding_dim, input_length=maxlen, embeddings_regularizer=regularizers.l2(0.0005)))\n",
    "textcnnmodel.add(layers.Conv1D(128, 3, activation='relu',kernel_regularizer=regularizers.l2(0.0005),bias_regularizer=regularizers.l2(0.0005)))\n",
    "\n",
    "# This is followed by a pooling layer that reduces the output of the convolutional layer by half.\n",
    "textcnnmodel.add(layers.GlobalMaxPooling1D())\n",
    "textcnnmodel.add(layers.Dense(10, activation='relu'))\n",
    "\n",
    "# Dropout layers are important in training CNNs because they prevent overfitting on the training data.\n",
    "textcnnmodel.add(layers.Dropout(0.5))\n",
    "\n",
    "# The output layer uses a sigmoid activation function to output a value between 0 and 1 for the \"Home & Living\" and \"Wellness\" category.\n",
    "textcnnmodel.add(layers.Dense(2, activation='sigmoid',kernel_regularizer=regularizers.l2(0.001),bias_regularizer=regularizers.l2(0.001)))\n",
    "\n",
    "# Choice of optimizer: Stochastic Gradient Descent (SGD) seems to take advantage of its learning rate and momentum between each batch to optimize the model’s weights based on the information of the loss function in my case is 'categorical_crossentropy'.\n",
    "# I set learning rate=0.1, as per the source - Source: https://towardsdatascience.com/learning-rate-schedules-and-adaptive-learning-rate-methods-for-deep-learning-2c8f433990d1\n",
    "opt = SGD(lr = 0.1)\n",
    "\n",
    "# We use a binary cross entropy loss function because the problem we are learning is a binary classification problem. \n",
    "textcnnmodel.compile(optimizer = opt,\n",
    "               loss = 'binary_crossentropy',\n",
    "               metrics = ['accuracy','Precision','Recall'])\n",
    "textcnnmodel.summary() "
   ]
  },
  {
   "cell_type": "markdown",
   "id": "675f312a",
   "metadata": {},
   "source": [
    "## Deep learning: Fitting the text CNN model\n",
    "\n",
    "Parameters:\n",
    "- epochs: first, I tried with 100 epochs but the distance between validation loss and training loss increased so to reduce it I went with 50 epochs.\n",
    "- verbose:1 shows the performance of each epoch\n",
    "- batch_size: 128, was a better batch size for this model\n",
    "- shuffle: False, to get reproducible results."
   ]
  },
  {
   "cell_type": "code",
   "execution_count": 61,
   "id": "464609a4",
   "metadata": {},
   "outputs": [
    {
     "name": "stdout",
     "output_type": "stream",
     "text": [
      "Epoch 1/50\n",
      "44/44 [==============================] - 2s 40ms/step - loss: 0.9367 - accuracy: 0.7447 - precision: 0.7526 - recall: 0.7402 - val_loss: 0.8770 - val_accuracy: 0.7619 - val_precision: 0.7619 - val_recall: 0.7619\n",
      "Epoch 2/50\n",
      "44/44 [==============================] - 2s 36ms/step - loss: 0.8849 - accuracy: 0.7523 - precision: 0.7523 - recall: 0.7523 - val_loss: 0.8577 - val_accuracy: 0.7619 - val_precision: 0.7619 - val_recall: 0.7619\n",
      "Epoch 3/50\n",
      "44/44 [==============================] - 2s 36ms/step - loss: 0.8750 - accuracy: 0.7523 - precision: 0.7523 - recall: 0.7523 - val_loss: 0.8537 - val_accuracy: 0.7619 - val_precision: 0.7619 - val_recall: 0.7619\n",
      "Epoch 4/50\n",
      "44/44 [==============================] - 2s 35ms/step - loss: 0.8702 - accuracy: 0.7523 - precision: 0.7523 - recall: 0.7523 - val_loss: 0.8510 - val_accuracy: 0.7619 - val_precision: 0.7619 - val_recall: 0.7619\n",
      "Epoch 5/50\n",
      "44/44 [==============================] - 1s 33ms/step - loss: 0.8638 - accuracy: 0.7523 - precision: 0.7523 - recall: 0.7523 - val_loss: 0.8463 - val_accuracy: 0.7619 - val_precision: 0.7619 - val_recall: 0.7619\n",
      "Epoch 6/50\n",
      "44/44 [==============================] - 1s 33ms/step - loss: 0.8583 - accuracy: 0.7523 - precision: 0.7523 - recall: 0.7523 - val_loss: 0.8424 - val_accuracy: 0.7619 - val_precision: 0.7619 - val_recall: 0.7619\n",
      "Epoch 7/50\n",
      "44/44 [==============================] - 1s 33ms/step - loss: 0.8560 - accuracy: 0.7523 - precision: 0.7523 - recall: 0.7523 - val_loss: 0.8389 - val_accuracy: 0.7619 - val_precision: 0.7619 - val_recall: 0.7619\n",
      "Epoch 8/50\n",
      "44/44 [==============================] - 1s 34ms/step - loss: 0.8509 - accuracy: 0.7523 - precision: 0.7523 - recall: 0.7523 - val_loss: 0.8351 - val_accuracy: 0.7619 - val_precision: 0.7619 - val_recall: 0.7619\n",
      "Epoch 9/50\n",
      "44/44 [==============================] - 1s 33ms/step - loss: 0.8478 - accuracy: 0.7523 - precision: 0.7523 - recall: 0.7523 - val_loss: 0.8318 - val_accuracy: 0.7619 - val_precision: 0.7619 - val_recall: 0.7619\n",
      "Epoch 10/50\n",
      "44/44 [==============================] - 2s 34ms/step - loss: 0.8418 - accuracy: 0.7523 - precision: 0.7523 - recall: 0.7523 - val_loss: 0.8277 - val_accuracy: 0.7619 - val_precision: 0.7619 - val_recall: 0.7619\n",
      "Epoch 11/50\n",
      "44/44 [==============================] - 1s 34ms/step - loss: 0.8387 - accuracy: 0.7523 - precision: 0.7523 - recall: 0.7523 - val_loss: 0.8233 - val_accuracy: 0.7619 - val_precision: 0.7619 - val_recall: 0.7619\n",
      "Epoch 12/50\n",
      "44/44 [==============================] - 2s 35ms/step - loss: 0.8348 - accuracy: 0.7523 - precision: 0.7523 - recall: 0.7523 - val_loss: 0.8183 - val_accuracy: 0.7619 - val_precision: 0.7619 - val_recall: 0.7619\n",
      "Epoch 13/50\n",
      "44/44 [==============================] - 2s 35ms/step - loss: 0.8289 - accuracy: 0.7523 - precision: 0.7523 - recall: 0.7523 - val_loss: 0.8117 - val_accuracy: 0.7619 - val_precision: 0.7619 - val_recall: 0.7619\n",
      "Epoch 14/50\n",
      "44/44 [==============================] - 2s 37ms/step - loss: 0.8235 - accuracy: 0.7523 - precision: 0.7523 - recall: 0.7523 - val_loss: 0.8059 - val_accuracy: 0.7619 - val_precision: 0.7619 - val_recall: 0.7619\n",
      "Epoch 15/50\n",
      "44/44 [==============================] - 2s 37ms/step - loss: 0.8160 - accuracy: 0.7523 - precision: 0.7523 - recall: 0.7523 - val_loss: 0.7977 - val_accuracy: 0.7619 - val_precision: 0.7619 - val_recall: 0.7619\n",
      "Epoch 16/50\n",
      "44/44 [==============================] - 2s 38ms/step - loss: 0.8102 - accuracy: 0.7523 - precision: 0.7523 - recall: 0.7523 - val_loss: 0.7889 - val_accuracy: 0.7619 - val_precision: 0.7619 - val_recall: 0.7619\n",
      "Epoch 17/50\n",
      "44/44 [==============================] - 2s 38ms/step - loss: 0.8001 - accuracy: 0.7523 - precision: 0.7523 - recall: 0.7523 - val_loss: 0.7781 - val_accuracy: 0.7619 - val_precision: 0.7619 - val_recall: 0.7619\n",
      "Epoch 18/50\n",
      "44/44 [==============================] - 2s 38ms/step - loss: 0.7875 - accuracy: 0.7523 - precision: 0.7523 - recall: 0.7523 - val_loss: 0.7586 - val_accuracy: 0.7619 - val_precision: 0.7619 - val_recall: 0.7619\n",
      "Epoch 19/50\n",
      "44/44 [==============================] - 2s 38ms/step - loss: 0.7669 - accuracy: 0.7527 - precision: 0.7533 - recall: 0.7562 - val_loss: 0.7356 - val_accuracy: 0.7619 - val_precision: 0.7619 - val_recall: 0.7619\n",
      "Epoch 20/50\n",
      "44/44 [==============================] - 2s 38ms/step - loss: 0.7492 - accuracy: 0.7757 - precision: 0.7704 - recall: 0.7830 - val_loss: 0.7080 - val_accuracy: 0.7619 - val_precision: 0.7682 - val_recall: 0.7888\n",
      "Epoch 21/50\n",
      "44/44 [==============================] - 1s 34ms/step - loss: 0.7286 - accuracy: 0.7963 - precision: 0.7945 - recall: 0.8046 - val_loss: 0.6804 - val_accuracy: 0.8365 - val_precision: 0.8152 - val_recall: 0.8466\n",
      "Epoch 22/50\n",
      "44/44 [==============================] - 2s 37ms/step - loss: 0.7102 - accuracy: 0.8102 - precision: 0.8049 - recall: 0.8246 - val_loss: 0.6570 - val_accuracy: 0.8642 - val_precision: 0.8576 - val_recall: 0.8684\n",
      "Epoch 23/50\n",
      "44/44 [==============================] - 2s 38ms/step - loss: 0.6874 - accuracy: 0.8265 - precision: 0.8120 - recall: 0.8330 - val_loss: 0.6354 - val_accuracy: 0.8634 - val_precision: 0.8631 - val_recall: 0.8667\n",
      "Epoch 24/50\n",
      "44/44 [==============================] - 2s 38ms/step - loss: 0.6816 - accuracy: 0.8323 - precision: 0.8258 - recall: 0.8357 - val_loss: 0.6264 - val_accuracy: 0.8642 - val_precision: 0.8643 - val_recall: 0.8650\n",
      "Epoch 25/50\n",
      "44/44 [==============================] - 2s 38ms/step - loss: 0.6696 - accuracy: 0.8332 - precision: 0.8333 - recall: 0.8350 - val_loss: 0.6086 - val_accuracy: 0.8650 - val_precision: 0.8648 - val_recall: 0.8684\n",
      "Epoch 26/50\n",
      "44/44 [==============================] - 2s 35ms/step - loss: 0.6626 - accuracy: 0.8339 - precision: 0.8349 - recall: 0.8393 - val_loss: 0.5975 - val_accuracy: 0.8676 - val_precision: 0.8677 - val_recall: 0.8684\n",
      "Epoch 27/50\n",
      "44/44 [==============================] - 2s 35ms/step - loss: 0.6501 - accuracy: 0.8364 - precision: 0.8364 - recall: 0.8438 - val_loss: 0.5841 - val_accuracy: 0.8701 - val_precision: 0.8696 - val_recall: 0.8718\n",
      "Epoch 28/50\n",
      "44/44 [==============================] - 2s 34ms/step - loss: 0.6478 - accuracy: 0.8355 - precision: 0.8374 - recall: 0.8479 - val_loss: 0.5732 - val_accuracy: 0.8759 - val_precision: 0.8745 - val_recall: 0.8759\n",
      "Epoch 29/50\n",
      "44/44 [==============================] - 2s 34ms/step - loss: 0.6346 - accuracy: 0.8368 - precision: 0.8360 - recall: 0.8495 - val_loss: 0.5596 - val_accuracy: 0.8793 - val_precision: 0.8787 - val_recall: 0.8801\n",
      "Epoch 30/50\n",
      "44/44 [==============================] - 1s 34ms/step - loss: 0.6298 - accuracy: 0.8454 - precision: 0.8409 - recall: 0.8483 - val_loss: 0.5477 - val_accuracy: 0.8793 - val_precision: 0.8792 - val_recall: 0.8785\n",
      "Epoch 31/50\n",
      "44/44 [==============================] - 1s 34ms/step - loss: 0.6132 - accuracy: 0.8558 - precision: 0.8464 - recall: 0.8598 - val_loss: 0.5351 - val_accuracy: 0.8885 - val_precision: 0.8880 - val_recall: 0.8902\n",
      "Epoch 32/50\n",
      "44/44 [==============================] - 1s 34ms/step - loss: 0.6028 - accuracy: 0.8596 - precision: 0.8509 - recall: 0.8630 - val_loss: 0.5205 - val_accuracy: 0.8969 - val_precision: 0.8970 - val_recall: 0.8977\n",
      "Epoch 33/50\n",
      "44/44 [==============================] - 1s 34ms/step - loss: 0.5934 - accuracy: 0.8607 - precision: 0.8546 - recall: 0.8663 - val_loss: 0.5090 - val_accuracy: 0.9011 - val_precision: 0.9004 - val_recall: 0.9019\n",
      "Epoch 34/50\n",
      "44/44 [==============================] - 1s 34ms/step - loss: 0.5841 - accuracy: 0.8657 - precision: 0.8634 - recall: 0.8668 - val_loss: 0.5014 - val_accuracy: 0.9103 - val_precision: 0.9088 - val_recall: 0.9103\n",
      "Epoch 35/50\n",
      "44/44 [==============================] - 1s 34ms/step - loss: 0.5738 - accuracy: 0.8763 - precision: 0.8716 - recall: 0.8788 - val_loss: 0.4931 - val_accuracy: 0.9187 - val_precision: 0.9195 - val_recall: 0.9195\n",
      "Epoch 36/50\n",
      "44/44 [==============================] - 1s 34ms/step - loss: 0.5763 - accuracy: 0.8700 - precision: 0.8657 - recall: 0.8715 - val_loss: 0.4818 - val_accuracy: 0.9145 - val_precision: 0.9122 - val_recall: 0.9145\n",
      "Epoch 37/50\n",
      "44/44 [==============================] - 1s 34ms/step - loss: 0.5559 - accuracy: 0.8803 - precision: 0.8781 - recall: 0.8808 - val_loss: 0.4749 - val_accuracy: 0.9229 - val_precision: 0.9221 - val_recall: 0.9229\n",
      "Epoch 38/50\n",
      "44/44 [==============================] - 1s 33ms/step - loss: 0.5447 - accuracy: 0.8857 - precision: 0.8851 - recall: 0.8862 - val_loss: 0.4649 - val_accuracy: 0.9262 - val_precision: 0.9270 - val_recall: 0.9262\n",
      "Epoch 39/50\n",
      "44/44 [==============================] - 1s 33ms/step - loss: 0.5459 - accuracy: 0.8828 - precision: 0.8815 - recall: 0.8837 - val_loss: 0.4579 - val_accuracy: 0.9237 - val_precision: 0.9229 - val_recall: 0.9237\n",
      "Epoch 40/50\n",
      "44/44 [==============================] - 1s 33ms/step - loss: 0.5388 - accuracy: 0.8885 - precision: 0.8874 - recall: 0.8878 - val_loss: 0.4554 - val_accuracy: 0.9363 - val_precision: 0.9363 - val_recall: 0.9371\n",
      "Epoch 41/50\n",
      "44/44 [==============================] - 1s 33ms/step - loss: 0.5267 - accuracy: 0.8911 - precision: 0.8904 - recall: 0.8905 - val_loss: 0.4431 - val_accuracy: 0.9363 - val_precision: 0.9355 - val_recall: 0.9363\n",
      "Epoch 42/50\n",
      "44/44 [==============================] - 1s 34ms/step - loss: 0.5215 - accuracy: 0.8925 - precision: 0.8915 - recall: 0.8925 - val_loss: 0.4388 - val_accuracy: 0.9363 - val_precision: 0.9371 - val_recall: 0.9363\n",
      "Epoch 43/50\n",
      "44/44 [==============================] - 1s 33ms/step - loss: 0.5112 - accuracy: 0.8932 - precision: 0.8941 - recall: 0.8921 - val_loss: 0.4303 - val_accuracy: 0.9396 - val_precision: 0.9396 - val_recall: 0.9396\n",
      "Epoch 44/50\n",
      "44/44 [==============================] - 2s 34ms/step - loss: 0.5029 - accuracy: 0.8952 - precision: 0.8959 - recall: 0.8957 - val_loss: 0.4251 - val_accuracy: 0.9438 - val_precision: 0.9430 - val_recall: 0.9430\n",
      "Epoch 45/50\n",
      "44/44 [==============================] - 2s 37ms/step - loss: 0.4979 - accuracy: 0.9028 - precision: 0.9037 - recall: 0.9022 - val_loss: 0.4176 - val_accuracy: 0.9413 - val_precision: 0.9405 - val_recall: 0.9413\n",
      "Epoch 46/50\n",
      "44/44 [==============================] - 1s 34ms/step - loss: 0.4895 - accuracy: 0.9031 - precision: 0.9036 - recall: 0.9019 - val_loss: 0.4118 - val_accuracy: 0.9438 - val_precision: 0.9438 - val_recall: 0.9438\n",
      "Epoch 47/50\n",
      "44/44 [==============================] - 2s 35ms/step - loss: 0.4828 - accuracy: 0.9071 - precision: 0.9073 - recall: 0.9060 - val_loss: 0.4133 - val_accuracy: 0.9396 - val_precision: 0.9396 - val_recall: 0.9396\n",
      "Epoch 48/50\n",
      "44/44 [==============================] - 2s 40ms/step - loss: 0.4815 - accuracy: 0.9071 - precision: 0.9071 - recall: 0.9074 - val_loss: 0.4049 - val_accuracy: 0.9413 - val_precision: 0.9413 - val_recall: 0.9413\n",
      "Epoch 49/50\n",
      "44/44 [==============================] - 2s 37ms/step - loss: 0.4692 - accuracy: 0.9083 - precision: 0.9084 - recall: 0.9074 - val_loss: 0.4027 - val_accuracy: 0.9438 - val_precision: 0.9438 - val_recall: 0.9438\n",
      "Epoch 50/50\n",
      "44/44 [==============================] - 2s 35ms/step - loss: 0.4651 - accuracy: 0.9085 - precision: 0.9093 - recall: 0.9085 - val_loss: 0.3977 - val_accuracy: 0.9422 - val_precision: 0.9430 - val_recall: 0.9422\n"
     ]
    }
   ],
   "source": [
    "# Fitting on the training model\n",
    "history=textcnnmodel.fit(train_ds.shuffle(2000).batch(128),\n",
    "                     epochs=50,\n",
    "                     verbose=1,\n",
    "                     validation_data=valid_ds.batch(128))"
   ]
  },
  {
   "cell_type": "markdown",
   "id": "c916f23e",
   "metadata": {},
   "source": [
    "## Deep learning: Evaluations of model\n",
    "For evaluation of this CNN model, I will focus on the evaluation parameter **Recall**. From below code, I can say that the training results are showing as a perfect score so better than the validation results."
   ]
  },
  {
   "cell_type": "code",
   "execution_count": 62,
   "id": "57e8c792",
   "metadata": {},
   "outputs": [
    {
     "name": "stdout",
     "output_type": "stream",
     "text": [
      "Training ==> Accuracy: 0.9437, Precision: 0.9439, Recall: 0.9436\n",
      "Validation ==> Accuracy:  0.9422, Precision: 0.9430, Recall: 0.9422\n"
     ]
    }
   ],
   "source": [
    "# Evaluating the training and validation accuracies\n",
    "loss, accuracy, precision, recall = textcnnmodel.evaluate(Xcnn_train, train_labels, verbose=False)\n",
    "print(\"Training ==> Accuracy: {:.4f}, Precision: {:.4f}, Recall: {:.4f}\".format(accuracy,precision,recall))\n",
    "loss, accuracy, precision, recall = textcnnmodel.evaluate(Xcnn_valid, valid_labels, verbose=False)\n",
    "print(\"Validation ==> Accuracy:  {:.4f}, Precision: {:.4f}, Recall: {:.4f}\".format(accuracy,precision,recall))"
   ]
  },
  {
   "cell_type": "code",
   "execution_count": 63,
   "id": "03054e06",
   "metadata": {},
   "outputs": [
    {
     "data": {
      "text/plain": [
       "dict_keys(['loss', 'accuracy', 'precision', 'recall', 'val_loss', 'val_accuracy', 'val_precision', 'val_recall'])"
      ]
     },
     "execution_count": 63,
     "metadata": {},
     "output_type": "execute_result"
    }
   ],
   "source": [
    "history.history.keys()"
   ]
  },
  {
   "cell_type": "code",
   "execution_count": 64,
   "id": "1c38db04",
   "metadata": {},
   "outputs": [
    {
     "data": {
      "image/png": "[encoded data removed]",
      "text/plain": [
       "<Figure size 432x288 with 1 Axes>"
      ]
     },
     "metadata": {
      "needs_background": "light"
     },
     "output_type": "display_data"
    }
   ],
   "source": [
    "# summarize history for accuracy\n",
    "\n",
    "plt.plot(history.history['accuracy'])\n",
    "plt.plot(history.history['val_accuracy'])\n",
    "plt.title('Accuracy')\n",
    "plt.ylabel('accuracy')\n",
    "plt.xlabel('epoch')\n",
    "plt.legend(['train', 'validation'], loc='lower right')\n",
    "plt.show()"
   ]
  },
  {
   "cell_type": "code",
   "execution_count": 65,
   "id": "341a1820",
   "metadata": {},
   "outputs": [
    {
     "data": {
      "image/png": "[encoded data removed]",
      "text/plain": [
       "<Figure size 432x288 with 1 Axes>"
      ]
     },
     "metadata": {
      "needs_background": "light"
     },
     "output_type": "display_data"
    }
   ],
   "source": [
    "# summarize history for loss\n",
    "\n",
    "plt.plot(history.history['loss'])\n",
    "plt.plot(history.history['val_loss'])\n",
    "plt.title('Loss')\n",
    "plt.ylabel('loss')\n",
    "plt.xlabel('epoch')\n",
    "plt.legend(['train', 'validation'], loc='upper right')\n",
    "# plt.ylim((-0.1, 1.1))\n",
    "plt.show()"
   ]
  },
  {
   "cell_type": "markdown",
   "id": "d54cd780",
   "metadata": {},
   "source": [
    "### Observations:\n",
    "\n",
    "- Based on the **model.evaluate** I can say that the model is performing well on classifying the data correctly. Talking about **recall**, both shows similar and good outcomes on both training and validation data.\n",
    "- The accuracies for the both the training and validation data was constant for first 20 epochs and then increased at the same pace (parallel to each other) for the next 30 epochs, reaching to 95% and 93% respectively.\n",
    "- Also, the model shows an improved performance on loss too. The loss for both the train and validation data keeps decreasing till the 50 epochs simultaneously and stabilizes at the end."
   ]
  },
  {
   "cell_type": "markdown",
   "id": "5f56f138",
   "metadata": {},
   "source": [
    "## Deep Learning: Predictions on train, validation and test data"
   ]
  },
  {
   "cell_type": "code",
   "execution_count": 66,
   "id": "ad2ee232",
   "metadata": {},
   "outputs": [
    {
     "name": "stdout",
     "output_type": "stream",
     "text": [
      "******** Training Data ********\n",
      "174/174 [==============================] - 1s 3ms/step\n",
      "(5563, 2)\n"
     ]
    }
   ],
   "source": [
    "print(\"******** Training Data ********\")\n",
    "# Make a set of predictions for the training data\n",
    "y_pred = textcnnmodel.predict(Xcnn_train)\n",
    "# y_pred has a predict value for each instance in Xcnn_train\n",
    "print(y_pred.shape)\n",
    "\n",
    "predict_results=y_pred.argmax(axis=1)"
   ]
  },
  {
   "cell_type": "code",
   "execution_count": 67,
   "id": "f1593799",
   "metadata": {},
   "outputs": [
    {
     "name": "stdout",
     "output_type": "stream",
     "text": [
      "******** Training Data ********\n",
      "              precision    recall  f1-score   support\n",
      "\n",
      "           0       0.91      0.86      0.88      1378\n",
      "           1       0.95      0.97      0.96      4185\n",
      "\n",
      "    accuracy                           0.94      5563\n",
      "   macro avg       0.93      0.91      0.92      5563\n",
      "weighted avg       0.94      0.94      0.94      5563\n",
      "\n"
     ]
    },
    {
     "data": {
      "image/png": "[encoded data removed]",
      "text/plain": [
       "<Figure size 864x432 with 2 Axes>"
      ]
     },
     "metadata": {
      "needs_background": "light"
     },
     "output_type": "display_data"
    }
   ],
   "source": [
    "print(\"******** Training Data ********\")\n",
    "\n",
    "print(metrics.classification_report(y_train_1, predict_results.tolist()))\n",
    "\n",
    "cm=confusion_matrix(y_train_1, predict_results.tolist())\n",
    "plt.figure(figsize=(12,6))\n",
    "\n",
    "ax= plt.subplot()\n",
    "sns.heatmap(cm, annot=True, fmt='g', ax=ax, cmap=\"Blues\"); \n",
    "ax.set_xlabel('Predicted labels');ax.set_ylabel('True labels'); \n",
    "ax.set_title('Confusion Matrix'); \n",
    "ax.xaxis.set_ticklabels(['Home & Living', 'Wellness']); ax.yaxis.set_ticklabels(['Home & Living', 'Wellness']);"
   ]
  },
  {
   "cell_type": "code",
   "execution_count": 68,
   "id": "2ca718e0",
   "metadata": {},
   "outputs": [
    {
     "name": "stdout",
     "output_type": "stream",
     "text": [
      "******** Validation Data ********\n",
      "38/38 [==============================] - 0s 3ms/step\n",
      "(1193, 2)\n"
     ]
    }
   ],
   "source": [
    "print(\"******** Validation Data ********\")\n",
    "# Make a set of predictions for the validation data\n",
    "y_pred = textcnnmodel.predict(Xcnn_valid)\n",
    "# y_pred has a predict value for each instance in Xcnn_valid\n",
    "print(y_pred.shape)\n",
    "\n",
    "predict_results=y_pred.argmax(axis=1)"
   ]
  },
  {
   "cell_type": "code",
   "execution_count": 69,
   "id": "209e2889",
   "metadata": {},
   "outputs": [
    {
     "name": "stdout",
     "output_type": "stream",
     "text": [
      "******** Validation Data ********\n",
      "              precision    recall  f1-score   support\n",
      "\n",
      "           0       0.89      0.86      0.88       284\n",
      "           1       0.96      0.97      0.96       909\n",
      "\n",
      "    accuracy                           0.94      1193\n",
      "   macro avg       0.92      0.91      0.92      1193\n",
      "weighted avg       0.94      0.94      0.94      1193\n",
      "\n"
     ]
    },
    {
     "data": {
      "image/png": "[encoded data removed]",
      "text/plain": [
       "<Figure size 864x432 with 2 Axes>"
      ]
     },
     "metadata": {
      "needs_background": "light"
     },
     "output_type": "display_data"
    }
   ],
   "source": [
    "print(\"******** Validation Data ********\")\n",
    "\n",
    "print(metrics.classification_report(y_valid_1, predict_results.tolist()))\n",
    "\n",
    "cm=confusion_matrix(y_valid_1, predict_results.tolist())\n",
    "plt.figure(figsize=(12,6))\n",
    "\n",
    "ax= plt.subplot()\n",
    "sns.heatmap(cm, annot=True, fmt='g', ax=ax, cmap=\"Blues\"); \n",
    "ax.set_xlabel('Predicted labels');ax.set_ylabel('True labels'); \n",
    "ax.set_title('Confusion Matrix'); \n",
    "ax.xaxis.set_ticklabels(['Home & Living', 'Wellness']); ax.yaxis.set_ticklabels(['Home & Living', 'Wellness']);"
   ]
  },
  {
   "cell_type": "code",
   "execution_count": 70,
   "id": "18316c0b",
   "metadata": {},
   "outputs": [
    {
     "name": "stdout",
     "output_type": "stream",
     "text": [
      "******** Test Data ********\n",
      "38/38 [==============================] - 0s 4ms/step\n",
      "(1193, 2)\n"
     ]
    }
   ],
   "source": [
    "print(\"******** Test Data ********\")\n",
    "# Make a set of predictions for the test data\n",
    "y_pred = textcnnmodel.predict(Xcnn_test)\n",
    "# y_pred has a predict value for each instance in Xcnn_test\n",
    "print(y_pred.shape)\n",
    "\n",
    "predict_results=y_pred.argmax(axis=1)"
   ]
  },
  {
   "cell_type": "code",
   "execution_count": 71,
   "id": "3745ebe8",
   "metadata": {},
   "outputs": [
    {
     "name": "stdout",
     "output_type": "stream",
     "text": [
      "******** Test Data ********\n",
      "              precision    recall  f1-score   support\n",
      "\n",
      "           0       0.89      0.84      0.86       321\n",
      "           1       0.94      0.96      0.95       872\n",
      "\n",
      "    accuracy                           0.93      1193\n",
      "   macro avg       0.92      0.90      0.91      1193\n",
      "weighted avg       0.93      0.93      0.93      1193\n",
      "\n"
     ]
    },
    {
     "data": {
      "image/png": "[encoded data removed]",
      "text/plain": [
       "<Figure size 864x432 with 2 Axes>"
      ]
     },
     "metadata": {
      "needs_background": "light"
     },
     "output_type": "display_data"
    }
   ],
   "source": [
    "print(\"******** Test Data ********\")\n",
    "\n",
    "print(metrics.classification_report(y_test_1, predict_results.tolist()))\n",
    "\n",
    "cm=confusion_matrix(y_test_1, predict_results.tolist())\n",
    "plt.figure(figsize=(12,6))\n",
    "\n",
    "ax= plt.subplot()\n",
    "sns.heatmap(cm, annot=True, fmt='g', ax=ax, cmap=\"Blues\"); \n",
    "ax.set_xlabel('Predicted labels');ax.set_ylabel('True labels'); \n",
    "ax.set_title('Confusion Matrix'); \n",
    "ax.xaxis.set_ticklabels(['Home & Living', 'Wellness']); ax.yaxis.set_ticklabels(['Home & Living', 'Wellness']);"
   ]
  },
  {
   "cell_type": "markdown",
   "id": "e0703c93",
   "metadata": {},
   "source": [
    "### Observations:\n",
    "\n",
    "- The model performed well on all the train, validation and test data.\n",
    "- In comparison, test data showed better performance than the validation set as misclassified 3 lesser data points than validation data for **Home & Living**. So, **recall** was slightly better is case of test data i.e. 85%.\n",
    "- Recall for **Wellness** didn't showed any difference for both validation and test data. Also, precision was similar. Therefore, here because of improvement in Recall score the perdictions was better on test results.\n"
   ]
  },
  {
   "cell_type": "markdown",
   "id": "b63af4f8",
   "metadata": {},
   "source": [
    "<span style=\"color:red\">Step 8</span>\n",
    "\n",
    "# Data Evaluation: SVC & LR model\n",
    "\n",
    "I have decided to choose **Confusion Matrix** as my evaluation metrics because of the following reasons:\n",
    "\n",
    "1. Confusion matrices are not just useful in model evaluation but also model monitoring and model management.\n",
    "2. General accuracy is often not enough information to allow you to decide on a model’s value.\n",
    "3. Confusion matrices can help with side-by-side comparisons of different classification methods. You can see not only how accurate one model is over the other, but also see more granularly how a model does in sensitivity or specificity, as those might be more important factors than general accuracy itself. \n",
    "4. I will look at two factors mainly, __F1 score__ as it is the most common metrics used on unbalanced classification problems as compared to accuracy. Also, as F1 score is a harmonic mean between precision and recall. It will calculate the weighted average of both precision and recall.\n",
    "5. Another one, I will be focussing on the **Recall** percentage which will be like my **primary metric** for minority category 0 (Home & Living). I will try to **increase Recall** score by making an effort to **decrease the false negatives** i.e. I will try to achieve this by classifying the documents which were not correctly assigned to the **Home & Living** category. I think these will be good benchmarks as both better precision and recall will lead to a better model. "
   ]
  },
  {
   "cell_type": "markdown",
   "id": "5cb5017e",
   "metadata": {},
   "source": [
    "### SVC: Performance on training data"
   ]
  },
  {
   "cell_type": "code",
   "execution_count": 72,
   "id": "441c825d",
   "metadata": {},
   "outputs": [
    {
     "name": "stdout",
     "output_type": "stream",
     "text": [
      "SVC ::\n",
      "\n",
      "Confusion matrix for training data:\n",
      "\n",
      "               precision    recall  f1-score   support\n",
      "\n",
      "Home & Living       1.00      0.98      0.99      1378\n",
      "     Wellness       0.99      1.00      1.00      4185\n",
      "\n",
      "     accuracy                           0.99      5563\n",
      "    macro avg       1.00      0.99      0.99      5563\n",
      " weighted avg       0.99      0.99      0.99      5563\n",
      "\n"
     ]
    },
    {
     "data": {
      "image/png": "[encoded data removed]",
      "text/plain": [
       "<Figure size 864x432 with 2 Axes>"
      ]
     },
     "metadata": {
      "needs_background": "light"
     },
     "output_type": "display_data"
    }
   ],
   "source": [
    "# Changing X and y to evaluate the results of the SVC model on training data:\n",
    "X_cm = X_train_matrix\n",
    "y_true_labels = y_train\n",
    "model = svc_model\n",
    "\n",
    "# Predicting the y-variable i.e. y_pred based on the fitted model on X_training data\n",
    "# Plotting and visualizing the true lables and predicted labels in the confusion matrix\n",
    "y_pred_train = model.predict(X_cm)\n",
    "print(\"SVC ::\\n\")\n",
    "\n",
    "print(\"Confusion matrix for training data:\\n\")\n",
    "print(metrics.classification_report(y_true_labels, y_pred_train, target_names=['Home & Living', 'Wellness']))\n",
    "\n",
    "cm=confusion_matrix(y_true_labels, y_pred_train)\n",
    "plt.figure(figsize=(12,6))\n",
    "\n",
    "ax= plt.subplot()\n",
    "sns.heatmap(cm, annot=True, fmt='g', ax=ax, cmap = \"OrRd\"); \n",
    "ax.set_xlabel('Predicted labels');ax.set_ylabel('True labels'); \n",
    "ax.set_title('Confusion Matrix'); \n",
    "ax.xaxis.set_ticklabels(['Home & Living', 'Wellness']); ax.yaxis.set_ticklabels(['Home & Living', 'Wellness']);"
   ]
  },
  {
   "cell_type": "markdown",
   "id": "a295d659",
   "metadata": {},
   "source": [
    "### SVC: Performance on validation data\n",
    "\n"
   ]
  },
  {
   "cell_type": "code",
   "execution_count": 73,
   "id": "3388b716",
   "metadata": {},
   "outputs": [
    {
     "name": "stdout",
     "output_type": "stream",
     "text": [
      "SVC ::\n",
      "\n",
      "Confusion matrix for validation data:\n",
      "\n",
      "               precision    recall  f1-score   support\n",
      "\n",
      "Home & Living       0.97      0.92      0.95       284\n",
      "     Wellness       0.98      0.99      0.98       909\n",
      "\n",
      "     accuracy                           0.97      1193\n",
      "    macro avg       0.97      0.96      0.96      1193\n",
      " weighted avg       0.97      0.97      0.97      1193\n",
      "\n"
     ]
    },
    {
     "data": {
      "image/png": "[encoded data removed]",
      "text/plain": [
       "<Figure size 864x432 with 2 Axes>"
      ]
     },
     "metadata": {
      "needs_background": "light"
     },
     "output_type": "display_data"
    }
   ],
   "source": [
    "# Changing X and y to evaluate the results of the SVC model on validation data:\n",
    "\n",
    "X_cm = X_valid_matrix\n",
    "y_true_labels = y_valid\n",
    "\n",
    "# Predicting the y-variable i.e. y_pred based on the fitted model on X_valid data\n",
    "# Plotting and visualizing the true lables and predicted labels in the confusion matrix\n",
    "y_pred_val = model.predict(X_cm)\n",
    "print(\"SVC ::\\n\")\n",
    "\n",
    "print(\"Confusion matrix for validation data:\\n\")\n",
    "print(metrics.classification_report(y_true_labels, y_pred_val, target_names=['Home & Living', 'Wellness']))\n",
    "\n",
    "cm=confusion_matrix(y_true_labels, y_pred_val)\n",
    "plt.figure(figsize=(12,6))\n",
    "\n",
    "ax= plt.subplot()\n",
    "sns.heatmap(cm, annot=True, fmt='g', ax=ax, cmap = \"OrRd\"); \n",
    "ax.set_xlabel('Predicted labels');ax.set_ylabel('True labels'); \n",
    "ax.set_title('Confusion Matrix'); \n",
    "ax.xaxis.set_ticklabels(['Home & Living', 'Wellness']); ax.yaxis.set_ticklabels(['Home & Living', 'Wellness']);"
   ]
  },
  {
   "cell_type": "markdown",
   "id": "a12f43f0",
   "metadata": {},
   "source": [
    "### Logistic Regression: Performance on training data"
   ]
  },
  {
   "cell_type": "code",
   "execution_count": 74,
   "id": "21bdd457",
   "metadata": {},
   "outputs": [
    {
     "name": "stdout",
     "output_type": "stream",
     "text": [
      "Logistic Regression::\n",
      "\n",
      "Confusion matrix for training data:\n",
      "\n",
      "               precision    recall  f1-score   support\n",
      "\n",
      "Home & Living       1.00      0.81      0.90      1378\n",
      "     Wellness       0.94      1.00      0.97      4185\n",
      "\n",
      "     accuracy                           0.95      5563\n",
      "    macro avg       0.97      0.91      0.93      5563\n",
      " weighted avg       0.96      0.95      0.95      5563\n",
      "\n"
     ]
    },
    {
     "data": {
      "image/png": "[encoded data removed]",
      "text/plain": [
       "<Figure size 864x432 with 2 Axes>"
      ]
     },
     "metadata": {
      "needs_background": "light"
     },
     "output_type": "display_data"
    }
   ],
   "source": [
    "# Changing X and y to evaluate the results of the Logistic Regression model on training data:\n",
    "X_cm = X_train_matrix\n",
    "y_true_labels = y_train\n",
    "model_1 = l_reg\n",
    "\n",
    "# Predicting the y-variable i.e. y_pred based on the fitted model on X_training data\n",
    "#Plotting and visualizing the true lables and predicted labels in the confusion matrix\n",
    "y_pred_train_l = model_1.predict(X_cm)\n",
    "print(\"Logistic Regression::\\n\")\n",
    "print(\"Confusion matrix for training data:\\n\")\n",
    "print(metrics.classification_report(y_true_labels, y_pred_train_l, target_names=['Home & Living', 'Wellness']))\n",
    "\n",
    "cm=confusion_matrix(y_true_labels, y_pred_train_l)\n",
    "plt.figure(figsize=(12,6))\n",
    "\n",
    "ax= plt.subplot()\n",
    "sns.heatmap(cm, annot=True, fmt='g', ax=ax, cmap = \"OrRd\"); \n",
    "ax.set_xlabel('Predicted labels');ax.set_ylabel('True labels'); \n",
    "ax.set_title('Confusion Matrix'); \n",
    "ax.xaxis.set_ticklabels(['Home & Living', 'Wellness']); ax.yaxis.set_ticklabels(['Home & Living', 'Wellness']);"
   ]
  },
  {
   "cell_type": "markdown",
   "id": "3be20949",
   "metadata": {},
   "source": [
    "### Logistic Regression: Performance on validation data"
   ]
  },
  {
   "cell_type": "code",
   "execution_count": 75,
   "id": "668b2648",
   "metadata": {
    "scrolled": true
   },
   "outputs": [
    {
     "name": "stdout",
     "output_type": "stream",
     "text": [
      "Logistic Regression::\n",
      "\n",
      "Confusion matrix for validation data:\n",
      "\n",
      "               precision    recall  f1-score   support\n",
      "\n",
      "Home & Living       0.99      0.82      0.90       284\n",
      "     Wellness       0.95      1.00      0.97       909\n",
      "\n",
      "     accuracy                           0.96      1193\n",
      "    macro avg       0.97      0.91      0.93      1193\n",
      " weighted avg       0.96      0.96      0.95      1193\n",
      "\n"
     ]
    },
    {
     "data": {
      "image/png": "[encoded data removed]",
      "text/plain": [
       "<Figure size 864x432 with 2 Axes>"
      ]
     },
     "metadata": {
      "needs_background": "light"
     },
     "output_type": "display_data"
    }
   ],
   "source": [
    "# Changing X and y to evaluate the results of the Logistic Regression model on validation data:\n",
    "X_cm = X_valid_matrix\n",
    "y_true_labels = y_valid\n",
    "\n",
    "# Predicting the y-variable i.e. y_pred based on the fitted model on X_validation data\n",
    "#Plotting and visualizing the true lables and predicted labels in the confusion matrix\n",
    "y_pred_val_l = model_1.predict(X_cm)\n",
    "\n",
    "print(\"Logistic Regression::\\n\")\n",
    "print(\"Confusion matrix for validation data:\\n\")\n",
    "print(metrics.classification_report(y_true_labels, y_pred_val_l, target_names=['Home & Living', 'Wellness']))\n",
    "\n",
    "cm=confusion_matrix(y_true_labels, y_pred_val_l)\n",
    "plt.figure(figsize=(12,6))\n",
    "\n",
    "ax= plt.subplot()\n",
    "sns.heatmap(cm, annot=True, fmt='g', ax=ax, cmap = \"OrRd\"); \n",
    "ax.set_xlabel('Predicted labels');ax.set_ylabel('True labels'); \n",
    "ax.set_title('Confusion Matrix'); \n",
    "ax.xaxis.set_ticklabels(['Home & Living', 'Wellness']); ax.yaxis.set_ticklabels(['Home & Living', 'Wellness']);"
   ]
  },
  {
   "cell_type": "markdown",
   "id": "9790023c",
   "metadata": {},
   "source": [
    "<span style=\"color:red\">Step 9</span>\n",
    "\n",
    "### Performance Comparison: SVC v/s LR \n",
    "\n",
    "- The **Confusion Matrix** for both the models shows pretty good results on the train and validation data considering it an unbalanced dataset. We can also see that the precision is the major contributing factor behind getting a good f1-score. Precision for both the categories in the models is pretty good. However, **recall** performance differs for both the categories. It performs better for majority class \"Wellness\" as comaperd to minority class \"Home & Living\".\n",
    "- We can also see that \"SVC\" performance is **better** as compared to the \"LR\" on both the training and validation data. The reason being, SVM tries to finds the “best” margin (distance between the line and the support vectors) that separates the classes and this reduces the risk of error on the data, while logistic regression does not, instead it can have different decision boundaries with different weights that are near the optimal point.\n",
    "Source: https://medium.com/axum-labs/logistic-regression-vs-support-vector-machines-svm-c335610a3d16#:~:text=SVM%20tries%20to%20finds%20the,are%20near%20the%20optimal%20point.\n",
    "- Also, as there is not much difference between the training and validation **accuracies** that means that both the models aren't **overfitting**. It can be due to the presence of regularization parameter in both the models. However, as expected training f1 scores and accuracies are greater than that of validation data.\n",
    "Source: https://www.quora.com/How-do-we-know-whether-a-model-is-overfitting\n",
    "- Another thing to notice from the classification report is that the **Recall** score for \"Home & Living\" category is far more less for \"Logistic Regression\" model as compared to the \"SVC\" model. In SVC model, about 28 (Train), 23 (Validation) data points were misclassified as Wellness, however, in LR model the count rose to 255 (Train), 51 (Validation) according to the confusion matrix, which proves the second point.\n",
    "- Cumulative F1-scores for both the models on both the training and validation data is approximately **1**."
   ]
  },
  {
   "cell_type": "markdown",
   "id": "cd97128f",
   "metadata": {},
   "source": [
    "### Error Analysis\n",
    "\n",
    "### SVC\n",
    "\n",
    "#### On training set"
   ]
  },
  {
   "cell_type": "code",
   "execution_count": 76,
   "id": "8d18db27",
   "metadata": {},
   "outputs": [],
   "source": [
    "train_data['category_pred'] = y_pred_train\n",
    "train_analysis = train_data.loc[(train_data['CategoryId']==0) & (train_data['category_pred']==1)]\n",
    "#train_analysis.to_csv(\"err_train_svc.csv\")"
   ]
  },
  {
   "cell_type": "markdown",
   "id": "af4d935d",
   "metadata": {},
   "source": [
    "#### On validation set"
   ]
  },
  {
   "cell_type": "code",
   "execution_count": 77,
   "id": "b75ded55",
   "metadata": {},
   "outputs": [],
   "source": [
    "valid_data['category_pred'] = y_pred_val\n",
    "val_analysis = valid_data.loc[(valid_data['CategoryId']==0) & (valid_data['category_pred']==1)]\n",
    "#val_analysis.to_csv(\"err_val_svc.csv\")"
   ]
  },
  {
   "cell_type": "markdown",
   "id": "52d1424f",
   "metadata": {},
   "source": [
    "### Logistic Regression"
   ]
  },
  {
   "cell_type": "markdown",
   "id": "82943e17",
   "metadata": {},
   "source": [
    "#### On training set"
   ]
  },
  {
   "cell_type": "code",
   "execution_count": 78,
   "id": "9734ac15",
   "metadata": {},
   "outputs": [],
   "source": [
    "train_data['category_pred'] = y_pred_train_l\n",
    "train_analysis = train_data.loc[(train_data['CategoryId']==0) & (train_data['category_pred']==1)]\n",
    "#train_analysis.to_csv(\"err_train_lr.csv\")"
   ]
  },
  {
   "cell_type": "markdown",
   "id": "b226bdc9",
   "metadata": {},
   "source": [
    "#### On validation set"
   ]
  },
  {
   "cell_type": "code",
   "execution_count": 79,
   "id": "93797652",
   "metadata": {},
   "outputs": [],
   "source": [
    "valid_data['category_pred'] = y_pred_val_l\n",
    "val_analysis = valid_data.loc[(valid_data['CategoryId']==0) & (valid_data['category_pred']==1)]\n",
    "#val_analysis.to_csv(\"err_val_lr.csv\")"
   ]
  },
  {
   "cell_type": "markdown",
   "id": "e133d935",
   "metadata": {},
   "source": [
    "<span style=\"color:red\">Step 10</span>\n",
    "\n",
    "### Observations\n",
    "\n",
    "- Almost all the records incorrectly predicted by the SVC model were present in the Logistic Regression error analysis csv file. After studying those records I found that many words mentioned in those sentences like \"incandescent\",\"autumn\",\"shipping\",\"nifty\" etc. were rare and unique. Therefore, I assume that they were mis-classified because of their negligible count and classified to the majority class i.e. \"Wellness\" as weighted more.\n",
    "- Furthermore, records containing popular and common words like \"new\",\"make\",\"day\",\"time\" etc. were bound to be mis-classified as \"Wellness\" category because these have much higher count as compared in the \"Home&Living\" category as it has less records. Therefore, again due to imbalance of data records got misclassified. Refer to Step 3(i) or most common words after pre-processing.\n",
    "- We can say that both the models have potential to perform better if we reduce the imbalance."
   ]
  },
  {
   "cell_type": "markdown",
   "id": "dca64a7e",
   "metadata": {},
   "source": [
    "<span style=\"color:red\">Step 11</span>\n",
    "\n",
    "\n",
    "### First Improvement: In Feature Engineering\n",
    "\n",
    "I will set **max_df** parameter in TF-IDF vectorizer to 0.8 so that it doesn't consider most popular common words like \"new\", \"make\", \"day\" for both the categories. It will build a vocabulary  that ignore terms that have a document frequency strictly higher than the given threshold i.e. 0.8\n",
    "\n",
    "Furthermore, I will set **min_df** as 2, which means \"ignore terms that appear in less than 2 document\" to remove rare frequency words.\n",
    "\n",
    "**Sublinear tf-scaling** is set to True, to scale down the weight of term algorithm as it is occurring multiple times(maximum tf) in first document."
   ]
  },
  {
   "cell_type": "code",
   "execution_count": 80,
   "id": "a2526d1f",
   "metadata": {},
   "outputs": [],
   "source": [
    "vectorizer_1 = TfidfVectorizer(max_df=0.8, min_df=2, sublinear_tf=True)\n",
    "\n",
    "# Vectorizing training and validation dataset\n",
    "#Fit the vecotrizer on training dataset\n",
    "vectorizer_1.fit(train_data['description'])\n",
    "\n",
    "#Transforming training and validation dataset\n",
    "X_train_matrix_1 = vectorizer_1.transform(train_data['description'])\n",
    "X_valid_matrix_1 = vectorizer_1.transform(valid_data['description'])"
   ]
  },
  {
   "cell_type": "markdown",
   "id": "6f0a0746",
   "metadata": {},
   "source": [
    "### SVC"
   ]
  },
  {
   "cell_type": "code",
   "execution_count": 81,
   "id": "ec555c67",
   "metadata": {},
   "outputs": [
    {
     "data": {
      "text/html": [
       "<style>#sk-container-id-3 {color: black;background-color: white;}#sk-container-id-3 pre{padding: 0;}#sk-container-id-3 div.sk-toggleable {background-color: white;}#sk-container-id-3 label.sk-toggleable__label {cursor: pointer;display: block;width: 100%;margin-bottom: 0;padding: 0.3em;box-sizing: border-box;text-align: center;}#sk-container-id-3 label.sk-toggleable__label-arrow:before {content: \"▸\";float: left;margin-right: 0.25em;color: #696969;}#sk-container-id-3 label.sk-toggleable__label-arrow:hover:before {color: black;}#sk-container-id-3 div.sk-estimator:hover label.sk-toggleable__label-arrow:before {color: black;}#sk-container-id-3 div.sk-toggleable__content {max-height: 0;max-width: 0;overflow: hidden;text-align: left;background-color: #f0f8ff;}#sk-container-id-3 div.sk-toggleable__content pre {margin: 0.2em;color: black;border-radius: 0.25em;background-color: #f0f8ff;}#sk-container-id-3 input.sk-toggleable__control:checked~div.sk-toggleable__content {max-height: 200px;max-width: 100%;overflow: auto;}#sk-container-id-3 input.sk-toggleable__control:checked~label.sk-toggleable__label-arrow:before {content: \"▾\";}#sk-container-id-3 div.sk-estimator input.sk-toggleable__control:checked~label.sk-toggleable__label {background-color: #d4ebff;}#sk-container-id-3 div.sk-label input.sk-toggleable__control:checked~label.sk-toggleable__label {background-color: #d4ebff;}#sk-container-id-3 input.sk-hidden--visually {border: 0;clip: rect(1px 1px 1px 1px);clip: rect(1px, 1px, 1px, 1px);height: 1px;margin: -1px;overflow: hidden;padding: 0;position: absolute;width: 1px;}#sk-container-id-3 div.sk-estimator {font-family: monospace;background-color: #f0f8ff;border: 1px dotted black;border-radius: 0.25em;box-sizing: border-box;margin-bottom: 0.5em;}#sk-container-id-3 div.sk-estimator:hover {background-color: #d4ebff;}#sk-container-id-3 div.sk-parallel-item::after {content: \"\";width: 100%;border-bottom: 1px solid gray;flex-grow: 1;}#sk-container-id-3 div.sk-label:hover label.sk-toggleable__label {background-color: #d4ebff;}#sk-container-id-3 div.sk-serial::before {content: \"\";position: absolute;border-left: 1px solid gray;box-sizing: border-box;top: 0;bottom: 0;left: 50%;z-index: 0;}#sk-container-id-3 div.sk-serial {display: flex;flex-direction: column;align-items: center;background-color: white;padding-right: 0.2em;padding-left: 0.2em;position: relative;}#sk-container-id-3 div.sk-item {position: relative;z-index: 1;}#sk-container-id-3 div.sk-parallel {display: flex;align-items: stretch;justify-content: center;background-color: white;position: relative;}#sk-container-id-3 div.sk-item::before, #sk-container-id-3 div.sk-parallel-item::before {content: \"\";position: absolute;border-left: 1px solid gray;box-sizing: border-box;top: 0;bottom: 0;left: 50%;z-index: -1;}#sk-container-id-3 div.sk-parallel-item {display: flex;flex-direction: column;z-index: 1;position: relative;background-color: white;}#sk-container-id-3 div.sk-parallel-item:first-child::after {align-self: flex-end;width: 50%;}#sk-container-id-3 div.sk-parallel-item:last-child::after {align-self: flex-start;width: 50%;}#sk-container-id-3 div.sk-parallel-item:only-child::after {width: 0;}#sk-container-id-3 div.sk-dashed-wrapped {border: 1px dashed gray;margin: 0 0.4em 0.5em 0.4em;box-sizing: border-box;padding-bottom: 0.4em;background-color: white;}#sk-container-id-3 div.sk-label label {font-family: monospace;font-weight: bold;display: inline-block;line-height: 1.2em;}#sk-container-id-3 div.sk-label-container {text-align: center;}#sk-container-id-3 div.sk-container {/* jupyter's `normalize.less` sets `[hidden] { display: none; }` but bootstrap.min.css set `[hidden] { display: none !important; }` so we also need the `!important` here to be able to override the default hidden behavior on the sphinx rendered scikit-learn.org. See: https://github.com/scikit-learn/scikit-learn/issues/21755 */display: inline-block !important;position: relative;}#sk-container-id-3 div.sk-text-repr-fallback {display: none;}</style><div id=\"sk-container-id-3\" class=\"sk-top-container\"><div class=\"sk-text-repr-fallback\"><pre>SVC(kernel=&#x27;linear&#x27;, random_state=0)</pre><b>In a Jupyter environment, please rerun this cell to show the HTML representation or trust the notebook. <br />On GitHub, the HTML representation is unable to render, please try loading this page with nbviewer.org.</b></div><div class=\"sk-container\" hidden><div class=\"sk-item\"><div class=\"sk-estimator sk-toggleable\"><input class=\"sk-toggleable__control sk-hidden--visually\" id=\"sk-estimator-id-3\" type=\"checkbox\" checked><label for=\"sk-estimator-id-3\" class=\"sk-toggleable__label sk-toggleable__label-arrow\">SVC</label><div class=\"sk-toggleable__content\"><pre>SVC(kernel=&#x27;linear&#x27;, random_state=0)</pre></div></div></div></div></div>"
      ],
      "text/plain": [
       "SVC(kernel='linear', random_state=0)"
      ]
     },
     "execution_count": 81,
     "metadata": {},
     "output_type": "execute_result"
    }
   ],
   "source": [
    "svc_model_1 = SVC(kernel=\"linear\", C=1.0, random_state=0)\n",
    "svc_model_1.fit(X_train_matrix_1, y_train)"
   ]
  },
  {
   "cell_type": "markdown",
   "id": "253733ab",
   "metadata": {},
   "source": [
    "#### SVC: Training data performance"
   ]
  },
  {
   "cell_type": "code",
   "execution_count": 82,
   "id": "9b519d97",
   "metadata": {},
   "outputs": [
    {
     "name": "stdout",
     "output_type": "stream",
     "text": [
      "SVC ::\n",
      "\n",
      "Confusion matrix for training data:\n",
      "\n",
      "               precision    recall  f1-score   support\n",
      "\n",
      "Home & Living       1.00      0.97      0.98      1378\n",
      "     Wellness       0.99      1.00      0.99      4185\n",
      "\n",
      "     accuracy                           0.99      5563\n",
      "    macro avg       0.99      0.98      0.99      5563\n",
      " weighted avg       0.99      0.99      0.99      5563\n",
      "\n"
     ]
    },
    {
     "data": {
      "image/png": "[encoded data removed]",
      "text/plain": [
       "<Figure size 864x432 with 2 Axes>"
      ]
     },
     "metadata": {
      "needs_background": "light"
     },
     "output_type": "display_data"
    }
   ],
   "source": [
    "# Changing X and y to evaluate the results of the SVC model on training data:\n",
    "X_cm = X_train_matrix_1\n",
    "y_true_labels = y_train\n",
    "model = svc_model_1\n",
    "\n",
    "# Predicting the y-variable i.e. y_pred based on the fitted model on X_training data\n",
    "# Plotting and visualizing the true lables and predicted labels in the confusion matrix\n",
    "y_pred_train = model.predict(X_cm)\n",
    "print(\"SVC ::\\n\")\n",
    "\n",
    "print(\"Confusion matrix for training data:\\n\")\n",
    "print(metrics.classification_report(y_true_labels, y_pred_train, target_names=['Home & Living', 'Wellness']))\n",
    "\n",
    "cm=confusion_matrix(y_true_labels, y_pred_train)\n",
    "plt.figure(figsize=(12,6))\n",
    "\n",
    "ax= plt.subplot()\n",
    "sns.heatmap(cm, annot=True, fmt='g', ax=ax, cmap='Spectral'); \n",
    "ax.set_xlabel('Predicted labels');ax.set_ylabel('True labels'); \n",
    "ax.set_title('Confusion Matrix'); \n",
    "ax.xaxis.set_ticklabels(['Home & Living', 'Wellness']); ax.yaxis.set_ticklabels(['Home & Living', 'Wellness']);"
   ]
  },
  {
   "cell_type": "markdown",
   "id": "77c373b0",
   "metadata": {},
   "source": [
    "#### SVC: Validation data performance"
   ]
  },
  {
   "cell_type": "code",
   "execution_count": 83,
   "id": "93ae0d35",
   "metadata": {},
   "outputs": [
    {
     "name": "stdout",
     "output_type": "stream",
     "text": [
      "SVC ::\n",
      "\n",
      "Confusion matrix for validation data:\n",
      "\n",
      "               precision    recall  f1-score   support\n",
      "\n",
      "Home & Living       0.97      0.91      0.94       284\n",
      "     Wellness       0.97      0.99      0.98       909\n",
      "\n",
      "     accuracy                           0.97      1193\n",
      "    macro avg       0.97      0.95      0.96      1193\n",
      " weighted avg       0.97      0.97      0.97      1193\n",
      "\n"
     ]
    },
    {
     "data": {
      "image/png": "[encoded data removed]",
      "text/plain": [
       "<Figure size 864x432 with 2 Axes>"
      ]
     },
     "metadata": {
      "needs_background": "light"
     },
     "output_type": "display_data"
    }
   ],
   "source": [
    "# Changing X and y to evaluate the results of the SVC model on validation data:\n",
    "\n",
    "X_cm = X_valid_matrix_1\n",
    "y_true_labels = y_valid\n",
    "# Predicting the y-variable i.e. y_pred based on the fitted model on X_valid data\n",
    "# Plotting and visualizing the true lables and predicted labels in the confusion matrix\n",
    "y_pred_val = model.predict(X_cm)\n",
    "print(\"SVC ::\\n\")\n",
    "\n",
    "print(\"Confusion matrix for validation data:\\n\")\n",
    "print(metrics.classification_report(y_true_labels, y_pred_val, target_names=['Home & Living', 'Wellness']))\n",
    "\n",
    "cm=confusion_matrix(y_true_labels, y_pred_val)\n",
    "plt.figure(figsize=(12,6))\n",
    "\n",
    "ax= plt.subplot()\n",
    "sns.heatmap(cm, annot=True, fmt='g', ax=ax, cmap='Spectral'); \n",
    "ax.set_xlabel('Predicted labels');ax.set_ylabel('True labels'); \n",
    "ax.set_title('Confusion Matrix'); \n",
    "ax.xaxis.set_ticklabels(['Home & Living', 'Wellness']); ax.yaxis.set_ticklabels(['Home & Living', 'Wellness']);"
   ]
  },
  {
   "cell_type": "markdown",
   "id": "8ebc5b84",
   "metadata": {},
   "source": [
    "### Logistics Regression"
   ]
  },
  {
   "cell_type": "code",
   "execution_count": 84,
   "id": "3f23efad",
   "metadata": {},
   "outputs": [
    {
     "data": {
      "text/html": [
       "<style>#sk-container-id-4 {color: black;background-color: white;}#sk-container-id-4 pre{padding: 0;}#sk-container-id-4 div.sk-toggleable {background-color: white;}#sk-container-id-4 label.sk-toggleable__label {cursor: pointer;display: block;width: 100%;margin-bottom: 0;padding: 0.3em;box-sizing: border-box;text-align: center;}#sk-container-id-4 label.sk-toggleable__label-arrow:before {content: \"▸\";float: left;margin-right: 0.25em;color: #696969;}#sk-container-id-4 label.sk-toggleable__label-arrow:hover:before {color: black;}#sk-container-id-4 div.sk-estimator:hover label.sk-toggleable__label-arrow:before {color: black;}#sk-container-id-4 div.sk-toggleable__content {max-height: 0;max-width: 0;overflow: hidden;text-align: left;background-color: #f0f8ff;}#sk-container-id-4 div.sk-toggleable__content pre {margin: 0.2em;color: black;border-radius: 0.25em;background-color: #f0f8ff;}#sk-container-id-4 input.sk-toggleable__control:checked~div.sk-toggleable__content {max-height: 200px;max-width: 100%;overflow: auto;}#sk-container-id-4 input.sk-toggleable__control:checked~label.sk-toggleable__label-arrow:before {content: \"▾\";}#sk-container-id-4 div.sk-estimator input.sk-toggleable__control:checked~label.sk-toggleable__label {background-color: #d4ebff;}#sk-container-id-4 div.sk-label input.sk-toggleable__control:checked~label.sk-toggleable__label {background-color: #d4ebff;}#sk-container-id-4 input.sk-hidden--visually {border: 0;clip: rect(1px 1px 1px 1px);clip: rect(1px, 1px, 1px, 1px);height: 1px;margin: -1px;overflow: hidden;padding: 0;position: absolute;width: 1px;}#sk-container-id-4 div.sk-estimator {font-family: monospace;background-color: #f0f8ff;border: 1px dotted black;border-radius: 0.25em;box-sizing: border-box;margin-bottom: 0.5em;}#sk-container-id-4 div.sk-estimator:hover {background-color: #d4ebff;}#sk-container-id-4 div.sk-parallel-item::after {content: \"\";width: 100%;border-bottom: 1px solid gray;flex-grow: 1;}#sk-container-id-4 div.sk-label:hover label.sk-toggleable__label {background-color: #d4ebff;}#sk-container-id-4 div.sk-serial::before {content: \"\";position: absolute;border-left: 1px solid gray;box-sizing: border-box;top: 0;bottom: 0;left: 50%;z-index: 0;}#sk-container-id-4 div.sk-serial {display: flex;flex-direction: column;align-items: center;background-color: white;padding-right: 0.2em;padding-left: 0.2em;position: relative;}#sk-container-id-4 div.sk-item {position: relative;z-index: 1;}#sk-container-id-4 div.sk-parallel {display: flex;align-items: stretch;justify-content: center;background-color: white;position: relative;}#sk-container-id-4 div.sk-item::before, #sk-container-id-4 div.sk-parallel-item::before {content: \"\";position: absolute;border-left: 1px solid gray;box-sizing: border-box;top: 0;bottom: 0;left: 50%;z-index: -1;}#sk-container-id-4 div.sk-parallel-item {display: flex;flex-direction: column;z-index: 1;position: relative;background-color: white;}#sk-container-id-4 div.sk-parallel-item:first-child::after {align-self: flex-end;width: 50%;}#sk-container-id-4 div.sk-parallel-item:last-child::after {align-self: flex-start;width: 50%;}#sk-container-id-4 div.sk-parallel-item:only-child::after {width: 0;}#sk-container-id-4 div.sk-dashed-wrapped {border: 1px dashed gray;margin: 0 0.4em 0.5em 0.4em;box-sizing: border-box;padding-bottom: 0.4em;background-color: white;}#sk-container-id-4 div.sk-label label {font-family: monospace;font-weight: bold;display: inline-block;line-height: 1.2em;}#sk-container-id-4 div.sk-label-container {text-align: center;}#sk-container-id-4 div.sk-container {/* jupyter's `normalize.less` sets `[hidden] { display: none; }` but bootstrap.min.css set `[hidden] { display: none !important; }` so we also need the `!important` here to be able to override the default hidden behavior on the sphinx rendered scikit-learn.org. See: https://github.com/scikit-learn/scikit-learn/issues/21755 */display: inline-block !important;position: relative;}#sk-container-id-4 div.sk-text-repr-fallback {display: none;}</style><div id=\"sk-container-id-4\" class=\"sk-top-container\"><div class=\"sk-text-repr-fallback\"><pre>LogisticRegression(random_state=0, solver=&#x27;liblinear&#x27;)</pre><b>In a Jupyter environment, please rerun this cell to show the HTML representation or trust the notebook. <br />On GitHub, the HTML representation is unable to render, please try loading this page with nbviewer.org.</b></div><div class=\"sk-container\" hidden><div class=\"sk-item\"><div class=\"sk-estimator sk-toggleable\"><input class=\"sk-toggleable__control sk-hidden--visually\" id=\"sk-estimator-id-4\" type=\"checkbox\" checked><label for=\"sk-estimator-id-4\" class=\"sk-toggleable__label sk-toggleable__label-arrow\">LogisticRegression</label><div class=\"sk-toggleable__content\"><pre>LogisticRegression(random_state=0, solver=&#x27;liblinear&#x27;)</pre></div></div></div></div></div>"
      ],
      "text/plain": [
       "LogisticRegression(random_state=0, solver='liblinear')"
      ]
     },
     "execution_count": 84,
     "metadata": {},
     "output_type": "execute_result"
    }
   ],
   "source": [
    "l_reg_1 = LogisticRegression(solver='liblinear', random_state=0)\n",
    "l_reg_1.fit(X_train_matrix_1,y_train)"
   ]
  },
  {
   "cell_type": "markdown",
   "id": "a2dc4d35",
   "metadata": {},
   "source": [
    "#### Logistic Regression: Training data performance"
   ]
  },
  {
   "cell_type": "code",
   "execution_count": 85,
   "id": "fb73ffcb",
   "metadata": {},
   "outputs": [
    {
     "name": "stdout",
     "output_type": "stream",
     "text": [
      "Logistic Regression::\n",
      "\n",
      "Confusion matrix for training data:\n",
      "\n",
      "               precision    recall  f1-score   support\n",
      "\n",
      "Home & Living       1.00      0.82      0.90      1378\n",
      "     Wellness       0.95      1.00      0.97      4185\n",
      "\n",
      "     accuracy                           0.96      5563\n",
      "    macro avg       0.97      0.91      0.94      5563\n",
      " weighted avg       0.96      0.96      0.95      5563\n",
      "\n"
     ]
    },
    {
     "data": {
      "image/png": "[encoded data removed]",
      "text/plain": [
       "<Figure size 864x432 with 2 Axes>"
      ]
     },
     "metadata": {
      "needs_background": "light"
     },
     "output_type": "display_data"
    }
   ],
   "source": [
    "# Changing X and y to evaluate the results of the Logistic Regression model on training data:\n",
    "X_cm = X_train_matrix_1\n",
    "y_true_labels = y_train\n",
    "model_1 = l_reg_1\n",
    "\n",
    "# Predicting the y-variable i.e. y_pred based on the fitted model on X_training data\n",
    "#Plotting and visualizing the true lables and predicted labels in the confusion matrix\n",
    "y_pred_train_l = model_1.predict(X_cm)\n",
    "print(\"Logistic Regression::\\n\")\n",
    "print(\"Confusion matrix for training data:\\n\")\n",
    "print(metrics.classification_report(y_true_labels, y_pred_train_l, target_names=['Home & Living', 'Wellness']))\n",
    "\n",
    "cm=confusion_matrix(y_true_labels, y_pred_train_l)\n",
    "plt.figure(figsize=(12,6))\n",
    "\n",
    "ax= plt.subplot()\n",
    "sns.heatmap(cm, annot=True, fmt='g', ax=ax, cmap='Spectral'); \n",
    "ax.set_xlabel('Predicted labels');ax.set_ylabel('True labels'); \n",
    "ax.set_title('Confusion Matrix'); \n",
    "ax.xaxis.set_ticklabels(['Home & Living', 'Wellness']); ax.yaxis.set_ticklabels(['Home & Living', 'Wellness']);"
   ]
  },
  {
   "cell_type": "markdown",
   "id": "366dca6a",
   "metadata": {},
   "source": [
    "#### Logistic Regression: Validation data performance"
   ]
  },
  {
   "cell_type": "code",
   "execution_count": 86,
   "id": "e65088d8",
   "metadata": {},
   "outputs": [
    {
     "name": "stdout",
     "output_type": "stream",
     "text": [
      "Logistic Regression::\n",
      "\n",
      "Confusion matrix for validation data:\n",
      "\n",
      "               precision    recall  f1-score   support\n",
      "\n",
      "Home & Living       0.99      0.83      0.90       284\n",
      "     Wellness       0.95      1.00      0.97       909\n",
      "\n",
      "     accuracy                           0.96      1193\n",
      "    macro avg       0.97      0.91      0.94      1193\n",
      " weighted avg       0.96      0.96      0.96      1193\n",
      "\n"
     ]
    },
    {
     "data": {
      "image/png": "[encoded data removed]",
      "text/plain": [
       "<Figure size 864x432 with 2 Axes>"
      ]
     },
     "metadata": {
      "needs_background": "light"
     },
     "output_type": "display_data"
    }
   ],
   "source": [
    "# Changing X and y to evaluate the results of the Logistic Regression model on validation data:\n",
    "X_cm = X_valid_matrix_1\n",
    "y_true_labels = y_valid\n",
    "\n",
    "# Predicting the y-variable i.e. y_pred based on the fitted model on X_validation data\n",
    "#Plotting and visualizing the true lables and predicted labels in the confusion matrix\n",
    "y_pred_val_l = model_1.predict(X_cm)\n",
    "\n",
    "print(\"Logistic Regression::\\n\")\n",
    "print(\"Confusion matrix for validation data:\\n\")\n",
    "print(metrics.classification_report(y_true_labels, y_pred_val_l, target_names=['Home & Living', 'Wellness']))\n",
    "\n",
    "cm=confusion_matrix(y_true_labels, y_pred_val_l)\n",
    "plt.figure(figsize=(12,6))\n",
    "\n",
    "ax= plt.subplot()\n",
    "sns.heatmap(cm, annot=True, fmt='g', ax=ax, cmap='Spectral'); \n",
    "ax.set_xlabel('Predicted labels');ax.set_ylabel('True labels'); \n",
    "ax.set_title('Confusion Matrix'); \n",
    "ax.xaxis.set_ticklabels(['Home & Living', 'Wellness']); ax.yaxis.set_ticklabels(['Home & Living', 'Wellness']);"
   ]
  },
  {
   "cell_type": "markdown",
   "id": "ee9b90fc",
   "metadata": {},
   "source": [
    "### Observations\n",
    "\n",
    "- Changing the parameters in the TF-IDF vectorizer helped to increase the **Recall** percentage of \"Home & Living \" cateogry in the **Logistic Regression** model for both the training and validation datasets. Initially, it was 82% and 83% for train and val respectively however after adding min_df, max_df as parameters it improved to 82% and 83% respectively. Therefore, improving the number of correct predictions by a small margin i.e. decrease in **false negatives** for Home & Living category. \n",
    "\n",
    "- Furthermore, the **Recall** percentage for **SVC**'s training and validation data reduced by 1% respectively for the \"Home & Living\" category respectively. Eariler, it misclassified 23 records and after the parameter change, it increased to 25, while no changes in other predictions related to the Wellness category. Even after a slight difference in recall and precision, model is still providing good f1-score as output."
   ]
  },
  {
   "cell_type": "markdown",
   "id": "31e0c952",
   "metadata": {},
   "source": [
    "<span style=\"color:red\">Step 11</span>\n",
    "\n",
    "### Second Improvement: Changes in the model parameters"
   ]
  },
  {
   "cell_type": "markdown",
   "id": "aa786581",
   "metadata": {},
   "source": [
    "### SVC\n",
    "\n",
    "#### Parameters\n",
    "- I changed **C** parameter i.e. penality/regularization to **2** to choose a slightly smaller margin so that the model can avoid misclassifying data. I just increased it by 1 because I do not want the model to over-fit. I can further decide a good C value after cross-validation, if SVC comes out to be a better model.\n",
    "\n",
    "Source: https://stackoverflow.com/questions/12809633/parameter-c-in-svm-standard-to-find-best-parameter\n",
    "- I added the **class_weight** parameter to encounter the data imbalance issue. By setting it to **balanced**, it basically means replicating the smaller class until you have as many samples as in the larger one, but in an implicit way.\n",
    "The argument class_weight='balanced' penalizes mistake on the minority class by an amount proportional to how under-represented it is.\n",
    "\n",
    "Source: https://stackoverflow.com/questions/30972029/how-does-the-class-weight-parameter-in-scikit-learn-work"
   ]
  },
  {
   "cell_type": "code",
   "execution_count": 87,
   "id": "bc352bac",
   "metadata": {},
   "outputs": [
    {
     "data": {
      "text/html": [
       "<style>#sk-container-id-5 {color: black;background-color: white;}#sk-container-id-5 pre{padding: 0;}#sk-container-id-5 div.sk-toggleable {background-color: white;}#sk-container-id-5 label.sk-toggleable__label {cursor: pointer;display: block;width: 100%;margin-bottom: 0;padding: 0.3em;box-sizing: border-box;text-align: center;}#sk-container-id-5 label.sk-toggleable__label-arrow:before {content: \"▸\";float: left;margin-right: 0.25em;color: #696969;}#sk-container-id-5 label.sk-toggleable__label-arrow:hover:before {color: black;}#sk-container-id-5 div.sk-estimator:hover label.sk-toggleable__label-arrow:before {color: black;}#sk-container-id-5 div.sk-toggleable__content {max-height: 0;max-width: 0;overflow: hidden;text-align: left;background-color: #f0f8ff;}#sk-container-id-5 div.sk-toggleable__content pre {margin: 0.2em;color: black;border-radius: 0.25em;background-color: #f0f8ff;}#sk-container-id-5 input.sk-toggleable__control:checked~div.sk-toggleable__content {max-height: 200px;max-width: 100%;overflow: auto;}#sk-container-id-5 input.sk-toggleable__control:checked~label.sk-toggleable__label-arrow:before {content: \"▾\";}#sk-container-id-5 div.sk-estimator input.sk-toggleable__control:checked~label.sk-toggleable__label {background-color: #d4ebff;}#sk-container-id-5 div.sk-label input.sk-toggleable__control:checked~label.sk-toggleable__label {background-color: #d4ebff;}#sk-container-id-5 input.sk-hidden--visually {border: 0;clip: rect(1px 1px 1px 1px);clip: rect(1px, 1px, 1px, 1px);height: 1px;margin: -1px;overflow: hidden;padding: 0;position: absolute;width: 1px;}#sk-container-id-5 div.sk-estimator {font-family: monospace;background-color: #f0f8ff;border: 1px dotted black;border-radius: 0.25em;box-sizing: border-box;margin-bottom: 0.5em;}#sk-container-id-5 div.sk-estimator:hover {background-color: #d4ebff;}#sk-container-id-5 div.sk-parallel-item::after {content: \"\";width: 100%;border-bottom: 1px solid gray;flex-grow: 1;}#sk-container-id-5 div.sk-label:hover label.sk-toggleable__label {background-color: #d4ebff;}#sk-container-id-5 div.sk-serial::before {content: \"\";position: absolute;border-left: 1px solid gray;box-sizing: border-box;top: 0;bottom: 0;left: 50%;z-index: 0;}#sk-container-id-5 div.sk-serial {display: flex;flex-direction: column;align-items: center;background-color: white;padding-right: 0.2em;padding-left: 0.2em;position: relative;}#sk-container-id-5 div.sk-item {position: relative;z-index: 1;}#sk-container-id-5 div.sk-parallel {display: flex;align-items: stretch;justify-content: center;background-color: white;position: relative;}#sk-container-id-5 div.sk-item::before, #sk-container-id-5 div.sk-parallel-item::before {content: \"\";position: absolute;border-left: 1px solid gray;box-sizing: border-box;top: 0;bottom: 0;left: 50%;z-index: -1;}#sk-container-id-5 div.sk-parallel-item {display: flex;flex-direction: column;z-index: 1;position: relative;background-color: white;}#sk-container-id-5 div.sk-parallel-item:first-child::after {align-self: flex-end;width: 50%;}#sk-container-id-5 div.sk-parallel-item:last-child::after {align-self: flex-start;width: 50%;}#sk-container-id-5 div.sk-parallel-item:only-child::after {width: 0;}#sk-container-id-5 div.sk-dashed-wrapped {border: 1px dashed gray;margin: 0 0.4em 0.5em 0.4em;box-sizing: border-box;padding-bottom: 0.4em;background-color: white;}#sk-container-id-5 div.sk-label label {font-family: monospace;font-weight: bold;display: inline-block;line-height: 1.2em;}#sk-container-id-5 div.sk-label-container {text-align: center;}#sk-container-id-5 div.sk-container {/* jupyter's `normalize.less` sets `[hidden] { display: none; }` but bootstrap.min.css set `[hidden] { display: none !important; }` so we also need the `!important` here to be able to override the default hidden behavior on the sphinx rendered scikit-learn.org. See: https://github.com/scikit-learn/scikit-learn/issues/21755 */display: inline-block !important;position: relative;}#sk-container-id-5 div.sk-text-repr-fallback {display: none;}</style><div id=\"sk-container-id-5\" class=\"sk-top-container\"><div class=\"sk-text-repr-fallback\"><pre>SVC(C=2.0, class_weight=&#x27;balanced&#x27;, kernel=&#x27;linear&#x27;, random_state=0)</pre><b>In a Jupyter environment, please rerun this cell to show the HTML representation or trust the notebook. <br />On GitHub, the HTML representation is unable to render, please try loading this page with nbviewer.org.</b></div><div class=\"sk-container\" hidden><div class=\"sk-item\"><div class=\"sk-estimator sk-toggleable\"><input class=\"sk-toggleable__control sk-hidden--visually\" id=\"sk-estimator-id-5\" type=\"checkbox\" checked><label for=\"sk-estimator-id-5\" class=\"sk-toggleable__label sk-toggleable__label-arrow\">SVC</label><div class=\"sk-toggleable__content\"><pre>SVC(C=2.0, class_weight=&#x27;balanced&#x27;, kernel=&#x27;linear&#x27;, random_state=0)</pre></div></div></div></div></div>"
      ],
      "text/plain": [
       "SVC(C=2.0, class_weight='balanced', kernel='linear', random_state=0)"
      ]
     },
     "execution_count": 87,
     "metadata": {},
     "output_type": "execute_result"
    }
   ],
   "source": [
    "svc_model_1 = SVC(kernel=\"linear\", C=2.0, random_state=0, class_weight='balanced')\n",
    "svc_model_1.fit(X_train_matrix_1, y_train)"
   ]
  },
  {
   "cell_type": "markdown",
   "id": "8b348011",
   "metadata": {},
   "source": [
    "#### Performance on training data"
   ]
  },
  {
   "cell_type": "code",
   "execution_count": 88,
   "id": "d9789fb6",
   "metadata": {},
   "outputs": [
    {
     "name": "stdout",
     "output_type": "stream",
     "text": [
      "SVC ::\n",
      "\n",
      "Confusion matrix for training data:\n",
      "\n",
      "               precision    recall  f1-score   support\n",
      "\n",
      "Home & Living       1.00      1.00      1.00      1378\n",
      "     Wellness       1.00      1.00      1.00      4185\n",
      "\n",
      "     accuracy                           1.00      5563\n",
      "    macro avg       1.00      1.00      1.00      5563\n",
      " weighted avg       1.00      1.00      1.00      5563\n",
      "\n"
     ]
    },
    {
     "data": {
      "image/png": "[encoded data removed]",
      "text/plain": [
       "<Figure size 864x432 with 2 Axes>"
      ]
     },
     "metadata": {
      "needs_background": "light"
     },
     "output_type": "display_data"
    }
   ],
   "source": [
    "# Changing X and y to evaluate the results of the SVC model on training data:\n",
    "X_cm = X_train_matrix_1\n",
    "y_true_labels = y_train\n",
    "model = svc_model_1\n",
    "\n",
    "# Predicting the y-variable i.e. y_pred based on the fitted model on X_training data\n",
    "#Plotting and visualizing the true lables and predicted labels in the confusion matrix\n",
    "y_pred_train = model.predict(X_cm)\n",
    "print(\"SVC ::\\n\")\n",
    "\n",
    "print(\"Confusion matrix for training data:\\n\")\n",
    "print(metrics.classification_report(y_true_labels, y_pred_train, target_names=['Home & Living', 'Wellness']))\n",
    "\n",
    "cm=confusion_matrix(y_true_labels, y_pred_train)\n",
    "plt.figure(figsize=(12,6))\n",
    "\n",
    "ax= plt.subplot()\n",
    "sns.heatmap(cm, annot=True, fmt='g', ax=ax); \n",
    "ax.set_xlabel('Predicted labels');ax.set_ylabel('True labels'); \n",
    "ax.set_title('Confusion Matrix'); \n",
    "ax.xaxis.set_ticklabels(['Home & Living', 'Wellness']); ax.yaxis.set_ticklabels(['Home & Living', 'Wellness']);"
   ]
  },
  {
   "cell_type": "markdown",
   "id": "8d16857a",
   "metadata": {},
   "source": [
    "#### Performance on validation data"
   ]
  },
  {
   "cell_type": "code",
   "execution_count": 89,
   "id": "ee837ca6",
   "metadata": {},
   "outputs": [
    {
     "name": "stdout",
     "output_type": "stream",
     "text": [
      "SVC ::\n",
      "\n",
      "Confusion matrix for validation data:\n",
      "\n",
      "               precision    recall  f1-score   support\n",
      "\n",
      "Home & Living       0.94      0.93      0.93       284\n",
      "     Wellness       0.98      0.98      0.98       909\n",
      "\n",
      "     accuracy                           0.97      1193\n",
      "    macro avg       0.96      0.95      0.95      1193\n",
      " weighted avg       0.97      0.97      0.97      1193\n",
      "\n"
     ]
    },
    {
     "data": {
      "image/png": "[encoded data removed]",
      "text/plain": [
       "<Figure size 864x432 with 2 Axes>"
      ]
     },
     "metadata": {
      "needs_background": "light"
     },
     "output_type": "display_data"
    }
   ],
   "source": [
    "# Changing X and y to evaluate the results of the SVC model on validation data:\n",
    "\n",
    "X_cm = X_valid_matrix_1\n",
    "y_true_labels = y_valid\n",
    "# Predicting the y-variable i.e. y_pred based on the fitted model on X_valid data\n",
    "#Plotting and visualizing the true lables and predicted labels in the confusion matrix\n",
    "y_pred_val = model.predict(X_cm)\n",
    "print(\"SVC ::\\n\")\n",
    "\n",
    "print(\"Confusion matrix for validation data:\\n\")\n",
    "print(metrics.classification_report(y_true_labels, y_pred_val, target_names=['Home & Living', 'Wellness']))\n",
    "\n",
    "cm=confusion_matrix(y_true_labels, y_pred_val)\n",
    "plt.figure(figsize=(12,6))\n",
    "\n",
    "ax= plt.subplot()\n",
    "sns.heatmap(cm, annot=True, fmt='g', ax=ax); \n",
    "ax.set_xlabel('Predicted labels');ax.set_ylabel('True labels'); \n",
    "ax.set_title('Confusion Matrix'); \n",
    "ax.xaxis.set_ticklabels(['Home & Living', 'Wellness']); ax.yaxis.set_ticklabels(['Home & Living', 'Wellness']);"
   ]
  },
  {
   "cell_type": "markdown",
   "id": "ed1f9f63",
   "metadata": {},
   "source": [
    "### Logistic Regression\n",
    "\n",
    "#### Parameters:\n",
    "- I added the **class_weight** parameter to encounter the data imbalance issue. By setting it to **balanced**, it basically means replicating the smaller class until you have as many samples as in the larger one, but in an implicit way.\n",
    "The argument class_weight='balanced' penalizes mistake on the minority class by an amount proportional to how under-represented it is.\n",
    "\n",
    "Source: https://stackoverflow.com/questions/30972029/how-does-the-class-weight-parameter-in-scikit-learn-work\n"
   ]
  },
  {
   "cell_type": "code",
   "execution_count": 90,
   "id": "4790fa7c",
   "metadata": {},
   "outputs": [
    {
     "data": {
      "text/html": [
       "<style>#sk-container-id-6 {color: black;background-color: white;}#sk-container-id-6 pre{padding: 0;}#sk-container-id-6 div.sk-toggleable {background-color: white;}#sk-container-id-6 label.sk-toggleable__label {cursor: pointer;display: block;width: 100%;margin-bottom: 0;padding: 0.3em;box-sizing: border-box;text-align: center;}#sk-container-id-6 label.sk-toggleable__label-arrow:before {content: \"▸\";float: left;margin-right: 0.25em;color: #696969;}#sk-container-id-6 label.sk-toggleable__label-arrow:hover:before {color: black;}#sk-container-id-6 div.sk-estimator:hover label.sk-toggleable__label-arrow:before {color: black;}#sk-container-id-6 div.sk-toggleable__content {max-height: 0;max-width: 0;overflow: hidden;text-align: left;background-color: #f0f8ff;}#sk-container-id-6 div.sk-toggleable__content pre {margin: 0.2em;color: black;border-radius: 0.25em;background-color: #f0f8ff;}#sk-container-id-6 input.sk-toggleable__control:checked~div.sk-toggleable__content {max-height: 200px;max-width: 100%;overflow: auto;}#sk-container-id-6 input.sk-toggleable__control:checked~label.sk-toggleable__label-arrow:before {content: \"▾\";}#sk-container-id-6 div.sk-estimator input.sk-toggleable__control:checked~label.sk-toggleable__label {background-color: #d4ebff;}#sk-container-id-6 div.sk-label input.sk-toggleable__control:checked~label.sk-toggleable__label {background-color: #d4ebff;}#sk-container-id-6 input.sk-hidden--visually {border: 0;clip: rect(1px 1px 1px 1px);clip: rect(1px, 1px, 1px, 1px);height: 1px;margin: -1px;overflow: hidden;padding: 0;position: absolute;width: 1px;}#sk-container-id-6 div.sk-estimator {font-family: monospace;background-color: #f0f8ff;border: 1px dotted black;border-radius: 0.25em;box-sizing: border-box;margin-bottom: 0.5em;}#sk-container-id-6 div.sk-estimator:hover {background-color: #d4ebff;}#sk-container-id-6 div.sk-parallel-item::after {content: \"\";width: 100%;border-bottom: 1px solid gray;flex-grow: 1;}#sk-container-id-6 div.sk-label:hover label.sk-toggleable__label {background-color: #d4ebff;}#sk-container-id-6 div.sk-serial::before {content: \"\";position: absolute;border-left: 1px solid gray;box-sizing: border-box;top: 0;bottom: 0;left: 50%;z-index: 0;}#sk-container-id-6 div.sk-serial {display: flex;flex-direction: column;align-items: center;background-color: white;padding-right: 0.2em;padding-left: 0.2em;position: relative;}#sk-container-id-6 div.sk-item {position: relative;z-index: 1;}#sk-container-id-6 div.sk-parallel {display: flex;align-items: stretch;justify-content: center;background-color: white;position: relative;}#sk-container-id-6 div.sk-item::before, #sk-container-id-6 div.sk-parallel-item::before {content: \"\";position: absolute;border-left: 1px solid gray;box-sizing: border-box;top: 0;bottom: 0;left: 50%;z-index: -1;}#sk-container-id-6 div.sk-parallel-item {display: flex;flex-direction: column;z-index: 1;position: relative;background-color: white;}#sk-container-id-6 div.sk-parallel-item:first-child::after {align-self: flex-end;width: 50%;}#sk-container-id-6 div.sk-parallel-item:last-child::after {align-self: flex-start;width: 50%;}#sk-container-id-6 div.sk-parallel-item:only-child::after {width: 0;}#sk-container-id-6 div.sk-dashed-wrapped {border: 1px dashed gray;margin: 0 0.4em 0.5em 0.4em;box-sizing: border-box;padding-bottom: 0.4em;background-color: white;}#sk-container-id-6 div.sk-label label {font-family: monospace;font-weight: bold;display: inline-block;line-height: 1.2em;}#sk-container-id-6 div.sk-label-container {text-align: center;}#sk-container-id-6 div.sk-container {/* jupyter's `normalize.less` sets `[hidden] { display: none; }` but bootstrap.min.css set `[hidden] { display: none !important; }` so we also need the `!important` here to be able to override the default hidden behavior on the sphinx rendered scikit-learn.org. See: https://github.com/scikit-learn/scikit-learn/issues/21755 */display: inline-block !important;position: relative;}#sk-container-id-6 div.sk-text-repr-fallback {display: none;}</style><div id=\"sk-container-id-6\" class=\"sk-top-container\"><div class=\"sk-text-repr-fallback\"><pre>LogisticRegression(class_weight=&#x27;balanced&#x27;, random_state=0, solver=&#x27;liblinear&#x27;)</pre><b>In a Jupyter environment, please rerun this cell to show the HTML representation or trust the notebook. <br />On GitHub, the HTML representation is unable to render, please try loading this page with nbviewer.org.</b></div><div class=\"sk-container\" hidden><div class=\"sk-item\"><div class=\"sk-estimator sk-toggleable\"><input class=\"sk-toggleable__control sk-hidden--visually\" id=\"sk-estimator-id-6\" type=\"checkbox\" checked><label for=\"sk-estimator-id-6\" class=\"sk-toggleable__label sk-toggleable__label-arrow\">LogisticRegression</label><div class=\"sk-toggleable__content\"><pre>LogisticRegression(class_weight=&#x27;balanced&#x27;, random_state=0, solver=&#x27;liblinear&#x27;)</pre></div></div></div></div></div>"
      ],
      "text/plain": [
       "LogisticRegression(class_weight='balanced', random_state=0, solver='liblinear')"
      ]
     },
     "execution_count": 90,
     "metadata": {},
     "output_type": "execute_result"
    }
   ],
   "source": [
    "l_reg_1 = LogisticRegression(solver='liblinear', random_state=0, class_weight='balanced')\n",
    "l_reg_1.fit(X_train_matrix_1,y_train)"
   ]
  },
  {
   "cell_type": "markdown",
   "id": "1bc4d324",
   "metadata": {},
   "source": [
    "#### Performance on training data"
   ]
  },
  {
   "cell_type": "code",
   "execution_count": 91,
   "id": "c17fa47f",
   "metadata": {},
   "outputs": [
    {
     "name": "stdout",
     "output_type": "stream",
     "text": [
      "Logistic Regression::\n",
      "\n",
      "Confusion matrix for training data:\n",
      "\n",
      "               precision    recall  f1-score   support\n",
      "\n",
      "Home & Living       0.97      0.98      0.97      1378\n",
      "     Wellness       0.99      0.99      0.99      4185\n",
      "\n",
      "     accuracy                           0.99      5563\n",
      "    macro avg       0.98      0.98      0.98      5563\n",
      " weighted avg       0.99      0.99      0.99      5563\n",
      "\n"
     ]
    },
    {
     "data": {
      "image/png": "[encoded data removed]",
      "text/plain": [
       "<Figure size 864x432 with 2 Axes>"
      ]
     },
     "metadata": {
      "needs_background": "light"
     },
     "output_type": "display_data"
    }
   ],
   "source": [
    "# Changing X and y to evaluate the results of the Logistic Regression model on training data:\n",
    "X_cm = X_train_matrix_1\n",
    "y_true_labels = y_train\n",
    "model_1 = l_reg_1\n",
    "\n",
    "# Predicting the y-variable i.e. y_pred based on the fitted model on X_training data\n",
    "#Plotting and visualizing the true lables and predicted labels in the confusion matrix\n",
    "y_pred_train_l = model_1.predict(X_cm)\n",
    "print(\"Logistic Regression::\\n\")\n",
    "print(\"Confusion matrix for training data:\\n\")\n",
    "print(metrics.classification_report(y_true_labels, y_pred_train_l, target_names=['Home & Living', 'Wellness']))\n",
    "\n",
    "cm=confusion_matrix(y_true_labels, y_pred_train_l)\n",
    "plt.figure(figsize=(12,6))\n",
    "\n",
    "ax= plt.subplot()\n",
    "sns.heatmap(cm, annot=True, fmt='g', ax=ax); \n",
    "ax.set_xlabel('Predicted labels');ax.set_ylabel('True labels'); \n",
    "ax.set_title('Confusion Matrix'); \n",
    "ax.xaxis.set_ticklabels(['Home & Living', 'Wellness']); ax.yaxis.set_ticklabels(['Home & Living', 'Wellness']);"
   ]
  },
  {
   "cell_type": "markdown",
   "id": "51d535e3",
   "metadata": {},
   "source": [
    "#### Performance on validation data"
   ]
  },
  {
   "cell_type": "code",
   "execution_count": 92,
   "id": "0bdb0133",
   "metadata": {},
   "outputs": [
    {
     "name": "stdout",
     "output_type": "stream",
     "text": [
      "Logistic Regression::\n",
      "\n",
      "Confusion matrix for validation data:\n",
      "\n",
      "               precision    recall  f1-score   support\n",
      "\n",
      "Home & Living       0.94      0.94      0.94       284\n",
      "     Wellness       0.98      0.98      0.98       909\n",
      "\n",
      "     accuracy                           0.97      1193\n",
      "    macro avg       0.96      0.96      0.96      1193\n",
      " weighted avg       0.97      0.97      0.97      1193\n",
      "\n"
     ]
    },
    {
     "data": {
      "image/png": "[encoded data removed]",
      "text/plain": [
       "<Figure size 864x432 with 2 Axes>"
      ]
     },
     "metadata": {
      "needs_background": "light"
     },
     "output_type": "display_data"
    }
   ],
   "source": [
    "# Changing X and y to evaluate the results of the Logistic Regression model on validation data:\n",
    "X_cm = X_valid_matrix_1\n",
    "y_true_labels = y_valid\n",
    "\n",
    "# Predicting the y-variable i.e. y_pred based on the fitted model on X_validation data\n",
    "#Plotting and visualizing the true lables and predicted labels in the confusion matrix\n",
    "y_pred_val_l = model_1.predict(X_cm)\n",
    "\n",
    "print(\"Logistic Regression::\\n\")\n",
    "print(\"Confusion matrix for validation data:\\n\")\n",
    "print(metrics.classification_report(y_true_labels, y_pred_val_l, target_names=['Home & Living', 'Wellness']))\n",
    "\n",
    "cm=confusion_matrix(y_true_labels, y_pred_val_l)\n",
    "plt.figure(figsize=(12,6))\n",
    "\n",
    "ax= plt.subplot()\n",
    "sns.heatmap(cm, annot=True, fmt='g', ax=ax); \n",
    "ax.set_xlabel('Predicted labels');ax.set_ylabel('True labels'); \n",
    "ax.set_title('Confusion Matrix'); \n",
    "ax.xaxis.set_ticklabels(['Home & Living', 'Wellness']); ax.yaxis.set_ticklabels(['Home & Living', 'Wellness']);"
   ]
  },
  {
   "cell_type": "markdown",
   "id": "27e4f77e",
   "metadata": {},
   "source": [
    "### Observations\n",
    "\n",
    "- Adding the **class weight = 'balanced'** parameter improved the performance greatly as shown above, as well as the **recall percentage increased** for both the models in the classification report. Before this, **SVC** was performing better than Logistic regression model but now they both are showing similar f1 scores (differs by 1% for Home & Living) that means that adding class weight has helped the models in better classifications as compared to before as treats the imbalance. The mis-classification in confusion matrix of \"Home and Living\" reduced from 25 to 21.\n",
    "- The **Logistic Regression** model improved more as compared to the SVC model. The **recall** probability score for \"Home and Living\" category rose to 94% from 83% and also without much compromising the precision value i.e. **false negatives** reduced from 48 to 16.\n",
    "- I can say that the benchmark was achieved as I was able to get a better performance of the **Confusion Matrix** by increasing the recall score which indeed increase the f1- score for both the models."
   ]
  },
  {
   "cell_type": "markdown",
   "id": "37277868",
   "metadata": {},
   "source": [
    "### Saving both the models"
   ]
  },
  {
   "cell_type": "code",
   "execution_count": 93,
   "id": "20b29372",
   "metadata": {},
   "outputs": [],
   "source": [
    "with open('svc_model.pkl','wb') as f:\n",
    "    pickle.dump(svc_model_1,f)"
   ]
  },
  {
   "cell_type": "code",
   "execution_count": 94,
   "id": "17b39aed",
   "metadata": {},
   "outputs": [],
   "source": [
    "with open('lr_model.pkl','wb') as f:\n",
    "    pickle.dump(l_reg_1,f)"
   ]
  },
  {
   "cell_type": "markdown",
   "id": "7a6317e1",
   "metadata": {},
   "source": [
    "<span style=\"color:red\">Step 12</span>\n",
    "\n",
    "### Cross Validation on Train+Validation data\n",
    "\n",
    "I am using K-Folds technique as it's popular, easy to understand, it generally results in a less biased model compare to other methods. As it ensures that every observation from the original dataset has the chance of appearing in training and validation set.\n",
    "This is one among the best approach if we have a limited input data."
   ]
  },
  {
   "cell_type": "code",
   "execution_count": 95,
   "id": "996a141a",
   "metadata": {},
   "outputs": [],
   "source": [
    "train_val_data = pd.concat([train_data, valid_data])\n",
    "train_val_data.reset_index(drop=True, inplace=True)"
   ]
  },
  {
   "cell_type": "code",
   "execution_count": 96,
   "id": "fdf42ee7",
   "metadata": {},
   "outputs": [
    {
     "data": {
      "text/html": [
       "<div>\n",
       "<style scoped>\n",
       "    .dataframe tbody tr th:only-of-type {\n",
       "        vertical-align: middle;\n",
       "    }\n",
       "\n",
       "    .dataframe tbody tr th {\n",
       "        vertical-align: top;\n",
       "    }\n",
       "\n",
       "    .dataframe thead th {\n",
       "        text-align: right;\n",
       "    }\n",
       "</style>\n",
       "<table border=\"1\" class=\"dataframe\">\n",
       "  <thead>\n",
       "    <tr style=\"text-align: right;\">\n",
       "      <th></th>\n",
       "      <th>description</th>\n",
       "      <th>CategoryId</th>\n",
       "    </tr>\n",
       "  </thead>\n",
       "  <tbody>\n",
       "    <tr>\n",
       "      <th>0</th>\n",
       "      <td>despite new study expert still warn link footb...</td>\n",
       "      <td>1</td>\n",
       "    </tr>\n",
       "    <tr>\n",
       "      <th>1</th>\n",
       "      <td>weekly roundup ebay vintage home find photo al...</td>\n",
       "      <td>0</td>\n",
       "    </tr>\n",
       "    <tr>\n",
       "      <th>2</th>\n",
       "      <td>boston named healthiest city america follow ne...</td>\n",
       "      <td>1</td>\n",
       "    </tr>\n",
       "    <tr>\n",
       "      <th>3</th>\n",
       "      <td>eyeopening shopping experience alyssa croteau ...</td>\n",
       "      <td>1</td>\n",
       "    </tr>\n",
       "    <tr>\n",
       "      <th>4</th>\n",
       "      <td>look inside fantastic first home house tour ro...</td>\n",
       "      <td>0</td>\n",
       "    </tr>\n",
       "    <tr>\n",
       "      <th>...</th>\n",
       "      <td>...</td>\n",
       "      <td>...</td>\n",
       "    </tr>\n",
       "    <tr>\n",
       "      <th>6751</th>\n",
       "      <td>lowcalorie french fry recipe told could make h...</td>\n",
       "      <td>1</td>\n",
       "    </tr>\n",
       "    <tr>\n",
       "      <th>6752</th>\n",
       "      <td>make life transition transition wonderful oppo...</td>\n",
       "      <td>1</td>\n",
       "    </tr>\n",
       "    <tr>\n",
       "      <th>6753</th>\n",
       "      <td>author nicholas spark key happiness video matt...</td>\n",
       "      <td>1</td>\n",
       "    </tr>\n",
       "    <tr>\n",
       "      <th>6754</th>\n",
       "      <td>home le photo bring good news bargainhunting f...</td>\n",
       "      <td>0</td>\n",
       "    </tr>\n",
       "    <tr>\n",
       "      <th>6755</th>\n",
       "      <td>happy valentine day listening amazing focusing...</td>\n",
       "      <td>1</td>\n",
       "    </tr>\n",
       "  </tbody>\n",
       "</table>\n",
       "<p>6756 rows × 2 columns</p>\n",
       "</div>"
      ],
      "text/plain": [
       "                                            description  CategoryId\n",
       "0     despite new study expert still warn link footb...           1\n",
       "1     weekly roundup ebay vintage home find photo al...           0\n",
       "2     boston named healthiest city america follow ne...           1\n",
       "3     eyeopening shopping experience alyssa croteau ...           1\n",
       "4     look inside fantastic first home house tour ro...           0\n",
       "...                                                 ...         ...\n",
       "6751  lowcalorie french fry recipe told could make h...           1\n",
       "6752  make life transition transition wonderful oppo...           1\n",
       "6753  author nicholas spark key happiness video matt...           1\n",
       "6754  home le photo bring good news bargainhunting f...           0\n",
       "6755  happy valentine day listening amazing focusing...           1\n",
       "\n",
       "[6756 rows x 2 columns]"
      ]
     },
     "execution_count": 96,
     "metadata": {},
     "output_type": "execute_result"
    }
   ],
   "source": [
    "train_val_data.drop('category_pred', axis=1, inplace=True)\n",
    "train_val_data"
   ]
  },
  {
   "cell_type": "code",
   "execution_count": 97,
   "id": "b0ac6177",
   "metadata": {},
   "outputs": [],
   "source": [
    "# I am using n_splits as 10 to expect lower prediction error\n",
    "folder = KFold(n_splits=10)"
   ]
  },
  {
   "cell_type": "code",
   "execution_count": 98,
   "id": "05d79745",
   "metadata": {},
   "outputs": [],
   "source": [
    "vectorizer_2 = TfidfVectorizer(max_df=0.8, min_df=2, sublinear_tf=True)\n",
    "\n",
    "# Vectorizing training and validation dataset\n",
    "#Fit the vecotrizer on training dataset\n",
    "vectorizer_2.fit(train_val_data['description'])\n",
    "\n",
    "#Transforming training and validation dataset\n",
    "X_train_val_matrix = vectorizer_2.transform(train_val_data['description'])"
   ]
  },
  {
   "cell_type": "markdown",
   "id": "ee4c1dc9",
   "metadata": {},
   "source": [
    "#### SVC: Cross Validation"
   ]
  },
  {
   "cell_type": "code",
   "execution_count": 99,
   "id": "342bb560",
   "metadata": {},
   "outputs": [],
   "source": [
    "svc = SVC(kernel=\"linear\", C=2.0, random_state=0, class_weight='balanced')\n"
   ]
  },
  {
   "cell_type": "code",
   "execution_count": 100,
   "id": "b992a4bb",
   "metadata": {},
   "outputs": [
    {
     "data": {
      "text/plain": [
       "array([0.96301775, 0.96153846, 0.95857988, 0.93934911, 0.96301775,\n",
       "       0.96301775, 0.95703704, 0.96444444, 0.97185185, 0.97037037])"
      ]
     },
     "execution_count": 100,
     "metadata": {},
     "output_type": "execute_result"
    }
   ],
   "source": [
    "results = cross_val_score(svc ,X_train_val_matrix,train_val_data['CategoryId'], cv = folder)# Parameters are, in order - model, X data, labels (y), and the KFold object\n",
    "results"
   ]
  },
  {
   "cell_type": "code",
   "execution_count": 101,
   "id": "a502fc38",
   "metadata": {},
   "outputs": [
    {
     "data": {
      "text/html": [
       "<div>\n",
       "<style scoped>\n",
       "    .dataframe tbody tr th:only-of-type {\n",
       "        vertical-align: middle;\n",
       "    }\n",
       "\n",
       "    .dataframe tbody tr th {\n",
       "        vertical-align: top;\n",
       "    }\n",
       "\n",
       "    .dataframe thead th {\n",
       "        text-align: right;\n",
       "    }\n",
       "</style>\n",
       "<table border=\"1\" class=\"dataframe\">\n",
       "  <thead>\n",
       "    <tr style=\"text-align: right;\">\n",
       "      <th></th>\n",
       "      <th>Accuracy_per_fold</th>\n",
       "    </tr>\n",
       "  </thead>\n",
       "  <tbody>\n",
       "    <tr>\n",
       "      <th>0</th>\n",
       "      <td>0.963018</td>\n",
       "    </tr>\n",
       "    <tr>\n",
       "      <th>1</th>\n",
       "      <td>0.961538</td>\n",
       "    </tr>\n",
       "    <tr>\n",
       "      <th>2</th>\n",
       "      <td>0.958580</td>\n",
       "    </tr>\n",
       "    <tr>\n",
       "      <th>3</th>\n",
       "      <td>0.939349</td>\n",
       "    </tr>\n",
       "    <tr>\n",
       "      <th>4</th>\n",
       "      <td>0.963018</td>\n",
       "    </tr>\n",
       "    <tr>\n",
       "      <th>5</th>\n",
       "      <td>0.963018</td>\n",
       "    </tr>\n",
       "    <tr>\n",
       "      <th>6</th>\n",
       "      <td>0.957037</td>\n",
       "    </tr>\n",
       "    <tr>\n",
       "      <th>7</th>\n",
       "      <td>0.964444</td>\n",
       "    </tr>\n",
       "    <tr>\n",
       "      <th>8</th>\n",
       "      <td>0.971852</td>\n",
       "    </tr>\n",
       "    <tr>\n",
       "      <th>9</th>\n",
       "      <td>0.970370</td>\n",
       "    </tr>\n",
       "  </tbody>\n",
       "</table>\n",
       "</div>"
      ],
      "text/plain": [
       "   Accuracy_per_fold\n",
       "0           0.963018\n",
       "1           0.961538\n",
       "2           0.958580\n",
       "3           0.939349\n",
       "4           0.963018\n",
       "5           0.963018\n",
       "6           0.957037\n",
       "7           0.964444\n",
       "8           0.971852\n",
       "9           0.970370"
      ]
     },
     "execution_count": 101,
     "metadata": {},
     "output_type": "execute_result"
    }
   ],
   "source": [
    "output = pd.DataFrame(results, columns=[\"Accuracy_per_fold\"])\n",
    "output"
   ]
  },
  {
   "cell_type": "code",
   "execution_count": 102,
   "id": "4abf16f6",
   "metadata": {},
   "outputs": [
    {
     "name": "stdout",
     "output_type": "stream",
     "text": [
      "SVC: The average accuracy across folds is 96.12%\n"
     ]
    }
   ],
   "source": [
    "av_val = output[\"Accuracy_per_fold\"].mean()*100\n",
    "print(\"SVC: The average accuracy across folds is {}%\".format(round(av_val,2)))"
   ]
  },
  {
   "cell_type": "markdown",
   "id": "3ebe8e88",
   "metadata": {},
   "source": [
    "#### Logistic Regression: Cross Validation"
   ]
  },
  {
   "cell_type": "code",
   "execution_count": 103,
   "id": "595986c0",
   "metadata": {},
   "outputs": [],
   "source": [
    "l_reg_3 = LogisticRegression(solver='liblinear', random_state=0, class_weight='balanced')"
   ]
  },
  {
   "cell_type": "code",
   "execution_count": 104,
   "id": "143a3e0d",
   "metadata": {},
   "outputs": [
    {
     "data": {
      "text/plain": [
       "array([0.96301775, 0.96005917, 0.95857988, 0.95414201, 0.95857988,\n",
       "       0.96745562, 0.96148148, 0.96296296, 0.96888889, 0.97333333])"
      ]
     },
     "execution_count": 104,
     "metadata": {},
     "output_type": "execute_result"
    }
   ],
   "source": [
    "results_lr = cross_val_score(l_reg_3 ,X_train_val_matrix,train_val_data['CategoryId'], cv = folder)# Parameters are, in order - model, X data, labels (y), and the KFold object\n",
    "results_lr"
   ]
  },
  {
   "cell_type": "code",
   "execution_count": 105,
   "id": "08512a6a",
   "metadata": {},
   "outputs": [
    {
     "data": {
      "text/html": [
       "<div>\n",
       "<style scoped>\n",
       "    .dataframe tbody tr th:only-of-type {\n",
       "        vertical-align: middle;\n",
       "    }\n",
       "\n",
       "    .dataframe tbody tr th {\n",
       "        vertical-align: top;\n",
       "    }\n",
       "\n",
       "    .dataframe thead th {\n",
       "        text-align: right;\n",
       "    }\n",
       "</style>\n",
       "<table border=\"1\" class=\"dataframe\">\n",
       "  <thead>\n",
       "    <tr style=\"text-align: right;\">\n",
       "      <th></th>\n",
       "      <th>Accuracy_per_fold</th>\n",
       "    </tr>\n",
       "  </thead>\n",
       "  <tbody>\n",
       "    <tr>\n",
       "      <th>0</th>\n",
       "      <td>0.963018</td>\n",
       "    </tr>\n",
       "    <tr>\n",
       "      <th>1</th>\n",
       "      <td>0.960059</td>\n",
       "    </tr>\n",
       "    <tr>\n",
       "      <th>2</th>\n",
       "      <td>0.958580</td>\n",
       "    </tr>\n",
       "    <tr>\n",
       "      <th>3</th>\n",
       "      <td>0.954142</td>\n",
       "    </tr>\n",
       "    <tr>\n",
       "      <th>4</th>\n",
       "      <td>0.958580</td>\n",
       "    </tr>\n",
       "    <tr>\n",
       "      <th>5</th>\n",
       "      <td>0.967456</td>\n",
       "    </tr>\n",
       "    <tr>\n",
       "      <th>6</th>\n",
       "      <td>0.961481</td>\n",
       "    </tr>\n",
       "    <tr>\n",
       "      <th>7</th>\n",
       "      <td>0.962963</td>\n",
       "    </tr>\n",
       "    <tr>\n",
       "      <th>8</th>\n",
       "      <td>0.968889</td>\n",
       "    </tr>\n",
       "    <tr>\n",
       "      <th>9</th>\n",
       "      <td>0.973333</td>\n",
       "    </tr>\n",
       "  </tbody>\n",
       "</table>\n",
       "</div>"
      ],
      "text/plain": [
       "   Accuracy_per_fold\n",
       "0           0.963018\n",
       "1           0.960059\n",
       "2           0.958580\n",
       "3           0.954142\n",
       "4           0.958580\n",
       "5           0.967456\n",
       "6           0.961481\n",
       "7           0.962963\n",
       "8           0.968889\n",
       "9           0.973333"
      ]
     },
     "execution_count": 105,
     "metadata": {},
     "output_type": "execute_result"
    }
   ],
   "source": [
    "output = pd.DataFrame(results_lr, columns=[\"Accuracy_per_fold\"])\n",
    "output"
   ]
  },
  {
   "cell_type": "code",
   "execution_count": 106,
   "id": "f4dbf5c7",
   "metadata": {},
   "outputs": [
    {
     "name": "stdout",
     "output_type": "stream",
     "text": [
      "Logistic Regression: The average accuracy across folds is 96.29%\n"
     ]
    }
   ],
   "source": [
    "av_val_1 = output[\"Accuracy_per_fold\"].mean()*100\n",
    "print(\"Logistic Regression: The average accuracy across folds is {}%\".format(round(av_val_1,2)))"
   ]
  },
  {
   "cell_type": "markdown",
   "id": "90baa1ed",
   "metadata": {},
   "source": [
    "<span style=\"color:red\">Step 13</span>\n",
    "\n",
    "### Observations\n",
    "\n",
    "After performing cross-validation on both the classifers, I got that logistic regression model is performing slightly better the SVC classifier. One of the fold observation of SVC is predicting 93.9% accuracy while none of the accuracies of Logistic Regression came down more than 2 percent of the maximum predicted accuracy.\n",
    "\n",
    "Therefore, I will apply the **Logistic Regression** model on test data."
   ]
  },
  {
   "cell_type": "markdown",
   "id": "10cc55d0",
   "metadata": {},
   "source": [
    "### Loading and processing test data"
   ]
  },
  {
   "cell_type": "code",
   "execution_count": 107,
   "id": "b820f9d8",
   "metadata": {},
   "outputs": [],
   "source": [
    "test_data=pd.read_csv('test.csv')"
   ]
  },
  {
   "cell_type": "code",
   "execution_count": 108,
   "id": "8deb7317",
   "metadata": {},
   "outputs": [],
   "source": [
    "test_data.drop('Unnamed: 0',axis=1,inplace=True)"
   ]
  },
  {
   "cell_type": "code",
   "execution_count": 109,
   "id": "9342f126",
   "metadata": {},
   "outputs": [],
   "source": [
    "#Applying same pre-processing steps on test data\n",
    "test_data['description'] = test_data['description'].apply(remove_digits)\n",
    "test_data['description'] = test_data['description'].apply(remove_tags)\n",
    "test_data['description'] = test_data['description'].apply(special_char)\n",
    "test_data['description'] = test_data['description'].apply(convert_lower)\n",
    "test_data['description'] = test_data['description'].apply(remove_stopwords)\n",
    "test_data['description'] = test_data['description'].apply(lemmatize_word)"
   ]
  },
  {
   "cell_type": "code",
   "execution_count": 110,
   "id": "eec382ce",
   "metadata": {},
   "outputs": [],
   "source": [
    "X_test=test_data.loc[:,'description']\n",
    "y_test=test_data.loc[:,'CategoryId']"
   ]
  },
  {
   "cell_type": "code",
   "execution_count": 111,
   "id": "4d10a426",
   "metadata": {},
   "outputs": [],
   "source": [
    "X_test_matrix = vectorizer_1.transform(X_test)"
   ]
  },
  {
   "cell_type": "code",
   "execution_count": 112,
   "id": "1ea37afd",
   "metadata": {},
   "outputs": [],
   "source": [
    "with open('lr_model.pkl', 'rb') as f:\n",
    "    log_reg = pickle.load(f)"
   ]
  },
  {
   "cell_type": "code",
   "execution_count": 113,
   "id": "09683ee5",
   "metadata": {
    "scrolled": true
   },
   "outputs": [
    {
     "name": "stdout",
     "output_type": "stream",
     "text": [
      "Logistic Regression ::\n",
      "\n",
      "Confusion matrix for test data:\n",
      "\n",
      "               precision    recall  f1-score   support\n",
      "\n",
      "Home & Living       0.94      0.91      0.93       321\n",
      "     Wellness       0.97      0.98      0.97       872\n",
      "\n",
      "     accuracy                           0.96      1193\n",
      "    macro avg       0.95      0.95      0.95      1193\n",
      " weighted avg       0.96      0.96      0.96      1193\n",
      "\n"
     ]
    },
    {
     "data": {
      "image/png": "[encoded data removed]",
      "text/plain": [
       "<Figure size 864x432 with 2 Axes>"
      ]
     },
     "metadata": {
      "needs_background": "light"
     },
     "output_type": "display_data"
    }
   ],
   "source": [
    "# Changing X and y to evaluate the results of the Logistic Regression model on test data:\n",
    "X_cm = X_test_matrix\n",
    "y_true_labels = y_test\n",
    "model = log_reg\n",
    "\n",
    "# Predicting the y-variable i.e. y_pred based on the fitted model on X_test_matrix data\n",
    "#Plotting and visualizing the true lables and predicted labels in the confusion matrix\n",
    "y_pred_test = model.predict(X_cm)\n",
    "print(\"Logistic Regression ::\\n\")\n",
    "\n",
    "print(\"Confusion matrix for test data:\\n\")\n",
    "print(metrics.classification_report(y_true_labels, y_pred_test, target_names=['Home & Living', 'Wellness']))\n",
    "\n",
    "cm=confusion_matrix(y_true_labels, y_pred_test)\n",
    "plt.figure(figsize=(12,6))\n",
    "\n",
    "ax= plt.subplot()\n",
    "sns.heatmap(cm, annot=True, fmt='g', ax=ax); \n",
    "ax.set_xlabel('Predicted labels');ax.set_ylabel('True labels'); \n",
    "ax.set_title('Confusion Matrix'); \n",
    "ax.xaxis.set_ticklabels(['Home & Living', 'Wellness']); ax.yaxis.set_ticklabels(['Home & Living', 'Wellness']);"
   ]
  },
  {
   "cell_type": "markdown",
   "id": "6ae374ab",
   "metadata": {},
   "source": [
    "### Observations: Validation v/s Test Performance\n",
    "\n",
    "The test data results like precision, f1-scores, accuracy were similar to that of the validation data with some slight variation in the classification i.e. scores on validation data showed slightly better performance than on test data. For instance, if accuracy for validation is predicted 97% then for test it is 96%. And same cases with precision and f1-scores.\n",
    "\n",
    "While if I consider **false negative** (28 data points aren't predicted as Home & Living even though they are) in the confusion matrix then it's quite different. As you can see above that 16 data points of Home & Living category were mis-classified as Wellness for validation data whereas 28 data points were mis-classified as Wellness for test data. Therefore, model showed **better Recall** score on **validation dataset as compared to test dataset**. However, the cumulative accuracies and f1-scores doesn't vary much.\n",
    "\n",
    "I think it's because the model's hyperparameters were tuned specifically for the validation dataset. Overall, I will consider them as good results."
   ]
  },
  {
   "cell_type": "markdown",
   "id": "aefc0dd6",
   "metadata": {},
   "source": [
    "<span style=\"color:red\">Step 14</span>\n",
    "\n",
    "### Re-training LR model on Train+Validation data"
   ]
  },
  {
   "cell_type": "code",
   "execution_count": 114,
   "id": "29b4bee8",
   "metadata": {},
   "outputs": [
    {
     "data": {
      "text/html": [
       "<style>#sk-container-id-7 {color: black;background-color: white;}#sk-container-id-7 pre{padding: 0;}#sk-container-id-7 div.sk-toggleable {background-color: white;}#sk-container-id-7 label.sk-toggleable__label {cursor: pointer;display: block;width: 100%;margin-bottom: 0;padding: 0.3em;box-sizing: border-box;text-align: center;}#sk-container-id-7 label.sk-toggleable__label-arrow:before {content: \"▸\";float: left;margin-right: 0.25em;color: #696969;}#sk-container-id-7 label.sk-toggleable__label-arrow:hover:before {color: black;}#sk-container-id-7 div.sk-estimator:hover label.sk-toggleable__label-arrow:before {color: black;}#sk-container-id-7 div.sk-toggleable__content {max-height: 0;max-width: 0;overflow: hidden;text-align: left;background-color: #f0f8ff;}#sk-container-id-7 div.sk-toggleable__content pre {margin: 0.2em;color: black;border-radius: 0.25em;background-color: #f0f8ff;}#sk-container-id-7 input.sk-toggleable__control:checked~div.sk-toggleable__content {max-height: 200px;max-width: 100%;overflow: auto;}#sk-container-id-7 input.sk-toggleable__control:checked~label.sk-toggleable__label-arrow:before {content: \"▾\";}#sk-container-id-7 div.sk-estimator input.sk-toggleable__control:checked~label.sk-toggleable__label {background-color: #d4ebff;}#sk-container-id-7 div.sk-label input.sk-toggleable__control:checked~label.sk-toggleable__label {background-color: #d4ebff;}#sk-container-id-7 input.sk-hidden--visually {border: 0;clip: rect(1px 1px 1px 1px);clip: rect(1px, 1px, 1px, 1px);height: 1px;margin: -1px;overflow: hidden;padding: 0;position: absolute;width: 1px;}#sk-container-id-7 div.sk-estimator {font-family: monospace;background-color: #f0f8ff;border: 1px dotted black;border-radius: 0.25em;box-sizing: border-box;margin-bottom: 0.5em;}#sk-container-id-7 div.sk-estimator:hover {background-color: #d4ebff;}#sk-container-id-7 div.sk-parallel-item::after {content: \"\";width: 100%;border-bottom: 1px solid gray;flex-grow: 1;}#sk-container-id-7 div.sk-label:hover label.sk-toggleable__label {background-color: #d4ebff;}#sk-container-id-7 div.sk-serial::before {content: \"\";position: absolute;border-left: 1px solid gray;box-sizing: border-box;top: 0;bottom: 0;left: 50%;z-index: 0;}#sk-container-id-7 div.sk-serial {display: flex;flex-direction: column;align-items: center;background-color: white;padding-right: 0.2em;padding-left: 0.2em;position: relative;}#sk-container-id-7 div.sk-item {position: relative;z-index: 1;}#sk-container-id-7 div.sk-parallel {display: flex;align-items: stretch;justify-content: center;background-color: white;position: relative;}#sk-container-id-7 div.sk-item::before, #sk-container-id-7 div.sk-parallel-item::before {content: \"\";position: absolute;border-left: 1px solid gray;box-sizing: border-box;top: 0;bottom: 0;left: 50%;z-index: -1;}#sk-container-id-7 div.sk-parallel-item {display: flex;flex-direction: column;z-index: 1;position: relative;background-color: white;}#sk-container-id-7 div.sk-parallel-item:first-child::after {align-self: flex-end;width: 50%;}#sk-container-id-7 div.sk-parallel-item:last-child::after {align-self: flex-start;width: 50%;}#sk-container-id-7 div.sk-parallel-item:only-child::after {width: 0;}#sk-container-id-7 div.sk-dashed-wrapped {border: 1px dashed gray;margin: 0 0.4em 0.5em 0.4em;box-sizing: border-box;padding-bottom: 0.4em;background-color: white;}#sk-container-id-7 div.sk-label label {font-family: monospace;font-weight: bold;display: inline-block;line-height: 1.2em;}#sk-container-id-7 div.sk-label-container {text-align: center;}#sk-container-id-7 div.sk-container {/* jupyter's `normalize.less` sets `[hidden] { display: none; }` but bootstrap.min.css set `[hidden] { display: none !important; }` so we also need the `!important` here to be able to override the default hidden behavior on the sphinx rendered scikit-learn.org. See: https://github.com/scikit-learn/scikit-learn/issues/21755 */display: inline-block !important;position: relative;}#sk-container-id-7 div.sk-text-repr-fallback {display: none;}</style><div id=\"sk-container-id-7\" class=\"sk-top-container\"><div class=\"sk-text-repr-fallback\"><pre>LogisticRegression(class_weight=&#x27;balanced&#x27;, random_state=0, solver=&#x27;liblinear&#x27;)</pre><b>In a Jupyter environment, please rerun this cell to show the HTML representation or trust the notebook. <br />On GitHub, the HTML representation is unable to render, please try loading this page with nbviewer.org.</b></div><div class=\"sk-container\" hidden><div class=\"sk-item\"><div class=\"sk-estimator sk-toggleable\"><input class=\"sk-toggleable__control sk-hidden--visually\" id=\"sk-estimator-id-7\" type=\"checkbox\" checked><label for=\"sk-estimator-id-7\" class=\"sk-toggleable__label sk-toggleable__label-arrow\">LogisticRegression</label><div class=\"sk-toggleable__content\"><pre>LogisticRegression(class_weight=&#x27;balanced&#x27;, random_state=0, solver=&#x27;liblinear&#x27;)</pre></div></div></div></div></div>"
      ],
      "text/plain": [
       "LogisticRegression(class_weight='balanced', random_state=0, solver='liblinear')"
      ]
     },
     "execution_count": 114,
     "metadata": {},
     "output_type": "execute_result"
    }
   ],
   "source": [
    "l_reg_final = LogisticRegression(solver='liblinear', random_state=0, class_weight='balanced')\n",
    "l_reg_final.fit(X_train_val_matrix,train_val_data['CategoryId'])"
   ]
  },
  {
   "cell_type": "code",
   "execution_count": 115,
   "id": "6c755062",
   "metadata": {},
   "outputs": [],
   "source": [
    "X_test_matrix_2 = vectorizer_2.transform(test_data['description'])"
   ]
  },
  {
   "cell_type": "code",
   "execution_count": 116,
   "id": "10ea1aa9",
   "metadata": {},
   "outputs": [
    {
     "name": "stdout",
     "output_type": "stream",
     "text": [
      "Logistic Regression ::\n",
      "\n",
      "Confusion matrix for test data:\n",
      "\n",
      "               precision    recall  f1-score   support\n",
      "\n",
      "Home & Living       0.94      0.92      0.93       321\n",
      "     Wellness       0.97      0.98      0.97       872\n",
      "\n",
      "     accuracy                           0.96      1193\n",
      "    macro avg       0.95      0.95      0.95      1193\n",
      " weighted avg       0.96      0.96      0.96      1193\n",
      "\n"
     ]
    },
    {
     "data": {
      "image/png": "[encoded data removed]",
      "text/plain": [
       "<Figure size 864x432 with 2 Axes>"
      ]
     },
     "metadata": {
      "needs_background": "light"
     },
     "output_type": "display_data"
    }
   ],
   "source": [
    "# Changing X and y to evaluate the results of the Logistic Regression model on test data:\n",
    "X_cm = X_test_matrix_2\n",
    "y_true_labels = y_test\n",
    "model = l_reg_final\n",
    "\n",
    "# Predicting the y-variable i.e. y_pred based on the fitted model on X_test_matrix_2 data\n",
    "#Plotting and visualizing the true lables and predicted labels in the confusion matrix\n",
    "y_pred_test = model.predict(X_cm)\n",
    "print(\"Logistic Regression ::\\n\")\n",
    "\n",
    "print(\"Confusion matrix for test data:\\n\")\n",
    "print(metrics.classification_report(y_true_labels, y_pred_test, target_names=['Home & Living', 'Wellness']))\n",
    "\n",
    "cm=confusion_matrix(y_true_labels, y_pred_test)\n",
    "plt.figure(figsize=(12,6))\n",
    "ax= plt.subplot()\n",
    "sns.heatmap(cm, annot=True, fmt='g', ax=ax, cmap=\"Blues\"); \n",
    "ax.set_xlabel('Predicted labels');ax.set_ylabel('True labels'); \n",
    "ax.set_title('Confusion Matrix'); \n",
    "ax.xaxis.set_ticklabels(['Home & Living', 'Wellness']); ax.yaxis.set_ticklabels(['Home & Living', 'Wellness']);"
   ]
  },
  {
   "cell_type": "markdown",
   "id": "279c391c",
   "metadata": {},
   "source": [
    "### Observations\n",
    "\n",
    "I didn't find much difference in the classification report metrics for test data evaluations when tested on model fitted with **train data vs train+validation** data. The only changes which I can notice is that **Recall** score for \"Home & Living\" has increased when tested against train+validation data. Earlier it was 91% and now it's 92%.\n",
    "\n",
    "Moreover, in the confusion matrix you can see that after using more data, it is classifying 3 more correct classifications for the minority class (Home&Living) without affecting majority class (Wellness). So, **increased recall** score on Home & Living category."
   ]
  },
  {
   "cell_type": "markdown",
   "id": "a6c91594",
   "metadata": {},
   "source": [
    "### Let's predict category of new articles"
   ]
  },
  {
   "cell_type": "code",
   "execution_count": 117,
   "id": "50a456de",
   "metadata": {},
   "outputs": [],
   "source": [
    "# Home & Living example: https://www.huffpost.com/entry/how-to-make-home-fancy-hotel_l_62b21aa0e4b06594c1dc6306\n",
    "# Headline+Short Description\n",
    "\n",
    "example=\"How To Make Your Home Feel Like A Fancy Hotel Want to re-create that relaxing vacation environment back home? Follow these expert-backed tips.\"\n",
    "example=example.lower()"
   ]
  },
  {
   "cell_type": "code",
   "execution_count": 118,
   "id": "07182704",
   "metadata": {},
   "outputs": [],
   "source": [
    "my_vec=vectorizer_2.transform([example])\n",
    "text_arr=my_vec.toarray()"
   ]
  },
  {
   "cell_type": "code",
   "execution_count": 119,
   "id": "80cbf0cc",
   "metadata": {},
   "outputs": [
    {
     "data": {
      "text/plain": [
       "array([0], dtype=int64)"
      ]
     },
     "execution_count": 119,
     "metadata": {},
     "output_type": "execute_result"
    }
   ],
   "source": [
    "#Correctly predicted the category i.e. 0 = Home & Living\n",
    "\n",
    "l_reg_final.predict(text_arr)"
   ]
  },
  {
   "cell_type": "code",
   "execution_count": 120,
   "id": "5b6a8c59",
   "metadata": {},
   "outputs": [],
   "source": [
    "# Wellness category example: https://www.huffpost.com/entry/habits-causing-back-pain_l_62c864ece4b0d740198339e8\n",
    "# Headline+Short Description\n",
    "\n",
    "example_2=\"10 Mindless Habits That May Be Causing You Back Pain If your upper, middle or lower back aches, these behaviors might be the culprit.\"\n",
    "example_2=example_2.lower()"
   ]
  },
  {
   "cell_type": "code",
   "execution_count": 121,
   "id": "4a49f7d3",
   "metadata": {},
   "outputs": [],
   "source": [
    "my_vec=vectorizer_2.transform([example_2])\n",
    "text_arr_2=my_vec.toarray()"
   ]
  },
  {
   "cell_type": "code",
   "execution_count": 122,
   "id": "78f39e31",
   "metadata": {},
   "outputs": [
    {
     "data": {
      "text/plain": [
       "array([1], dtype=int64)"
      ]
     },
     "execution_count": 122,
     "metadata": {},
     "output_type": "execute_result"
    }
   ],
   "source": [
    "#Correctly predicted the category i.e. 1 = Wellness\n",
    "\n",
    "l_reg_final.predict(text_arr_2)"
   ]
  }
 ],
 "metadata": {
  "kernelspec": {
   "display_name": "Python 3 (ipykernel)",
   "language": "python",
   "name": "python3"
  },
  "language_info": {
   "codemirror_mode": {
    "name": "ipython",
    "version": 3
   },
   "file_extension": ".py",
   "mimetype": "text/x-python",
   "name": "python",
   "nbconvert_exporter": "python",
   "pygments_lexer": "ipython3",
   "version": "3.9.7"
  }
 },
 "nbformat": 4,
 "nbformat_minor": 5
}
